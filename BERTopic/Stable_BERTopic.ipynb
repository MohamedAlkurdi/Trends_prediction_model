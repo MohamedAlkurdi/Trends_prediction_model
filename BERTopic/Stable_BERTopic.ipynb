{
 "cells": [
  {
   "cell_type": "code",
   "execution_count": 97,
   "metadata": {},
   "outputs": [],
   "source": [
    "from bertopic import BERTopic\n",
    "import pandas as pd\n",
    "from sentence_transformers import SentenceTransformer\n",
    "from umap import UMAP\n",
    "from hdbscan import HDBSCAN\n",
    "from sklearn.feature_extraction.text import CountVectorizer\n",
    "from bertopic.representation import KeyBERTInspired, MaximalMarginalRelevance, PartOfSpeech\n",
    "import matplotlib.pyplot as plt\n",
    "import seaborn as sns\n",
    "from utils import clean_traffic\n"
   ]
  },
  {
   "cell_type": "code",
   "execution_count": 98,
   "metadata": {},
   "outputs": [],
   "source": [
    "\n",
    "def most_visited_topic_cluster(df,topics_count):\n",
    "    topic_stats = df.groupby('topic')['traffic_numeric'].agg(['mean', 'median'])\n",
    "    max = {\"mean\":0,\"topic\":None}\n",
    "    r = range(0,topics_count)\n",
    "    for i in r:\n",
    "        element = topic_stats['mean'][i]\n",
    "        comp = max[\"mean\"]\n",
    "        if element >= comp:\n",
    "            max['mean'] = element\n",
    "            max['topic'] = i\n",
    "    return max\n",
    "\n",
    "def max_element(List):\n",
    "    list_max_element = 0\n",
    "    for e in List:\n",
    "        if e > list_max_element:\n",
    "            list_max_element = e\n",
    "    return list_max_element"
   ]
  },
  {
   "cell_type": "code",
   "execution_count": null,
   "metadata": {},
   "outputs": [],
   "source": [
    "data = pd.read_csv(\"../preprocssed_data/cleaned_data_USA.csv\")    \n",
    "dataFrame = data[['newsTitle']]\n",
    "strings_list = [item[0] for item in dataFrame.values.tolist()]\n"
   ]
  },
  {
   "cell_type": "code",
   "execution_count": 3,
   "metadata": {},
   "outputs": [
    {
     "name": "stderr",
     "output_type": "stream",
     "text": [
      "Batches: 100%|██████████| 94/94 [00:09<00:00,  9.73it/s]\n"
     ]
    }
   ],
   "source": [
    "embedding_model = SentenceTransformer(\"all-MiniLM-L6-v2\")\n",
    "embeddings = embedding_model.encode(strings_list, show_progress_bar=True)"
   ]
  },
  {
   "cell_type": "code",
   "execution_count": 4,
   "metadata": {},
   "outputs": [],
   "source": [
    "umap_model = UMAP(n_neighbors=15, n_components=5, min_dist=0.0, metric='cosine', random_state=42)"
   ]
  },
  {
   "cell_type": "code",
   "execution_count": 5,
   "metadata": {},
   "outputs": [],
   "source": [
    "hdbscan_model = HDBSCAN(min_cluster_size=10, metric='euclidean', cluster_selection_method='eom', prediction_data=True)"
   ]
  },
  {
   "cell_type": "code",
   "execution_count": 6,
   "metadata": {},
   "outputs": [],
   "source": [
    "vectorizer_model = CountVectorizer(stop_words=\"english\")"
   ]
  },
  {
   "cell_type": "code",
   "execution_count": 7,
   "metadata": {},
   "outputs": [],
   "source": [
    "\n",
    "# KeyBERT\n",
    "keybert_model = KeyBERTInspired()\n",
    "\n",
    "# Part-of-Speech\n",
    "pos_model = PartOfSpeech(\"en_core_web_sm\")\n",
    "\n",
    "# MMR\n",
    "mmr_model = MaximalMarginalRelevance(diversity=0.3)\n",
    "\n",
    "# All representation models\n",
    "representation_model = {\n",
    "    \"KeyBERT\": keybert_model,\n",
    "    \"MMR\": mmr_model,\n",
    "    \"POS\": pos_model\n",
    "}"
   ]
  },
  {
   "cell_type": "code",
   "execution_count": 8,
   "metadata": {},
   "outputs": [
    {
     "name": "stderr",
     "output_type": "stream",
     "text": [
      "2024-11-26 19:57:48,935 - BERTopic - Embedding - Transforming documents to embeddings.\n",
      "Batches: 100%|██████████| 94/94 [00:09<00:00,  9.76it/s]\n",
      "2024-11-26 19:57:58,599 - BERTopic - Embedding - Completed ✓\n",
      "2024-11-26 19:57:58,600 - BERTopic - Dimensionality - Fitting the dimensionality reduction algorithm\n",
      "2024-11-26 19:58:17,027 - BERTopic - Dimensionality - Completed ✓\n",
      "2024-11-26 19:58:17,029 - BERTopic - Cluster - Start clustering the reduced embeddings\n",
      "2024-11-26 19:58:17,166 - BERTopic - Cluster - Completed ✓\n",
      "2024-11-26 19:58:17,176 - BERTopic - Representation - Extracting topics from clusters using representation models.\n",
      "2024-11-26 19:58:25,374 - BERTopic - Representation - Completed ✓\n"
     ]
    },
    {
     "data": {
      "text/html": [
       "<div>\n",
       "<style scoped>\n",
       "    .dataframe tbody tr th:only-of-type {\n",
       "        vertical-align: middle;\n",
       "    }\n",
       "\n",
       "    .dataframe tbody tr th {\n",
       "        vertical-align: top;\n",
       "    }\n",
       "\n",
       "    .dataframe thead th {\n",
       "        text-align: right;\n",
       "    }\n",
       "</style>\n",
       "<table border=\"1\" class=\"dataframe\">\n",
       "  <thead>\n",
       "    <tr style=\"text-align: right;\">\n",
       "      <th></th>\n",
       "      <th>Topic</th>\n",
       "      <th>Count</th>\n",
       "      <th>Name</th>\n",
       "      <th>Representation</th>\n",
       "      <th>KeyBERT</th>\n",
       "      <th>MMR</th>\n",
       "      <th>POS</th>\n",
       "      <th>Representative_Docs</th>\n",
       "    </tr>\n",
       "  </thead>\n",
       "  <tbody>\n",
       "    <tr>\n",
       "      <th>0</th>\n",
       "      <td>-1</td>\n",
       "      <td>968</td>\n",
       "      <td>-1_new_know_watch_says</td>\n",
       "      <td>[new, know, watch, says, day, star, video, tim...</td>\n",
       "      <td>[2017, premiere, watch, channel, live, instagr...</td>\n",
       "      <td>[watch, star, 2017, birthday, season, jenner, ...</td>\n",
       "      <td>[new, star, video, time, years, people, birthd...</td>\n",
       "      <td>[Watch 2017 Rose Bowl Parade Live Online Start...</td>\n",
       "    </tr>\n",
       "    <tr>\n",
       "      <th>1</th>\n",
       "      <td>0</td>\n",
       "      <td>322</td>\n",
       "      <td>0_trump_donald_trumps_obama</td>\n",
       "      <td>[trump, donald, trumps, obama, inauguration, s...</td>\n",
       "      <td>[donald, trump, ivanka, inauguration, trumps, ...</td>\n",
       "      <td>[trumps, obama, inauguration, snl, sean, secre...</td>\n",
       "      <td>[inauguration, president, secretary, security,...</td>\n",
       "      <td>[Are we really stuck with President Donald Tru...</td>\n",
       "    </tr>\n",
       "    <tr>\n",
       "      <th>2</th>\n",
       "      <td>1</td>\n",
       "      <td>213</td>\n",
       "      <td>1_nfl_super_patriots_bowl</td>\n",
       "      <td>[nfl, super, patriots, bowl, draft, packers, c...</td>\n",
       "      <td>[nfl, falcons, packers, cowboys, seahawks, red...</td>\n",
       "      <td>[nfl, patriots, packers, cowboys, seahawks, ch...</td>\n",
       "      <td>[draft, playoff, loss, playoffs, score, team, ...</td>\n",
       "      <td>[2017 NFL Playoff Odds Atlanta Falcons Vs Gree...</td>\n",
       "    </tr>\n",
       "    <tr>\n",
       "      <th>3</th>\n",
       "      <td>2</td>\n",
       "      <td>179</td>\n",
       "      <td>2_nba_warriors_game_lebron</td>\n",
       "      <td>[nba, warriors, game, lebron, cavaliers, cavs,...</td>\n",
       "      <td>[cavs, nba, lebron, nbas, cavaliers, warriors,...</td>\n",
       "      <td>[nba, warriors, lebron, cavaliers, cavs, trade...</td>\n",
       "      <td>[trade, points, playoffs, win, rest, rumors, t...</td>\n",
       "      <td>[NBA schedule, Draymond flattens LeBron as War...</td>\n",
       "    </tr>\n",
       "    <tr>\n",
       "      <th>4</th>\n",
       "      <td>3</td>\n",
       "      <td>173</td>\n",
       "      <td>3_basketball_ncaa_tournament_bowl</td>\n",
       "      <td>[basketball, ncaa, tournament, bowl, state, co...</td>\n",
       "      <td>[ncaa, clemson, uconn, louisville, ucla, gonza...</td>\n",
       "      <td>[ncaa, tournament, carolina, duke, gonzaga, us...</td>\n",
       "      <td>[basketball, tournament, bowl, state, college,...</td>\n",
       "      <td>[College Football Playoff Clemson vs Ohio Stat...</td>\n",
       "    </tr>\n",
       "    <tr>\n",
       "      <th>5</th>\n",
       "      <td>4</td>\n",
       "      <td>106</td>\n",
       "      <td>4_day_patricks_2017_easter</td>\n",
       "      <td>[day, patricks, 2017, easter, st, friday, chri...</td>\n",
       "      <td>[holiday, christmas, walmart, st, friday, star...</td>\n",
       "      <td>[patricks, easter, st, friday, christmas, pizz...</td>\n",
       "      <td>[day, year, hours, deals, food, open, free, qu...</td>\n",
       "      <td>[A History Of St Patricks Day In Minnesota, Ne...</td>\n",
       "    </tr>\n",
       "    <tr>\n",
       "      <th>6</th>\n",
       "      <td>5</td>\n",
       "      <td>95</td>\n",
       "      <td>5_barcelona_madrid_real_fc</td>\n",
       "      <td>[barcelona, madrid, real, fc, league, vs, cup,...</td>\n",
       "      <td>[barcelona, barcelonas, atletico, madrid, sevi...</td>\n",
       "      <td>[madrid, fc, league, liga, champions, arsenal,...</td>\n",
       "      <td>[goals, hard, nonleague, scores, win, stats, w...</td>\n",
       "      <td>[La Liga Luis Suarez double keeps FC Barcelona...</td>\n",
       "    </tr>\n",
       "    <tr>\n",
       "      <th>7</th>\n",
       "      <td>6</td>\n",
       "      <td>93</td>\n",
       "      <td>6_dies_dead_death_star</td>\n",
       "      <td>[dies, dead, death, star, age, 67, actor, died...</td>\n",
       "      <td>[deaths, died, dies, death, dead, actress, cel...</td>\n",
       "      <td>[dies, dead, 67, actor, died, deaths, george, ...</td>\n",
       "      <td>[dead, death, star, actor, pop, deaths, heart,...</td>\n",
       "      <td>[Bollywood Star Vinod Khanna Dies at 70, Inter...</td>\n",
       "    </tr>\n",
       "    <tr>\n",
       "      <th>8</th>\n",
       "      <td>7</td>\n",
       "      <td>65</td>\n",
       "      <td>7_globes_golden_awards_oscars</td>\n",
       "      <td>[globes, golden, awards, oscars, oscar, wins, ...</td>\n",
       "      <td>[emmy, awards, oscar, nominations, oscarsnubbe...</td>\n",
       "      <td>[awards, oscars, oscar, 2017, grammys, denzel,...</td>\n",
       "      <td>[best, winners, tribute, speeches, actor, carp...</td>\n",
       "      <td>[Sarah Paulson Wins Best Actress in a Limited ...</td>\n",
       "    </tr>\n",
       "    <tr>\n",
       "      <th>9</th>\n",
       "      <td>8</td>\n",
       "      <td>57</td>\n",
       "      <td>8_trailer_movie_batman_marvel</td>\n",
       "      <td>[trailer, movie, batman, marvel, logan, rogue,...</td>\n",
       "      <td>[trailer, logan, homecoming, spiderman, premie...</td>\n",
       "      <td>[trailer, batman, marvel, logan, rogue, homeco...</td>\n",
       "      <td>[trailer, review, new, things, footage, creepy...</td>\n",
       "      <td>[Details of the Final Bloody Logan Trailer, Ro...</td>\n",
       "    </tr>\n",
       "    <tr>\n",
       "      <th>10</th>\n",
       "      <td>9</td>\n",
       "      <td>51</td>\n",
       "      <td>9_tour_album_kendrick_announces</td>\n",
       "      <td>[tour, album, kendrick, announces, mixtape, li...</td>\n",
       "      <td>[kendrick, album, mixtape, concert, tour, song...</td>\n",
       "      <td>[album, kendrick, mixtape, lineup, concert, me...</td>\n",
       "      <td>[tour, album, lineup, new, concert, dates, pil...</td>\n",
       "      <td>[Kendrick Lamars Damn Everything we know about...</td>\n",
       "    </tr>\n",
       "    <tr>\n",
       "      <th>11</th>\n",
       "      <td>10</td>\n",
       "      <td>40</td>\n",
       "      <td>10_victorias_secret_topless_bella</td>\n",
       "      <td>[victorias, secret, topless, bella, naked, emm...</td>\n",
       "      <td>[victorias, lingerie, fashion, dresses, dress,...</td>\n",
       "      <td>[victorias, bella, emma, playboy, ashley, mode...</td>\n",
       "      <td>[topless, naked, photos, shoot, model, photo, ...</td>\n",
       "      <td>[Emma Watson Defends Posing Nearly Topless for...</td>\n",
       "    </tr>\n",
       "    <tr>\n",
       "      <th>12</th>\n",
       "      <td>11</td>\n",
       "      <td>39</td>\n",
       "      <td>11_arrested_prison_released_hernandez</td>\n",
       "      <td>[arrested, prison, released, hernandez, charge...</td>\n",
       "      <td>[jail, jailed, arrested, prison, sentenced, pr...</td>\n",
       "      <td>[arrested, hernandez, jail, kodak, rapper, chi...</td>\n",
       "      <td>[prison, charges, jail, rape, probation, bail,...</td>\n",
       "      <td>[What are the chances Aaron Hernandez gets out...</td>\n",
       "    </tr>\n",
       "    <tr>\n",
       "      <th>13</th>\n",
       "      <td>12</td>\n",
       "      <td>32</td>\n",
       "      <td>12_pregnant_child_expecting_baby</td>\n",
       "      <td>[pregnant, child, expecting, baby, serena, cia...</td>\n",
       "      <td>[pregnant, pregnancy, unborn, amanda, sophie, ...</td>\n",
       "      <td>[pregnant, expecting, serena, ciara, jenelle, ...</td>\n",
       "      <td>[child, baby, unborn, pregnancy, 2s, twins, da...</td>\n",
       "      <td>[Amanda Seyfried is expecting a baby with Thom...</td>\n",
       "    </tr>\n",
       "    <tr>\n",
       "      <th>14</th>\n",
       "      <td>13</td>\n",
       "      <td>31</td>\n",
       "      <td>13_foot_federer_roger_australian</td>\n",
       "      <td>[foot, federer, roger, australian, open, nadal...</td>\n",
       "      <td>[federer, nadal, tennis, rosberg, foot, roger,...</td>\n",
       "      <td>[federer, roger, nadal, venus, daytona, tennis...</td>\n",
       "      <td>[foot, seed, win, loudest, column, demolition,...</td>\n",
       "      <td>[Roger Federer and Rafael Nadal Breathe New Li...</td>\n",
       "    </tr>\n",
       "    <tr>\n",
       "      <th>15</th>\n",
       "      <td>14</td>\n",
       "      <td>31</td>\n",
       "      <td>14_musk_elon_stock_rocket</td>\n",
       "      <td>[musk, elon, stock, rocket, tesla, earnings, s...</td>\n",
       "      <td>[musk, musks, tesla, teslas, rocket, spacex, s...</td>\n",
       "      <td>[musk, elon, tesla, earnings, aapl, verizon, s...</td>\n",
       "      <td>[stock, rocket, reusable, users, revenue, bar,...</td>\n",
       "      <td>[Amber Heard and Tesla Founder Elon Musk Show ...</td>\n",
       "    </tr>\n",
       "    <tr>\n",
       "      <th>16</th>\n",
       "      <td>15</td>\n",
       "      <td>30</td>\n",
       "      <td>15_police_shooting_killed_shot</td>\n",
       "      <td>[police, shooting, killed, shot, gunman, man, ...</td>\n",
       "      <td>[shooting, shooter, gunshots, gunman, shooting...</td>\n",
       "      <td>[police, shooting, gunshots, wounded, attack, ...</td>\n",
       "      <td>[police, shooting, gunman, man, suspect, fatal...</td>\n",
       "      <td>[Gunman Who Shot 3 at Zurich Islamic Center Is...</td>\n",
       "    </tr>\n",
       "    <tr>\n",
       "      <th>17</th>\n",
       "      <td>16</td>\n",
       "      <td>30</td>\n",
       "      <td>16_la_que_se_el</td>\n",
       "      <td>[la, que, se, el, feliz, día, américa, por, en...</td>\n",
       "      <td>[presentadora, nuevo, es, muerto, una, novio, ...</td>\n",
       "      <td>[el, feliz, por, es, una, nuevo, tigres, los, ...</td>\n",
       "      <td>[que, por, año, tres, durante, sobre, celebra,...</td>\n",
       "      <td>[Se mofan de CNN por desear muerte de Trump pa...</td>\n",
       "    </tr>\n",
       "    <tr>\n",
       "      <th>18</th>\n",
       "      <td>17</td>\n",
       "      <td>29</td>\n",
       "      <td>17_mlb_opening_phillies_tebow</td>\n",
       "      <td>[mlb, opening, phillies, tebow, homer, cubs, t...</td>\n",
       "      <td>[inning, mets, mlb, phillies, braves, cubs, ba...</td>\n",
       "      <td>[mlb, phillies, tebow, cubs, sox, braves, card...</td>\n",
       "      <td>[homer, minor, games, plan, record, thumping, ...</td>\n",
       "      <td>[Just one game Tim Tebow fends off hype after ...</td>\n",
       "    </tr>\n",
       "    <tr>\n",
       "      <th>19</th>\n",
       "      <td>18</td>\n",
       "      <td>29</td>\n",
       "      <td>18_recap_premiere_finale_season</td>\n",
       "      <td>[recap, premiere, finale, season, walking, ser...</td>\n",
       "      <td>[finale, ending, premiere, episode, shadowhunt...</td>\n",
       "      <td>[finale, walking, episode, bates, motel, jace,...</td>\n",
       "      <td>[recap, premiere, finale, season, series, epis...</td>\n",
       "      <td>[Star premiere recap Pilot, Shadowhunters Reca...</td>\n",
       "    </tr>\n",
       "    <tr>\n",
       "      <th>20</th>\n",
       "      <td>19</td>\n",
       "      <td>28</td>\n",
       "      <td>19_bruins_nhl_game_penguins</td>\n",
       "      <td>[bruins, nhl, game, penguins, senators, series...</td>\n",
       "      <td>[bruins, leafs, nhl, pavel, playoffs, postseas...</td>\n",
       "      <td>[bruins, nhl, penguins, rangers, crosby, jacke...</td>\n",
       "      <td>[series, playoffs, preview, loss, late, narrat...</td>\n",
       "      <td>[CapitalsMaple Leafs Game 3 preview Can Washin...</td>\n",
       "    </tr>\n",
       "    <tr>\n",
       "      <th>21</th>\n",
       "      <td>20</td>\n",
       "      <td>26</td>\n",
       "      <td>20_ufc_fight_conor_decision</td>\n",
       "      <td>[ufc, fight, conor, decision, results, mcgrego...</td>\n",
       "      <td>[ufc, conor, tko, mcgregor, welterweight, rous...</td>\n",
       "      <td>[ufc, fight, conor, mcgregor, 207, mayweather,...</td>\n",
       "      <td>[fight, decision, results, card, title, second...</td>\n",
       "      <td>[UFC 208 Results Winners Scorecards from Holm ...</td>\n",
       "    </tr>\n",
       "    <tr>\n",
       "      <th>22</th>\n",
       "      <td>21</td>\n",
       "      <td>24</td>\n",
       "      <td>21_weather_forecast_winter_snow</td>\n",
       "      <td>[weather, forecast, winter, snow, snowstorm, s...</td>\n",
       "      <td>[weather, forecast, snowstorm, forecasting, sp...</td>\n",
       "      <td>[weather, forecast, snowstorm, storm, rain, no...</td>\n",
       "      <td>[weather, forecast, winter, snowstorm, snow, a...</td>\n",
       "      <td>[Southern California weather forecast  Los Ang...</td>\n",
       "    </tr>\n",
       "    <tr>\n",
       "      <th>23</th>\n",
       "      <td>22</td>\n",
       "      <td>22</td>\n",
       "      <td>22_pokémon_switch_nes_ios</td>\n",
       "      <td>[pokémon, switch, nes, ios, nintendos, nintend...</td>\n",
       "      <td>[nintendo, nintendos, nes, pokémon, pokemon, g...</td>\n",
       "      <td>[pokémon, nes, ios, nintendo, apple, ipad, upd...</td>\n",
       "      <td>[new, console, display, today, 21st, 97inch, d...</td>\n",
       "      <td>[Nintendos Switch reimagines the home console ...</td>\n",
       "    </tr>\n",
       "    <tr>\n",
       "      <th>24</th>\n",
       "      <td>23</td>\n",
       "      <td>21</td>\n",
       "      <td>23_school_closings_delays_county</td>\n",
       "      <td>[school, closings, delays, county, schools, se...</td>\n",
       "      <td>[closings, closing, schools, closingdelay, sup...</td>\n",
       "      <td>[closings, delays, schools, weather, march, su...</td>\n",
       "      <td>[school, closings, delays, severe, weather, sa...</td>\n",
       "      <td>[School closings and delays in Northeast Ohio ...</td>\n",
       "    </tr>\n",
       "    <tr>\n",
       "      <th>25</th>\n",
       "      <td>24</td>\n",
       "      <td>19</td>\n",
       "      <td>24_christmas_santa_special_dreaming</td>\n",
       "      <td>[christmas, santa, special, dreaming, tracker,...</td>\n",
       "      <td>[christmas, santa, rudolph, holiday, holidays,...</td>\n",
       "      <td>[christmas, santa, wonderland, yuletide, sweat...</td>\n",
       "      <td>[santa, special, tracker, costumes, colorblind...</td>\n",
       "      <td>[Wheres Santa now Find out via NORADs Santa tr...</td>\n",
       "    </tr>\n",
       "    <tr>\n",
       "      <th>26</th>\n",
       "      <td>25</td>\n",
       "      <td>17</td>\n",
       "      <td>25_film_review_movie_akshay</td>\n",
       "      <td>[film, review, movie, akshay, novel, bahubali,...</td>\n",
       "      <td>[film, reviews, review, movie, moviesreview, b...</td>\n",
       "      <td>[film, review, akshay, novel, bahubali, darker...</td>\n",
       "      <td>[film, review, movie, unalloyed, blockbuster, ...</td>\n",
       "      <td>[Film review Dangal, Film Review The Bounce Ba...</td>\n",
       "    </tr>\n",
       "    <tr>\n",
       "      <th>27</th>\n",
       "      <td>26</td>\n",
       "      <td>16</td>\n",
       "      <td>26_pitt_divorce_sam_engaged</td>\n",
       "      <td>[pitt, divorce, sam, engaged, lauren, married,...</td>\n",
       "      <td>[lauren, marries, angelina, married, divorce, ...</td>\n",
       "      <td>[divorce, sam, engaged, lauren, married, jolie...</td>\n",
       "      <td>[divorce, brother, star, writer, romantic, pro...</td>\n",
       "      <td>[Angelina Jolie Pitt and Brad Pitt reach divor...</td>\n",
       "    </tr>\n",
       "    <tr>\n",
       "      <th>28</th>\n",
       "      <td>27</td>\n",
       "      <td>16</td>\n",
       "      <td>27_earthquake_power_oroville_dam</td>\n",
       "      <td>[earthquake, power, oroville, dam, magnitude, ...</td>\n",
       "      <td>[earthquake, oroville, floods, flooding, damag...</td>\n",
       "      <td>[earthquake, oroville, dam, energy, damage, ho...</td>\n",
       "      <td>[earthquake, power, magnitude, damage, warning...</td>\n",
       "      <td>[Gujarat 45 magnitude earthquake hits Banaskan...</td>\n",
       "    </tr>\n",
       "    <tr>\n",
       "      <th>29</th>\n",
       "      <td>28</td>\n",
       "      <td>15</td>\n",
       "      <td>28_march_womens_science_thousands</td>\n",
       "      <td>[march, womens, science, thousands, rally, mar...</td>\n",
       "      <td>[march, rally, protests, protest, crowds, crow...</td>\n",
       "      <td>[march, womens, science, thousands, rally, mar...</td>\n",
       "      <td>[march, thousands, rally, streets, signs, shir...</td>\n",
       "      <td>[March for Science Scientists Hit the Streets ...</td>\n",
       "    </tr>\n",
       "    <tr>\n",
       "      <th>30</th>\n",
       "      <td>29</td>\n",
       "      <td>15</td>\n",
       "      <td>29_dylann_roof_massacre_arkansas</td>\n",
       "      <td>[dylann, roof, massacre, arkansas, executes, c...</td>\n",
       "      <td>[dylann, massacre, guilty, murder, murders, ju...</td>\n",
       "      <td>[dylann, massacre, court, virginia, execution,...</td>\n",
       "      <td>[massacre, row, methodical, inmate, death, exe...</td>\n",
       "      <td>[Is death for Dylann Roof justified, Dylann Ro...</td>\n",
       "    </tr>\n",
       "    <tr>\n",
       "      <th>31</th>\n",
       "      <td>30</td>\n",
       "      <td>15</td>\n",
       "      <td>30_valentines_day_boyfriends_pakistani</td>\n",
       "      <td>[valentines, day, boyfriends, pakistani, natio...</td>\n",
       "      <td>[valentines, celebrates, husbands, day, heart,...</td>\n",
       "      <td>[valentines, pakistani, husbands, messages, is...</td>\n",
       "      <td>[boyfriends, nationwide, husbands, issues, ban...</td>\n",
       "      <td>[Pakistani court issues nationwide ban on Vale...</td>\n",
       "    </tr>\n",
       "    <tr>\n",
       "      <th>32</th>\n",
       "      <td>31</td>\n",
       "      <td>14</td>\n",
       "      <td>31_carey_mariah_zayn_wanna</td>\n",
       "      <td>[carey, mariah, zayn, wanna, dont, forever, ta...</td>\n",
       "      <td>[mariah, carey, madonnas, sings, singer, song,...</td>\n",
       "      <td>[carey, mariah, wanna, taylor, voice, accident...</td>\n",
       "      <td>[performance, stunning, song, hit, , , , , , ]</td>\n",
       "      <td>[Mariah Carey Is A Runaway Bride In Thinly Vei...</td>\n",
       "    </tr>\n",
       "    <tr>\n",
       "      <th>33</th>\n",
       "      <td>32</td>\n",
       "      <td>13</td>\n",
       "      <td>32_ezekiel_suspension_elliotts_elliott</td>\n",
       "      <td>[ezekiel, suspension, elliotts, elliott, viola...</td>\n",
       "      <td>[elliott, elliotts, ezekiel, nfl, cowboys, nfl...</td>\n",
       "      <td>[ezekiel, suspension, elliotts, elliott, viola...</td>\n",
       "      <td>[suspension, violation, assault, yearlong, inv...</td>\n",
       "      <td>[Salvation Army says Ezekiel Elliotts TD broug...</td>\n",
       "    </tr>\n",
       "    <tr>\n",
       "      <th>34</th>\n",
       "      <td>33</td>\n",
       "      <td>13</td>\n",
       "      <td>33_tornado_warning_weather_counties</td>\n",
       "      <td>[tornado, warning, weather, counties, issued, ...</td>\n",
       "      <td>[tornado, tornadoes, storm, weather, county, t...</td>\n",
       "      <td>[tornado, counties, doppler, dewitt, damages, ...</td>\n",
       "      <td>[tornado, warning, weather, counties, damage, ...</td>\n",
       "      <td>[Tornado warning issued for Forsyth County aft...</td>\n",
       "    </tr>\n",
       "    <tr>\n",
       "      <th>35</th>\n",
       "      <td>34</td>\n",
       "      <td>13</td>\n",
       "      <td>34_gatlinburg_chaos_mall_shots</td>\n",
       "      <td>[gatlinburg, chaos, mall, shots, panic, fired,...</td>\n",
       "      <td>[fireworks, arson, chaos, riots, panic, explos...</td>\n",
       "      <td>[gatlinburg, chaos, mall, panic, erupt, stockh...</td>\n",
       "      <td>[chaos, mall, shots, panic, swastikas, spree, ...</td>\n",
       "      <td>[Panic chaos at Penn Station during rush hour,...</td>\n",
       "    </tr>\n",
       "    <tr>\n",
       "      <th>36</th>\n",
       "      <td>35</td>\n",
       "      <td>12</td>\n",
       "      <td>35_wwe_results_news_reigns</td>\n",
       "      <td>[wwe, results, news, reigns, notes, title, 201...</td>\n",
       "      <td>[reigns, wwe, wrestlemania, rollins, orton, ru...</td>\n",
       "      <td>[wwe, reigns, 2017, ambrose, rollins, xfl, mcm...</td>\n",
       "      <td>[results, title, team, seconds, champs, streak...</td>\n",
       "      <td>[WWE Royal Rumble 2017 Results News And Notes ...</td>\n",
       "    </tr>\n",
       "    <tr>\n",
       "      <th>37</th>\n",
       "      <td>36</td>\n",
       "      <td>12</td>\n",
       "      <td>36_elizabeth_queen_prince_meghan</td>\n",
       "      <td>[elizabeth, queen, prince, meghan, markle, har...</td>\n",
       "      <td>[prince, elizabeth, princess, queen, dianas, m...</td>\n",
       "      <td>[elizabeth, prince, meghan, princess, married,...</td>\n",
       "      <td>[pals, influential, colds, photographer, hoax,...</td>\n",
       "      <td>[Prince Harry and Meghan Markle Buy First Chri...</td>\n",
       "    </tr>\n",
       "    <tr>\n",
       "      <th>38</th>\n",
       "      <td>37</td>\n",
       "      <td>12</td>\n",
       "      <td>37_moon_discovered_nasa_eclipse</td>\n",
       "      <td>[moon, discovered, nasa, eclipse, life, ailing...</td>\n",
       "      <td>[moon, lunar, nasa, eclipse, comet, spacex, sk...</td>\n",
       "      <td>[nasa, eclipse, lunar, worm, extraterrestrials...</td>\n",
       "      <td>[moon, eclipse, life, solar, extraterrestrials...</td>\n",
       "      <td>[Ailing Buzz Aldrin the second man to walk on ...</td>\n",
       "    </tr>\n",
       "    <tr>\n",
       "      <th>39</th>\n",
       "      <td>38</td>\n",
       "      <td>11</td>\n",
       "      <td>38_dancing_stars_jennings_kerrigan</td>\n",
       "      <td>[dancing, stars, jennings, kerrigan, rashad, n...</td>\n",
       "      <td>[dancing, dwts, jennings, stars, cast, celebri...</td>\n",
       "      <td>[dancing, stars, kerrigan, cameras, eliminatio...</td>\n",
       "      <td>[eliminations, 10s, partners, celebrity, cast,...</td>\n",
       "      <td>[Nancy Kerrigan  Artem Chigvintsev on Dancing ...</td>\n",
       "    </tr>\n",
       "    <tr>\n",
       "      <th>40</th>\n",
       "      <td>39</td>\n",
       "      <td>10</td>\n",
       "      <td>39_buffett_warren_stock_100000</td>\n",
       "      <td>[buffett, warren, stock, 100000, realize, boom...</td>\n",
       "      <td>[buffett, billionaires, debt, bitcoin, leverag...</td>\n",
       "      <td>[buffett, stock, 100000, boeing, bitcoin, bill...</td>\n",
       "      <td>[stock, uncertain, debt, auctions, boom, silly...</td>\n",
       "      <td>[100000 Harambe Cheeto sparks boom in sillysna...</td>\n",
       "    </tr>\n",
       "    <tr>\n",
       "      <th>41</th>\n",
       "      <td>40</td>\n",
       "      <td>10</td>\n",
       "      <td>40_giraffe_april_birth_boss</td>\n",
       "      <td>[giraffe, april, birth, boss, giving, baby, li...</td>\n",
       "      <td>[giraffe, april, newborn, birth, gisele, anima...</td>\n",
       "      <td>[giraffe, april, giving, baby, adventure, diap...</td>\n",
       "      <td>[giraffe, birth, live, spoof, prances, diapers...</td>\n",
       "      <td>[April the Giraffe an Internet Star Gives Birt...</td>\n",
       "    </tr>\n",
       "    <tr>\n",
       "      <th>42</th>\n",
       "      <td>41</td>\n",
       "      <td>10</td>\n",
       "      <td>41_chris_soules_cannon_bachelor</td>\n",
       "      <td>[chris, soules, cannon, bachelor, nick, tran, ...</td>\n",
       "      <td>[chris, nick, bachelor, melissa, star, kardash...</td>\n",
       "      <td>[chris, cannon, bachelor, nick, tran, feuding,...</td>\n",
       "      <td>[commercial, touts, menacing, equal, scare, st...</td>\n",
       "      <td>[Big Bang Theory Stars Take Salary Cuts to Inc...</td>\n",
       "    </tr>\n",
       "    <tr>\n",
       "      <th>43</th>\n",
       "      <td>42</td>\n",
       "      <td>10</td>\n",
       "      <td>42_als_condition_hospital_injury</td>\n",
       "      <td>[als, condition, hospital, injury, hull, bogut...</td>\n",
       "      <td>[injury, neurosurgical, hospitalized, als, dia...</td>\n",
       "      <td>[als, hospital, injury, hull, diverticulitis, ...</td>\n",
       "      <td>[condition, hospital, injury, horrific, trauma...</td>\n",
       "      <td>[What is ALS Explaining the disease that affli...</td>\n",
       "    </tr>\n",
       "  </tbody>\n",
       "</table>\n",
       "</div>"
      ],
      "text/plain": [
       "    Topic  Count                                    Name  \\\n",
       "0      -1    968                  -1_new_know_watch_says   \n",
       "1       0    322             0_trump_donald_trumps_obama   \n",
       "2       1    213               1_nfl_super_patriots_bowl   \n",
       "3       2    179              2_nba_warriors_game_lebron   \n",
       "4       3    173       3_basketball_ncaa_tournament_bowl   \n",
       "5       4    106              4_day_patricks_2017_easter   \n",
       "6       5     95              5_barcelona_madrid_real_fc   \n",
       "7       6     93                  6_dies_dead_death_star   \n",
       "8       7     65           7_globes_golden_awards_oscars   \n",
       "9       8     57           8_trailer_movie_batman_marvel   \n",
       "10      9     51         9_tour_album_kendrick_announces   \n",
       "11     10     40       10_victorias_secret_topless_bella   \n",
       "12     11     39   11_arrested_prison_released_hernandez   \n",
       "13     12     32        12_pregnant_child_expecting_baby   \n",
       "14     13     31        13_foot_federer_roger_australian   \n",
       "15     14     31               14_musk_elon_stock_rocket   \n",
       "16     15     30          15_police_shooting_killed_shot   \n",
       "17     16     30                         16_la_que_se_el   \n",
       "18     17     29           17_mlb_opening_phillies_tebow   \n",
       "19     18     29         18_recap_premiere_finale_season   \n",
       "20     19     28             19_bruins_nhl_game_penguins   \n",
       "21     20     26             20_ufc_fight_conor_decision   \n",
       "22     21     24         21_weather_forecast_winter_snow   \n",
       "23     22     22               22_pokémon_switch_nes_ios   \n",
       "24     23     21        23_school_closings_delays_county   \n",
       "25     24     19     24_christmas_santa_special_dreaming   \n",
       "26     25     17             25_film_review_movie_akshay   \n",
       "27     26     16             26_pitt_divorce_sam_engaged   \n",
       "28     27     16        27_earthquake_power_oroville_dam   \n",
       "29     28     15       28_march_womens_science_thousands   \n",
       "30     29     15        29_dylann_roof_massacre_arkansas   \n",
       "31     30     15  30_valentines_day_boyfriends_pakistani   \n",
       "32     31     14              31_carey_mariah_zayn_wanna   \n",
       "33     32     13  32_ezekiel_suspension_elliotts_elliott   \n",
       "34     33     13     33_tornado_warning_weather_counties   \n",
       "35     34     13          34_gatlinburg_chaos_mall_shots   \n",
       "36     35     12              35_wwe_results_news_reigns   \n",
       "37     36     12        36_elizabeth_queen_prince_meghan   \n",
       "38     37     12         37_moon_discovered_nasa_eclipse   \n",
       "39     38     11      38_dancing_stars_jennings_kerrigan   \n",
       "40     39     10          39_buffett_warren_stock_100000   \n",
       "41     40     10             40_giraffe_april_birth_boss   \n",
       "42     41     10         41_chris_soules_cannon_bachelor   \n",
       "43     42     10        42_als_condition_hospital_injury   \n",
       "\n",
       "                                       Representation  \\\n",
       "0   [new, know, watch, says, day, star, video, tim...   \n",
       "1   [trump, donald, trumps, obama, inauguration, s...   \n",
       "2   [nfl, super, patriots, bowl, draft, packers, c...   \n",
       "3   [nba, warriors, game, lebron, cavaliers, cavs,...   \n",
       "4   [basketball, ncaa, tournament, bowl, state, co...   \n",
       "5   [day, patricks, 2017, easter, st, friday, chri...   \n",
       "6   [barcelona, madrid, real, fc, league, vs, cup,...   \n",
       "7   [dies, dead, death, star, age, 67, actor, died...   \n",
       "8   [globes, golden, awards, oscars, oscar, wins, ...   \n",
       "9   [trailer, movie, batman, marvel, logan, rogue,...   \n",
       "10  [tour, album, kendrick, announces, mixtape, li...   \n",
       "11  [victorias, secret, topless, bella, naked, emm...   \n",
       "12  [arrested, prison, released, hernandez, charge...   \n",
       "13  [pregnant, child, expecting, baby, serena, cia...   \n",
       "14  [foot, federer, roger, australian, open, nadal...   \n",
       "15  [musk, elon, stock, rocket, tesla, earnings, s...   \n",
       "16  [police, shooting, killed, shot, gunman, man, ...   \n",
       "17  [la, que, se, el, feliz, día, américa, por, en...   \n",
       "18  [mlb, opening, phillies, tebow, homer, cubs, t...   \n",
       "19  [recap, premiere, finale, season, walking, ser...   \n",
       "20  [bruins, nhl, game, penguins, senators, series...   \n",
       "21  [ufc, fight, conor, decision, results, mcgrego...   \n",
       "22  [weather, forecast, winter, snow, snowstorm, s...   \n",
       "23  [pokémon, switch, nes, ios, nintendos, nintend...   \n",
       "24  [school, closings, delays, county, schools, se...   \n",
       "25  [christmas, santa, special, dreaming, tracker,...   \n",
       "26  [film, review, movie, akshay, novel, bahubali,...   \n",
       "27  [pitt, divorce, sam, engaged, lauren, married,...   \n",
       "28  [earthquake, power, oroville, dam, magnitude, ...   \n",
       "29  [march, womens, science, thousands, rally, mar...   \n",
       "30  [dylann, roof, massacre, arkansas, executes, c...   \n",
       "31  [valentines, day, boyfriends, pakistani, natio...   \n",
       "32  [carey, mariah, zayn, wanna, dont, forever, ta...   \n",
       "33  [ezekiel, suspension, elliotts, elliott, viola...   \n",
       "34  [tornado, warning, weather, counties, issued, ...   \n",
       "35  [gatlinburg, chaos, mall, shots, panic, fired,...   \n",
       "36  [wwe, results, news, reigns, notes, title, 201...   \n",
       "37  [elizabeth, queen, prince, meghan, markle, har...   \n",
       "38  [moon, discovered, nasa, eclipse, life, ailing...   \n",
       "39  [dancing, stars, jennings, kerrigan, rashad, n...   \n",
       "40  [buffett, warren, stock, 100000, realize, boom...   \n",
       "41  [giraffe, april, birth, boss, giving, baby, li...   \n",
       "42  [chris, soules, cannon, bachelor, nick, tran, ...   \n",
       "43  [als, condition, hospital, injury, hull, bogut...   \n",
       "\n",
       "                                              KeyBERT  \\\n",
       "0   [2017, premiere, watch, channel, live, instagr...   \n",
       "1   [donald, trump, ivanka, inauguration, trumps, ...   \n",
       "2   [nfl, falcons, packers, cowboys, seahawks, red...   \n",
       "3   [cavs, nba, lebron, nbas, cavaliers, warriors,...   \n",
       "4   [ncaa, clemson, uconn, louisville, ucla, gonza...   \n",
       "5   [holiday, christmas, walmart, st, friday, star...   \n",
       "6   [barcelona, barcelonas, atletico, madrid, sevi...   \n",
       "7   [deaths, died, dies, death, dead, actress, cel...   \n",
       "8   [emmy, awards, oscar, nominations, oscarsnubbe...   \n",
       "9   [trailer, logan, homecoming, spiderman, premie...   \n",
       "10  [kendrick, album, mixtape, concert, tour, song...   \n",
       "11  [victorias, lingerie, fashion, dresses, dress,...   \n",
       "12  [jail, jailed, arrested, prison, sentenced, pr...   \n",
       "13  [pregnant, pregnancy, unborn, amanda, sophie, ...   \n",
       "14  [federer, nadal, tennis, rosberg, foot, roger,...   \n",
       "15  [musk, musks, tesla, teslas, rocket, spacex, s...   \n",
       "16  [shooting, shooter, gunshots, gunman, shooting...   \n",
       "17  [presentadora, nuevo, es, muerto, una, novio, ...   \n",
       "18  [inning, mets, mlb, phillies, braves, cubs, ba...   \n",
       "19  [finale, ending, premiere, episode, shadowhunt...   \n",
       "20  [bruins, leafs, nhl, pavel, playoffs, postseas...   \n",
       "21  [ufc, conor, tko, mcgregor, welterweight, rous...   \n",
       "22  [weather, forecast, snowstorm, forecasting, sp...   \n",
       "23  [nintendo, nintendos, nes, pokémon, pokemon, g...   \n",
       "24  [closings, closing, schools, closingdelay, sup...   \n",
       "25  [christmas, santa, rudolph, holiday, holidays,...   \n",
       "26  [film, reviews, review, movie, moviesreview, b...   \n",
       "27  [lauren, marries, angelina, married, divorce, ...   \n",
       "28  [earthquake, oroville, floods, flooding, damag...   \n",
       "29  [march, rally, protests, protest, crowds, crow...   \n",
       "30  [dylann, massacre, guilty, murder, murders, ju...   \n",
       "31  [valentines, celebrates, husbands, day, heart,...   \n",
       "32  [mariah, carey, madonnas, sings, singer, song,...   \n",
       "33  [elliott, elliotts, ezekiel, nfl, cowboys, nfl...   \n",
       "34  [tornado, tornadoes, storm, weather, county, t...   \n",
       "35  [fireworks, arson, chaos, riots, panic, explos...   \n",
       "36  [reigns, wwe, wrestlemania, rollins, orton, ru...   \n",
       "37  [prince, elizabeth, princess, queen, dianas, m...   \n",
       "38  [moon, lunar, nasa, eclipse, comet, spacex, sk...   \n",
       "39  [dancing, dwts, jennings, stars, cast, celebri...   \n",
       "40  [buffett, billionaires, debt, bitcoin, leverag...   \n",
       "41  [giraffe, april, newborn, birth, gisele, anima...   \n",
       "42  [chris, nick, bachelor, melissa, star, kardash...   \n",
       "43  [injury, neurosurgical, hospitalized, als, dia...   \n",
       "\n",
       "                                                  MMR  \\\n",
       "0   [watch, star, 2017, birthday, season, jenner, ...   \n",
       "1   [trumps, obama, inauguration, snl, sean, secre...   \n",
       "2   [nfl, patriots, packers, cowboys, seahawks, ch...   \n",
       "3   [nba, warriors, lebron, cavaliers, cavs, trade...   \n",
       "4   [ncaa, tournament, carolina, duke, gonzaga, us...   \n",
       "5   [patricks, easter, st, friday, christmas, pizz...   \n",
       "6   [madrid, fc, league, liga, champions, arsenal,...   \n",
       "7   [dies, dead, 67, actor, died, deaths, george, ...   \n",
       "8   [awards, oscars, oscar, 2017, grammys, denzel,...   \n",
       "9   [trailer, batman, marvel, logan, rogue, homeco...   \n",
       "10  [album, kendrick, mixtape, lineup, concert, me...   \n",
       "11  [victorias, bella, emma, playboy, ashley, mode...   \n",
       "12  [arrested, hernandez, jail, kodak, rapper, chi...   \n",
       "13  [pregnant, expecting, serena, ciara, jenelle, ...   \n",
       "14  [federer, roger, nadal, venus, daytona, tennis...   \n",
       "15  [musk, elon, tesla, earnings, aapl, verizon, s...   \n",
       "16  [police, shooting, gunshots, wounded, attack, ...   \n",
       "17  [el, feliz, por, es, una, nuevo, tigres, los, ...   \n",
       "18  [mlb, phillies, tebow, cubs, sox, braves, card...   \n",
       "19  [finale, walking, episode, bates, motel, jace,...   \n",
       "20  [bruins, nhl, penguins, rangers, crosby, jacke...   \n",
       "21  [ufc, fight, conor, mcgregor, 207, mayweather,...   \n",
       "22  [weather, forecast, snowstorm, storm, rain, no...   \n",
       "23  [pokémon, nes, ios, nintendo, apple, ipad, upd...   \n",
       "24  [closings, delays, schools, weather, march, su...   \n",
       "25  [christmas, santa, wonderland, yuletide, sweat...   \n",
       "26  [film, review, akshay, novel, bahubali, darker...   \n",
       "27  [divorce, sam, engaged, lauren, married, jolie...   \n",
       "28  [earthquake, oroville, dam, energy, damage, ho...   \n",
       "29  [march, womens, science, thousands, rally, mar...   \n",
       "30  [dylann, massacre, court, virginia, execution,...   \n",
       "31  [valentines, pakistani, husbands, messages, is...   \n",
       "32  [carey, mariah, wanna, taylor, voice, accident...   \n",
       "33  [ezekiel, suspension, elliotts, elliott, viola...   \n",
       "34  [tornado, counties, doppler, dewitt, damages, ...   \n",
       "35  [gatlinburg, chaos, mall, panic, erupt, stockh...   \n",
       "36  [wwe, reigns, 2017, ambrose, rollins, xfl, mcm...   \n",
       "37  [elizabeth, prince, meghan, princess, married,...   \n",
       "38  [nasa, eclipse, lunar, worm, extraterrestrials...   \n",
       "39  [dancing, stars, kerrigan, cameras, eliminatio...   \n",
       "40  [buffett, stock, 100000, boeing, bitcoin, bill...   \n",
       "41  [giraffe, april, giving, baby, adventure, diap...   \n",
       "42  [chris, cannon, bachelor, nick, tran, feuding,...   \n",
       "43  [als, hospital, injury, hull, diverticulitis, ...   \n",
       "\n",
       "                                                  POS  \\\n",
       "0   [new, star, video, time, years, people, birthd...   \n",
       "1   [inauguration, president, secretary, security,...   \n",
       "2   [draft, playoff, loss, playoffs, score, team, ...   \n",
       "3   [trade, points, playoffs, win, rest, rumors, t...   \n",
       "4   [basketball, tournament, bowl, state, college,...   \n",
       "5   [day, year, hours, deals, food, open, free, qu...   \n",
       "6   [goals, hard, nonleague, scores, win, stats, w...   \n",
       "7   [dead, death, star, actor, pop, deaths, heart,...   \n",
       "8   [best, winners, tribute, speeches, actor, carp...   \n",
       "9   [trailer, review, new, things, footage, creepy...   \n",
       "10  [tour, album, lineup, new, concert, dates, pil...   \n",
       "11  [topless, naked, photos, shoot, model, photo, ...   \n",
       "12  [prison, charges, jail, rape, probation, bail,...   \n",
       "13  [child, baby, unborn, pregnancy, 2s, twins, da...   \n",
       "14  [foot, seed, win, loudest, column, demolition,...   \n",
       "15  [stock, rocket, reusable, users, revenue, bar,...   \n",
       "16  [police, shooting, gunman, man, suspect, fatal...   \n",
       "17  [que, por, año, tres, durante, sobre, celebra,...   \n",
       "18  [homer, minor, games, plan, record, thumping, ...   \n",
       "19  [recap, premiere, finale, season, series, epis...   \n",
       "20  [series, playoffs, preview, loss, late, narrat...   \n",
       "21  [fight, decision, results, card, title, second...   \n",
       "22  [weather, forecast, winter, snowstorm, snow, a...   \n",
       "23  [new, console, display, today, 21st, 97inch, d...   \n",
       "24  [school, closings, delays, severe, weather, sa...   \n",
       "25  [santa, special, tracker, costumes, colorblind...   \n",
       "26  [film, review, movie, unalloyed, blockbuster, ...   \n",
       "27  [divorce, brother, star, writer, romantic, pro...   \n",
       "28  [earthquake, power, magnitude, damage, warning...   \n",
       "29  [march, thousands, rally, streets, signs, shir...   \n",
       "30  [massacre, row, methodical, inmate, death, exe...   \n",
       "31  [boyfriends, nationwide, husbands, issues, ban...   \n",
       "32     [performance, stunning, song, hit, , , , , , ]   \n",
       "33  [suspension, violation, assault, yearlong, inv...   \n",
       "34  [tornado, warning, weather, counties, damage, ...   \n",
       "35  [chaos, mall, shots, panic, swastikas, spree, ...   \n",
       "36  [results, title, team, seconds, champs, streak...   \n",
       "37  [pals, influential, colds, photographer, hoax,...   \n",
       "38  [moon, eclipse, life, solar, extraterrestrials...   \n",
       "39  [eliminations, 10s, partners, celebrity, cast,...   \n",
       "40  [stock, uncertain, debt, auctions, boom, silly...   \n",
       "41  [giraffe, birth, live, spoof, prances, diapers...   \n",
       "42  [commercial, touts, menacing, equal, scare, st...   \n",
       "43  [condition, hospital, injury, horrific, trauma...   \n",
       "\n",
       "                                  Representative_Docs  \n",
       "0   [Watch 2017 Rose Bowl Parade Live Online Start...  \n",
       "1   [Are we really stuck with President Donald Tru...  \n",
       "2   [2017 NFL Playoff Odds Atlanta Falcons Vs Gree...  \n",
       "3   [NBA schedule, Draymond flattens LeBron as War...  \n",
       "4   [College Football Playoff Clemson vs Ohio Stat...  \n",
       "5   [A History Of St Patricks Day In Minnesota, Ne...  \n",
       "6   [La Liga Luis Suarez double keeps FC Barcelona...  \n",
       "7   [Bollywood Star Vinod Khanna Dies at 70, Inter...  \n",
       "8   [Sarah Paulson Wins Best Actress in a Limited ...  \n",
       "9   [Details of the Final Bloody Logan Trailer, Ro...  \n",
       "10  [Kendrick Lamars Damn Everything we know about...  \n",
       "11  [Emma Watson Defends Posing Nearly Topless for...  \n",
       "12  [What are the chances Aaron Hernandez gets out...  \n",
       "13  [Amanda Seyfried is expecting a baby with Thom...  \n",
       "14  [Roger Federer and Rafael Nadal Breathe New Li...  \n",
       "15  [Amber Heard and Tesla Founder Elon Musk Show ...  \n",
       "16  [Gunman Who Shot 3 at Zurich Islamic Center Is...  \n",
       "17  [Se mofan de CNN por desear muerte de Trump pa...  \n",
       "18  [Just one game Tim Tebow fends off hype after ...  \n",
       "19  [Star premiere recap Pilot, Shadowhunters Reca...  \n",
       "20  [CapitalsMaple Leafs Game 3 preview Can Washin...  \n",
       "21  [UFC 208 Results Winners Scorecards from Holm ...  \n",
       "22  [Southern California weather forecast  Los Ang...  \n",
       "23  [Nintendos Switch reimagines the home console ...  \n",
       "24  [School closings and delays in Northeast Ohio ...  \n",
       "25  [Wheres Santa now Find out via NORADs Santa tr...  \n",
       "26  [Film review Dangal, Film Review The Bounce Ba...  \n",
       "27  [Angelina Jolie Pitt and Brad Pitt reach divor...  \n",
       "28  [Gujarat 45 magnitude earthquake hits Banaskan...  \n",
       "29  [March for Science Scientists Hit the Streets ...  \n",
       "30  [Is death for Dylann Roof justified, Dylann Ro...  \n",
       "31  [Pakistani court issues nationwide ban on Vale...  \n",
       "32  [Mariah Carey Is A Runaway Bride In Thinly Vei...  \n",
       "33  [Salvation Army says Ezekiel Elliotts TD broug...  \n",
       "34  [Tornado warning issued for Forsyth County aft...  \n",
       "35  [Panic chaos at Penn Station during rush hour,...  \n",
       "36  [WWE Royal Rumble 2017 Results News And Notes ...  \n",
       "37  [Prince Harry and Meghan Markle Buy First Chri...  \n",
       "38  [Ailing Buzz Aldrin the second man to walk on ...  \n",
       "39  [Nancy Kerrigan  Artem Chigvintsev on Dancing ...  \n",
       "40  [100000 Harambe Cheeto sparks boom in sillysna...  \n",
       "41  [April the Giraffe an Internet Star Gives Birt...  \n",
       "42  [Big Bang Theory Stars Take Salary Cuts to Inc...  \n",
       "43  [What is ALS Explaining the disease that affli...  "
      ]
     },
     "execution_count": 8,
     "metadata": {},
     "output_type": "execute_result"
    }
   ],
   "source": [
    "topic_model = BERTopic(\n",
    "# Pipeline models\n",
    "embedding_model=embedding_model,\n",
    "umap_model=umap_model,\n",
    "hdbscan_model=hdbscan_model,\n",
    "vectorizer_model=vectorizer_model,\n",
    "representation_model=representation_model,\n",
    "# Hyperparameters\n",
    "top_n_words=10,\n",
    "verbose=True\n",
    ")\n",
    "\n",
    "# Train model\n",
    "topics, probs = topic_model.fit_transform(strings_list)\n",
    "\n",
    "# Show topics\n",
    "names = topic_model.get_topic_info().Name\n",
    "topic_model.get_topic_info()"
   ]
  },
  {
   "cell_type": "code",
   "execution_count": null,
   "metadata": {},
   "outputs": [
    {
     "data": {
      "text/html": [
       "<div>\n",
       "<style scoped>\n",
       "    .dataframe tbody tr th:only-of-type {\n",
       "        vertical-align: middle;\n",
       "    }\n",
       "\n",
       "    .dataframe tbody tr th {\n",
       "        vertical-align: top;\n",
       "    }\n",
       "\n",
       "    .dataframe thead th {\n",
       "        text-align: right;\n",
       "    }\n",
       "</style>\n",
       "<table border=\"1\" class=\"dataframe\">\n",
       "  <thead>\n",
       "    <tr style=\"text-align: right;\">\n",
       "      <th></th>\n",
       "      <th>topic</th>\n",
       "      <th>probs</th>\n",
       "      <th>date</th>\n",
       "      <th>traffic</th>\n",
       "      <th>traffic_numeric</th>\n",
       "    </tr>\n",
       "  </thead>\n",
       "  <tbody>\n",
       "    <tr>\n",
       "      <th>0</th>\n",
       "      <td>4</td>\n",
       "      <td>0.915318</td>\n",
       "      <td>2016-11-28</td>\n",
       "      <td>500,000+</td>\n",
       "      <td>500000</td>\n",
       "    </tr>\n",
       "    <tr>\n",
       "      <th>1</th>\n",
       "      <td>-1</td>\n",
       "      <td>0.000000</td>\n",
       "      <td>2016-11-28</td>\n",
       "      <td>200,000+</td>\n",
       "      <td>200000</td>\n",
       "    </tr>\n",
       "    <tr>\n",
       "      <th>2</th>\n",
       "      <td>14</td>\n",
       "      <td>0.538238</td>\n",
       "      <td>2016-11-28</td>\n",
       "      <td>100,000+</td>\n",
       "      <td>100000</td>\n",
       "    </tr>\n",
       "    <tr>\n",
       "      <th>3</th>\n",
       "      <td>1</td>\n",
       "      <td>1.000000</td>\n",
       "      <td>2016-11-28</td>\n",
       "      <td>200,000+</td>\n",
       "      <td>200000</td>\n",
       "    </tr>\n",
       "    <tr>\n",
       "      <th>4</th>\n",
       "      <td>-1</td>\n",
       "      <td>0.000000</td>\n",
       "      <td>2016-11-28</td>\n",
       "      <td>200,000+</td>\n",
       "      <td>200000</td>\n",
       "    </tr>\n",
       "    <tr>\n",
       "      <th>...</th>\n",
       "      <td>...</td>\n",
       "      <td>...</td>\n",
       "      <td>...</td>\n",
       "      <td>...</td>\n",
       "      <td>...</td>\n",
       "    </tr>\n",
       "    <tr>\n",
       "      <th>2982</th>\n",
       "      <td>12</td>\n",
       "      <td>1.000000</td>\n",
       "      <td>2017-05-04</td>\n",
       "      <td>100,000+</td>\n",
       "      <td>100000</td>\n",
       "    </tr>\n",
       "    <tr>\n",
       "      <th>2983</th>\n",
       "      <td>2</td>\n",
       "      <td>1.000000</td>\n",
       "      <td>2017-05-04</td>\n",
       "      <td>200,000+</td>\n",
       "      <td>200000</td>\n",
       "    </tr>\n",
       "    <tr>\n",
       "      <th>2984</th>\n",
       "      <td>-1</td>\n",
       "      <td>0.000000</td>\n",
       "      <td>2017-05-04</td>\n",
       "      <td>200,000+</td>\n",
       "      <td>200000</td>\n",
       "    </tr>\n",
       "    <tr>\n",
       "      <th>2985</th>\n",
       "      <td>8</td>\n",
       "      <td>0.619622</td>\n",
       "      <td>2017-05-04</td>\n",
       "      <td>200,000+</td>\n",
       "      <td>200000</td>\n",
       "    </tr>\n",
       "    <tr>\n",
       "      <th>2986</th>\n",
       "      <td>14</td>\n",
       "      <td>0.538238</td>\n",
       "      <td>2017-05-04</td>\n",
       "      <td>100,000+</td>\n",
       "      <td>100000</td>\n",
       "    </tr>\n",
       "  </tbody>\n",
       "</table>\n",
       "<p>2987 rows × 5 columns</p>\n",
       "</div>"
      ],
      "text/plain": [
       "      topic     probs        date   traffic  traffic_numeric\n",
       "0         4  0.915318  2016-11-28  500,000+           500000\n",
       "1        -1  0.000000  2016-11-28  200,000+           200000\n",
       "2        14  0.538238  2016-11-28  100,000+           100000\n",
       "3         1  1.000000  2016-11-28  200,000+           200000\n",
       "4        -1  0.000000  2016-11-28  200,000+           200000\n",
       "...     ...       ...         ...       ...              ...\n",
       "2982     12  1.000000  2017-05-04  100,000+           100000\n",
       "2983      2  1.000000  2017-05-04  200,000+           200000\n",
       "2984     -1  0.000000  2017-05-04  200,000+           200000\n",
       "2985      8  0.619622  2017-05-04  200,000+           200000\n",
       "2986     14  0.538238  2017-05-04  100,000+           100000\n",
       "\n",
       "[2987 rows x 5 columns]"
      ]
     },
     "execution_count": 43,
     "metadata": {},
     "output_type": "execute_result"
    }
   ],
   "source": [
    "df = pd.DataFrame({'topic':topics, 'probs':probs})\n",
    "df['date'] = data[['date']]\n",
    "df['traffic'] = data[['traffic']]\n",
    "df['traffic_numeric'] = df['traffic'].apply(clean_traffic)\n",
    "df\n"
   ]
  },
  {
   "cell_type": "code",
   "execution_count": 99,
   "metadata": {},
   "outputs": [
    {
     "name": "stdout",
     "output_type": "stream",
     "text": [
      "{'mean': 550153.8461538461, 'topic': 7}\n"
     ]
    }
   ],
   "source": [
    "max = most_visited_topic_cluster(df,max_element(topics))\n",
    "print(max)"
   ]
  },
  {
   "cell_type": "code",
   "execution_count": null,
   "metadata": {},
   "outputs": [
    {
     "data": {
      "image/png": "[encoded data removed]",
      "text/plain": [
       "<Figure size 2000x500 with 1 Axes>"
      ]
     },
     "metadata": {},
     "output_type": "display_data"
    }
   ],
   "source": [
    "\n",
    "topic_time_distribution = df.groupby(['date', 'topic']).size().reset_index(name='count')\n",
    "specific_topic = 40\n",
    "specific_topic_data = topic_time_distribution[topic_time_distribution['topic'] == specific_topic]\n",
    "plt.figure(figsize=(20, 5))\n",
    "sns.lineplot(data=specific_topic_data, x='date', y='count')\n",
    "plt.title(f\"Trend for Topic {specific_topic}\")\n",
    "plt.xlabel(\"Date\")\n",
    "plt.ylabel(\"Count\")\n",
    "plt.show()\n",
    "\n"
   ]
  },
  {
   "cell_type": "code",
   "execution_count": 13,
   "metadata": {},
   "outputs": [
    {
     "data": {
      "text/plain": [
       "0                     -1_new_know_watch_says\n",
       "1                0_trump_donald_trumps_obama\n",
       "2                  1_nfl_super_patriots_bowl\n",
       "3                 2_nba_warriors_game_lebron\n",
       "4          3_basketball_ncaa_tournament_bowl\n",
       "5                 4_day_patricks_2017_easter\n",
       "6                 5_barcelona_madrid_real_fc\n",
       "7                     6_dies_dead_death_star\n",
       "8              7_globes_golden_awards_oscars\n",
       "9              8_trailer_movie_batman_marvel\n",
       "10           9_tour_album_kendrick_announces\n",
       "11         10_victorias_secret_topless_bella\n",
       "12     11_arrested_prison_released_hernandez\n",
       "13          12_pregnant_child_expecting_baby\n",
       "14          13_foot_federer_roger_australian\n",
       "15                 14_musk_elon_stock_rocket\n",
       "16            15_police_shooting_killed_shot\n",
       "17                           16_la_que_se_el\n",
       "18             17_mlb_opening_phillies_tebow\n",
       "19           18_recap_premiere_finale_season\n",
       "20               19_bruins_nhl_game_penguins\n",
       "21               20_ufc_fight_conor_decision\n",
       "22           21_weather_forecast_winter_snow\n",
       "23                 22_pokémon_switch_nes_ios\n",
       "24          23_school_closings_delays_county\n",
       "25       24_christmas_santa_special_dreaming\n",
       "26               25_film_review_movie_akshay\n",
       "27               26_pitt_divorce_sam_engaged\n",
       "28          27_earthquake_power_oroville_dam\n",
       "29         28_march_womens_science_thousands\n",
       "30          29_dylann_roof_massacre_arkansas\n",
       "31    30_valentines_day_boyfriends_pakistani\n",
       "32                31_carey_mariah_zayn_wanna\n",
       "33    32_ezekiel_suspension_elliotts_elliott\n",
       "34       33_tornado_warning_weather_counties\n",
       "35            34_gatlinburg_chaos_mall_shots\n",
       "36                35_wwe_results_news_reigns\n",
       "37          36_elizabeth_queen_prince_meghan\n",
       "38           37_moon_discovered_nasa_eclipse\n",
       "39        38_dancing_stars_jennings_kerrigan\n",
       "40            39_buffett_warren_stock_100000\n",
       "41               40_giraffe_april_birth_boss\n",
       "42           41_chris_soules_cannon_bachelor\n",
       "43          42_als_condition_hospital_injury\n",
       "Name: Name, dtype: object"
      ]
     },
     "execution_count": 13,
     "metadata": {},
     "output_type": "execute_result"
    }
   ],
   "source": [
    "names"
   ]
  },
  {
   "cell_type": "code",
   "execution_count": 10,
   "metadata": {},
   "outputs": [
    {
     "data": {
      "text/plain": [
       "[('arrested', 0.13510801464522987),\n",
       " ('prison', 0.08373711507809678),\n",
       " ('released', 0.07624185566278797),\n",
       " ('hernandez', 0.06694835507784773),\n",
       " ('charges', 0.05743286884364383),\n",
       " ('jail', 0.05318693201979771),\n",
       " ('gates', 0.05318693201979771),\n",
       " ('aaron', 0.05082790377519198),\n",
       " ('black', 0.0480262878519264),\n",
       " ('rape', 0.047907834517318004)]"
      ]
     },
     "execution_count": 10,
     "metadata": {},
     "output_type": "execute_result"
    }
   ],
   "source": [
    "topic_model.get_topic(11)"
   ]
  },
  {
   "cell_type": "code",
   "execution_count": 11,
   "metadata": {},
   "outputs": [
    {
     "data": {
      "application/vnd.plotly.v1+json": {
       "config": {
        "plotlyServerURL": "https://plot.ly"
       },
       "data": [
        {
         "customdata": [
          [
           0,
           "trump | donald | trumps | obama | inauguration",
           322
          ],
          [
           1,
           "nfl | super | patriots | bowl | draft",
           213
          ],
          [
           2,
           "nba | warriors | game | lebron | cavaliers",
           179
          ],
          [
           3,
           "basketball | ncaa | tournament | bowl | state",
           173
          ],
          [
           4,
           "day | patricks | 2017 | easter | st",
           106
          ],
          [
           5,
           "barcelona | madrid | real | fc | league",
           95
          ],
          [
           6,
           "dies | dead | death | star | age",
           93
          ],
          [
           7,
           "globes | golden | awards | oscars | oscar",
           65
          ],
          [
           8,
           "trailer | movie | batman | marvel | logan",
           57
          ],
          [
           9,
           "tour | album | kendrick | announces | mixtape",
           51
          ],
          [
           10,
           "victorias | secret | topless | bella | naked",
           40
          ],
          [
           11,
           "arrested | prison | released | hernandez | charges",
           39
          ],
          [
           12,
           "pregnant | child | expecting | baby | serena",
           32
          ],
          [
           13,
           "foot | federer | roger | australian | open",
           31
          ],
          [
           14,
           "musk | elon | stock | rocket | tesla",
           31
          ],
          [
           15,
           "police | shooting | killed | shot | gunman",
           30
          ],
          [
           16,
           "la | que | se | el | feliz",
           30
          ],
          [
           17,
           "mlb | opening | phillies | tebow | homer",
           29
          ],
          [
           18,
           "recap | premiere | finale | season | walking",
           29
          ],
          [
           19,
           "bruins | nhl | game | penguins | senators",
           28
          ],
          [
           20,
           "ufc | fight | conor | decision | results",
           26
          ],
          [
           21,
           "weather | forecast | winter | snow | snowstorm",
           24
          ],
          [
           22,
           "pokémon | switch | nes | ios | nintendos",
           22
          ],
          [
           23,
           "school | closings | delays | county | schools",
           21
          ],
          [
           24,
           "christmas | santa | special | dreaming | tracker",
           19
          ],
          [
           25,
           "film | review | movie | akshay | novel",
           17
          ],
          [
           26,
           "pitt | divorce | sam | engaged | lauren",
           16
          ],
          [
           27,
           "earthquake | power | oroville | dam | magnitude",
           16
          ],
          [
           28,
           "march | womens | science | thousands | rally",
           15
          ],
          [
           29,
           "dylann | roof | massacre | arkansas | executes",
           15
          ],
          [
           30,
           "valentines | day | boyfriends | pakistani | nationwide",
           15
          ],
          [
           31,
           "carey | mariah | zayn | wanna | dont",
           14
          ],
          [
           32,
           "ezekiel | suspension | elliotts | elliott | violation",
           13
          ],
          [
           33,
           "tornado | warning | weather | counties | issued",
           13
          ],
          [
           34,
           "gatlinburg | chaos | mall | shots | panic",
           13
          ],
          [
           35,
           "wwe | results | news | reigns | notes",
           12
          ],
          [
           36,
           "elizabeth | queen | prince | meghan | markle",
           12
          ],
          [
           37,
           "moon | discovered | nasa | eclipse | life",
           12
          ],
          [
           38,
           "dancing | stars | jennings | kerrigan | rashad",
           11
          ],
          [
           39,
           "buffett | warren | stock | 100000 | realize",
           10
          ],
          [
           40,
           "giraffe | april | birth | boss | giving",
           10
          ],
          [
           41,
           "chris | soules | cannon | bachelor | nick",
           10
          ],
          [
           42,
           "als | condition | hospital | injury | hull",
           10
          ]
         ],
         "hovertemplate": "<b>Topic %{customdata[0]}</b><br>%{customdata[1]}<br>Size: %{customdata[2]}",
         "legendgroup": "",
         "marker": {
          "color": "#B0BEC5",
          "line": {
           "color": "DarkSlateGrey",
           "width": 2
          },
          "size": [
           322,
           213,
           179,
           173,
           106,
           95,
           93,
           65,
           57,
           51,
           40,
           39,
           32,
           31,
           31,
           30,
           30,
           29,
           29,
           28,
           26,
           24,
           22,
           21,
           19,
           17,
           16,
           16,
           15,
           15,
           15,
           14,
           13,
           13,
           13,
           12,
           12,
           12,
           11,
           10,
           10,
           10,
           10
          ],
          "sizemode": "area",
          "sizeref": 0.20125,
          "symbol": "circle"
         },
         "mode": "markers",
         "name": "",
         "orientation": "v",
         "showlegend": false,
         "type": "scatter",
         "x": [
          11.797075271606445,
          23.02022361755371,
          7.902238845825195,
          7.902613639831543,
          -4.869568824768066,
          -3.281688928604126,
          4.31727409362793,
          -7.971473693847656,
          -7.508779048919678,
          0.6155698895454407,
          -12.418868064880371,
          2.17570424079895,
          -12.7859525680542,
          15.81992244720459,
          6.798519611358643,
          2.337920904159546,
          -3.2795958518981934,
          23.321956634521484,
          -7.323107719421387,
          23.449100494384766,
          15.691119194030762,
          7.773903846740723,
          6.838489055633545,
          -4.974514961242676,
          -5.235034465789795,
          -7.814291477203369,
          -13.204541206359863,
          7.580929279327393,
          -4.742915153503418,
          2.463505268096924,
          -4.642514228820801,
          0.6156159043312073,
          22.94620132446289,
          7.749863624572754,
          2.3590855598449707,
          15.59072208404541,
          -12.677942276000977,
          -7.610848426818848,
          15.911760330200195,
          11.895033836364746,
          -12.57667350769043,
          -13.356610298156738,
          4.317223072052002
         ],
         "xaxis": "x",
         "y": [
          6.920365333557129,
          5.918003559112549,
          3.1352059841156006,
          3.135077476501465,
          15.52342700958252,
          -5.180773735046387,
          7.319980144500732,
          4.6724324226379395,
          4.208207130432129,
          20.38722038269043,
          19.830421447753906,
          -9.485933303833008,
          19.85667610168457,
          -1.6832433938980103,
          15.501871109008789,
          -9.323929786682129,
          -5.182158470153809,
          6.218730926513672,
          4.0226030349731445,
          6.345834255218506,
          -1.553986668586731,
          13.804723739624023,
          15.464219093322754,
          15.418089866638184,
          15.157258987426758,
          4.514622688293457,
          19.435131072998047,
          13.608284950256348,
          15.652604103088379,
          -9.198233604431152,
          15.749300003051758,
          20.387290954589844,
          5.844322204589844,
          13.776171684265137,
          -9.302722930908203,
          -1.452972650527954,
          19.77204132080078,
          4.3103485107421875,
          -1.7751466035842896,
          6.822698593139648,
          19.655765533447266,
          19.27029037475586,
          7.320044994354248
         ],
         "yaxis": "y"
        }
       ],
       "layout": {
        "annotations": [
         {
          "showarrow": false,
          "text": "D1",
          "x": -15.36010184288025,
          "y": 6.268280649185181,
          "yshift": 10
         },
         {
          "showarrow": false,
          "text": "D2",
          "x": 5.803181862831116,
          "xshift": 10,
          "y": 23.44538459777832
         }
        ],
        "height": 650,
        "hoverlabel": {
         "bgcolor": "white",
         "font": {
          "family": "Rockwell",
          "size": 16
         }
        },
        "legend": {
         "itemsizing": "constant",
         "tracegroupgap": 0
        },
        "margin": {
         "t": 60
        },
        "shapes": [
         {
          "line": {
           "color": "#CFD8DC",
           "width": 2
          },
          "type": "line",
          "x0": 5.803181862831116,
          "x1": 5.803181862831116,
          "y0": -10.90882329940796,
          "y1": 23.44538459777832
         },
         {
          "line": {
           "color": "#9E9E9E",
           "width": 2
          },
          "type": "line",
          "x0": -15.36010184288025,
          "x1": 26.966465568542482,
          "y0": 6.268280649185181,
          "y1": 6.268280649185181
         }
        ],
        "sliders": [
         {
          "active": 0,
          "pad": {
           "t": 50
          },
          "steps": [
           {
            "args": [
             {
              "marker.color": [
               [
                "red",
                "#B0BEC5",
                "#B0BEC5",
                "#B0BEC5",
                "#B0BEC5",
                "#B0BEC5",
                "#B0BEC5",
                "#B0BEC5",
                "#B0BEC5",
                "#B0BEC5",
                "#B0BEC5",
                "#B0BEC5",
                "#B0BEC5",
                "#B0BEC5",
                "#B0BEC5",
                "#B0BEC5",
                "#B0BEC5",
                "#B0BEC5",
                "#B0BEC5",
                "#B0BEC5",
                "#B0BEC5",
                "#B0BEC5",
                "#B0BEC5",
                "#B0BEC5",
                "#B0BEC5",
                "#B0BEC5",
                "#B0BEC5",
                "#B0BEC5",
                "#B0BEC5",
                "#B0BEC5",
                "#B0BEC5",
                "#B0BEC5",
                "#B0BEC5",
                "#B0BEC5",
                "#B0BEC5",
                "#B0BEC5",
                "#B0BEC5",
                "#B0BEC5",
                "#B0BEC5",
                "#B0BEC5",
                "#B0BEC5",
                "#B0BEC5",
                "#B0BEC5"
               ]
              ]
             }
            ],
            "label": "Topic 0",
            "method": "update"
           },
           {
            "args": [
             {
              "marker.color": [
               [
                "#B0BEC5",
                "red",
                "#B0BEC5",
                "#B0BEC5",
                "#B0BEC5",
                "#B0BEC5",
                "#B0BEC5",
                "#B0BEC5",
                "#B0BEC5",
                "#B0BEC5",
                "#B0BEC5",
                "#B0BEC5",
                "#B0BEC5",
                "#B0BEC5",
                "#B0BEC5",
                "#B0BEC5",
                "#B0BEC5",
                "#B0BEC5",
                "#B0BEC5",
                "#B0BEC5",
                "#B0BEC5",
                "#B0BEC5",
                "#B0BEC5",
                "#B0BEC5",
                "#B0BEC5",
                "#B0BEC5",
                "#B0BEC5",
                "#B0BEC5",
                "#B0BEC5",
                "#B0BEC5",
                "#B0BEC5",
                "#B0BEC5",
                "#B0BEC5",
                "#B0BEC5",
                "#B0BEC5",
                "#B0BEC5",
                "#B0BEC5",
                "#B0BEC5",
                "#B0BEC5",
                "#B0BEC5",
                "#B0BEC5",
                "#B0BEC5",
                "#B0BEC5"
               ]
              ]
             }
            ],
            "label": "Topic 1",
            "method": "update"
           },
           {
            "args": [
             {
              "marker.color": [
               [
                "#B0BEC5",
                "#B0BEC5",
                "red",
                "#B0BEC5",
                "#B0BEC5",
                "#B0BEC5",
                "#B0BEC5",
                "#B0BEC5",
                "#B0BEC5",
                "#B0BEC5",
                "#B0BEC5",
                "#B0BEC5",
                "#B0BEC5",
                "#B0BEC5",
                "#B0BEC5",
                "#B0BEC5",
                "#B0BEC5",
                "#B0BEC5",
                "#B0BEC5",
                "#B0BEC5",
                "#B0BEC5",
                "#B0BEC5",
                "#B0BEC5",
                "#B0BEC5",
                "#B0BEC5",
                "#B0BEC5",
                "#B0BEC5",
                "#B0BEC5",
                "#B0BEC5",
                "#B0BEC5",
                "#B0BEC5",
                "#B0BEC5",
                "#B0BEC5",
                "#B0BEC5",
                "#B0BEC5",
                "#B0BEC5",
                "#B0BEC5",
                "#B0BEC5",
                "#B0BEC5",
                "#B0BEC5",
                "#B0BEC5",
                "#B0BEC5",
                "#B0BEC5"
               ]
              ]
             }
            ],
            "label": "Topic 2",
            "method": "update"
           },
           {
            "args": [
             {
              "marker.color": [
               [
                "#B0BEC5",
                "#B0BEC5",
                "#B0BEC5",
                "red",
                "#B0BEC5",
                "#B0BEC5",
                "#B0BEC5",
                "#B0BEC5",
                "#B0BEC5",
                "#B0BEC5",
                "#B0BEC5",
                "#B0BEC5",
                "#B0BEC5",
                "#B0BEC5",
                "#B0BEC5",
                "#B0BEC5",
                "#B0BEC5",
                "#B0BEC5",
                "#B0BEC5",
                "#B0BEC5",
                "#B0BEC5",
                "#B0BEC5",
                "#B0BEC5",
                "#B0BEC5",
                "#B0BEC5",
                "#B0BEC5",
                "#B0BEC5",
                "#B0BEC5",
                "#B0BEC5",
                "#B0BEC5",
                "#B0BEC5",
                "#B0BEC5",
                "#B0BEC5",
                "#B0BEC5",
                "#B0BEC5",
                "#B0BEC5",
                "#B0BEC5",
                "#B0BEC5",
                "#B0BEC5",
                "#B0BEC5",
                "#B0BEC5",
                "#B0BEC5",
                "#B0BEC5"
               ]
              ]
             }
            ],
            "label": "Topic 3",
            "method": "update"
           },
           {
            "args": [
             {
              "marker.color": [
               [
                "#B0BEC5",
                "#B0BEC5",
                "#B0BEC5",
                "#B0BEC5",
                "red",
                "#B0BEC5",
                "#B0BEC5",
                "#B0BEC5",
                "#B0BEC5",
                "#B0BEC5",
                "#B0BEC5",
                "#B0BEC5",
                "#B0BEC5",
                "#B0BEC5",
                "#B0BEC5",
                "#B0BEC5",
                "#B0BEC5",
                "#B0BEC5",
                "#B0BEC5",
                "#B0BEC5",
                "#B0BEC5",
                "#B0BEC5",
                "#B0BEC5",
                "#B0BEC5",
                "#B0BEC5",
                "#B0BEC5",
                "#B0BEC5",
                "#B0BEC5",
                "#B0BEC5",
                "#B0BEC5",
                "#B0BEC5",
                "#B0BEC5",
                "#B0BEC5",
                "#B0BEC5",
                "#B0BEC5",
                "#B0BEC5",
                "#B0BEC5",
                "#B0BEC5",
                "#B0BEC5",
                "#B0BEC5",
                "#B0BEC5",
                "#B0BEC5",
                "#B0BEC5"
               ]
              ]
             }
            ],
            "label": "Topic 4",
            "method": "update"
           },
           {
            "args": [
             {
              "marker.color": [
               [
                "#B0BEC5",
                "#B0BEC5",
                "#B0BEC5",
                "#B0BEC5",
                "#B0BEC5",
                "red",
                "#B0BEC5",
                "#B0BEC5",
                "#B0BEC5",
                "#B0BEC5",
                "#B0BEC5",
                "#B0BEC5",
                "#B0BEC5",
                "#B0BEC5",
                "#B0BEC5",
                "#B0BEC5",
                "#B0BEC5",
                "#B0BEC5",
                "#B0BEC5",
                "#B0BEC5",
                "#B0BEC5",
                "#B0BEC5",
                "#B0BEC5",
                "#B0BEC5",
                "#B0BEC5",
                "#B0BEC5",
                "#B0BEC5",
                "#B0BEC5",
                "#B0BEC5",
                "#B0BEC5",
                "#B0BEC5",
                "#B0BEC5",
                "#B0BEC5",
                "#B0BEC5",
                "#B0BEC5",
                "#B0BEC5",
                "#B0BEC5",
                "#B0BEC5",
                "#B0BEC5",
                "#B0BEC5",
                "#B0BEC5",
                "#B0BEC5",
                "#B0BEC5"
               ]
              ]
             }
            ],
            "label": "Topic 5",
            "method": "update"
           },
           {
            "args": [
             {
              "marker.color": [
               [
                "#B0BEC5",
                "#B0BEC5",
                "#B0BEC5",
                "#B0BEC5",
                "#B0BEC5",
                "#B0BEC5",
                "red",
                "#B0BEC5",
                "#B0BEC5",
                "#B0BEC5",
                "#B0BEC5",
                "#B0BEC5",
                "#B0BEC5",
                "#B0BEC5",
                "#B0BEC5",
                "#B0BEC5",
                "#B0BEC5",
                "#B0BEC5",
                "#B0BEC5",
                "#B0BEC5",
                "#B0BEC5",
                "#B0BEC5",
                "#B0BEC5",
                "#B0BEC5",
                "#B0BEC5",
                "#B0BEC5",
                "#B0BEC5",
                "#B0BEC5",
                "#B0BEC5",
                "#B0BEC5",
                "#B0BEC5",
                "#B0BEC5",
                "#B0BEC5",
                "#B0BEC5",
                "#B0BEC5",
                "#B0BEC5",
                "#B0BEC5",
                "#B0BEC5",
                "#B0BEC5",
                "#B0BEC5",
                "#B0BEC5",
                "#B0BEC5",
                "#B0BEC5"
               ]
              ]
             }
            ],
            "label": "Topic 6",
            "method": "update"
           },
           {
            "args": [
             {
              "marker.color": [
               [
                "#B0BEC5",
                "#B0BEC5",
                "#B0BEC5",
                "#B0BEC5",
                "#B0BEC5",
                "#B0BEC5",
                "#B0BEC5",
                "red",
                "#B0BEC5",
                "#B0BEC5",
                "#B0BEC5",
                "#B0BEC5",
                "#B0BEC5",
                "#B0BEC5",
                "#B0BEC5",
                "#B0BEC5",
                "#B0BEC5",
                "#B0BEC5",
                "#B0BEC5",
                "#B0BEC5",
                "#B0BEC5",
                "#B0BEC5",
                "#B0BEC5",
                "#B0BEC5",
                "#B0BEC5",
                "#B0BEC5",
                "#B0BEC5",
                "#B0BEC5",
                "#B0BEC5",
                "#B0BEC5",
                "#B0BEC5",
                "#B0BEC5",
                "#B0BEC5",
                "#B0BEC5",
                "#B0BEC5",
                "#B0BEC5",
                "#B0BEC5",
                "#B0BEC5",
                "#B0BEC5",
                "#B0BEC5",
                "#B0BEC5",
                "#B0BEC5",
                "#B0BEC5"
               ]
              ]
             }
            ],
            "label": "Topic 7",
            "method": "update"
           },
           {
            "args": [
             {
              "marker.color": [
               [
                "#B0BEC5",
                "#B0BEC5",
                "#B0BEC5",
                "#B0BEC5",
                "#B0BEC5",
                "#B0BEC5",
                "#B0BEC5",
                "#B0BEC5",
                "red",
                "#B0BEC5",
                "#B0BEC5",
                "#B0BEC5",
                "#B0BEC5",
                "#B0BEC5",
                "#B0BEC5",
                "#B0BEC5",
                "#B0BEC5",
                "#B0BEC5",
                "#B0BEC5",
                "#B0BEC5",
                "#B0BEC5",
                "#B0BEC5",
                "#B0BEC5",
                "#B0BEC5",
                "#B0BEC5",
                "#B0BEC5",
                "#B0BEC5",
                "#B0BEC5",
                "#B0BEC5",
                "#B0BEC5",
                "#B0BEC5",
                "#B0BEC5",
                "#B0BEC5",
                "#B0BEC5",
                "#B0BEC5",
                "#B0BEC5",
                "#B0BEC5",
                "#B0BEC5",
                "#B0BEC5",
                "#B0BEC5",
                "#B0BEC5",
                "#B0BEC5",
                "#B0BEC5"
               ]
              ]
             }
            ],
            "label": "Topic 8",
            "method": "update"
           },
           {
            "args": [
             {
              "marker.color": [
               [
                "#B0BEC5",
                "#B0BEC5",
                "#B0BEC5",
                "#B0BEC5",
                "#B0BEC5",
                "#B0BEC5",
                "#B0BEC5",
                "#B0BEC5",
                "#B0BEC5",
                "red",
                "#B0BEC5",
                "#B0BEC5",
                "#B0BEC5",
                "#B0BEC5",
                "#B0BEC5",
                "#B0BEC5",
                "#B0BEC5",
                "#B0BEC5",
                "#B0BEC5",
                "#B0BEC5",
                "#B0BEC5",
                "#B0BEC5",
                "#B0BEC5",
                "#B0BEC5",
                "#B0BEC5",
                "#B0BEC5",
                "#B0BEC5",
                "#B0BEC5",
                "#B0BEC5",
                "#B0BEC5",
                "#B0BEC5",
                "#B0BEC5",
                "#B0BEC5",
                "#B0BEC5",
                "#B0BEC5",
                "#B0BEC5",
                "#B0BEC5",
                "#B0BEC5",
                "#B0BEC5",
                "#B0BEC5",
                "#B0BEC5",
                "#B0BEC5",
                "#B0BEC5"
               ]
              ]
             }
            ],
            "label": "Topic 9",
            "method": "update"
           },
           {
            "args": [
             {
              "marker.color": [
               [
                "#B0BEC5",
                "#B0BEC5",
                "#B0BEC5",
                "#B0BEC5",
                "#B0BEC5",
                "#B0BEC5",
                "#B0BEC5",
                "#B0BEC5",
                "#B0BEC5",
                "#B0BEC5",
                "red",
                "#B0BEC5",
                "#B0BEC5",
                "#B0BEC5",
                "#B0BEC5",
                "#B0BEC5",
                "#B0BEC5",
                "#B0BEC5",
                "#B0BEC5",
                "#B0BEC5",
                "#B0BEC5",
                "#B0BEC5",
                "#B0BEC5",
                "#B0BEC5",
                "#B0BEC5",
                "#B0BEC5",
                "#B0BEC5",
                "#B0BEC5",
                "#B0BEC5",
                "#B0BEC5",
                "#B0BEC5",
                "#B0BEC5",
                "#B0BEC5",
                "#B0BEC5",
                "#B0BEC5",
                "#B0BEC5",
                "#B0BEC5",
                "#B0BEC5",
                "#B0BEC5",
                "#B0BEC5",
                "#B0BEC5",
                "#B0BEC5",
                "#B0BEC5"
               ]
              ]
             }
            ],
            "label": "Topic 10",
            "method": "update"
           },
           {
            "args": [
             {
              "marker.color": [
               [
                "#B0BEC5",
                "#B0BEC5",
                "#B0BEC5",
                "#B0BEC5",
                "#B0BEC5",
                "#B0BEC5",
                "#B0BEC5",
                "#B0BEC5",
                "#B0BEC5",
                "#B0BEC5",
                "#B0BEC5",
                "red",
                "#B0BEC5",
                "#B0BEC5",
                "#B0BEC5",
                "#B0BEC5",
                "#B0BEC5",
                "#B0BEC5",
                "#B0BEC5",
                "#B0BEC5",
                "#B0BEC5",
                "#B0BEC5",
                "#B0BEC5",
                "#B0BEC5",
                "#B0BEC5",
                "#B0BEC5",
                "#B0BEC5",
                "#B0BEC5",
                "#B0BEC5",
                "#B0BEC5",
                "#B0BEC5",
                "#B0BEC5",
                "#B0BEC5",
                "#B0BEC5",
                "#B0BEC5",
                "#B0BEC5",
                "#B0BEC5",
                "#B0BEC5",
                "#B0BEC5",
                "#B0BEC5",
                "#B0BEC5",
                "#B0BEC5",
                "#B0BEC5"
               ]
              ]
             }
            ],
            "label": "Topic 11",
            "method": "update"
           },
           {
            "args": [
             {
              "marker.color": [
               [
                "#B0BEC5",
                "#B0BEC5",
                "#B0BEC5",
                "#B0BEC5",
                "#B0BEC5",
                "#B0BEC5",
                "#B0BEC5",
                "#B0BEC5",
                "#B0BEC5",
                "#B0BEC5",
                "#B0BEC5",
                "#B0BEC5",
                "red",
                "#B0BEC5",
                "#B0BEC5",
                "#B0BEC5",
                "#B0BEC5",
                "#B0BEC5",
                "#B0BEC5",
                "#B0BEC5",
                "#B0BEC5",
                "#B0BEC5",
                "#B0BEC5",
                "#B0BEC5",
                "#B0BEC5",
                "#B0BEC5",
                "#B0BEC5",
                "#B0BEC5",
                "#B0BEC5",
                "#B0BEC5",
                "#B0BEC5",
                "#B0BEC5",
                "#B0BEC5",
                "#B0BEC5",
                "#B0BEC5",
                "#B0BEC5",
                "#B0BEC5",
                "#B0BEC5",
                "#B0BEC5",
                "#B0BEC5",
                "#B0BEC5",
                "#B0BEC5",
                "#B0BEC5"
               ]
              ]
             }
            ],
            "label": "Topic 12",
            "method": "update"
           },
           {
            "args": [
             {
              "marker.color": [
               [
                "#B0BEC5",
                "#B0BEC5",
                "#B0BEC5",
                "#B0BEC5",
                "#B0BEC5",
                "#B0BEC5",
                "#B0BEC5",
                "#B0BEC5",
                "#B0BEC5",
                "#B0BEC5",
                "#B0BEC5",
                "#B0BEC5",
                "#B0BEC5",
                "red",
                "#B0BEC5",
                "#B0BEC5",
                "#B0BEC5",
                "#B0BEC5",
                "#B0BEC5",
                "#B0BEC5",
                "#B0BEC5",
                "#B0BEC5",
                "#B0BEC5",
                "#B0BEC5",
                "#B0BEC5",
                "#B0BEC5",
                "#B0BEC5",
                "#B0BEC5",
                "#B0BEC5",
                "#B0BEC5",
                "#B0BEC5",
                "#B0BEC5",
                "#B0BEC5",
                "#B0BEC5",
                "#B0BEC5",
                "#B0BEC5",
                "#B0BEC5",
                "#B0BEC5",
                "#B0BEC5",
                "#B0BEC5",
                "#B0BEC5",
                "#B0BEC5",
                "#B0BEC5"
               ]
              ]
             }
            ],
            "label": "Topic 13",
            "method": "update"
           },
           {
            "args": [
             {
              "marker.color": [
               [
                "#B0BEC5",
                "#B0BEC5",
                "#B0BEC5",
                "#B0BEC5",
                "#B0BEC5",
                "#B0BEC5",
                "#B0BEC5",
                "#B0BEC5",
                "#B0BEC5",
                "#B0BEC5",
                "#B0BEC5",
                "#B0BEC5",
                "#B0BEC5",
                "#B0BEC5",
                "red",
                "#B0BEC5",
                "#B0BEC5",
                "#B0BEC5",
                "#B0BEC5",
                "#B0BEC5",
                "#B0BEC5",
                "#B0BEC5",
                "#B0BEC5",
                "#B0BEC5",
                "#B0BEC5",
                "#B0BEC5",
                "#B0BEC5",
                "#B0BEC5",
                "#B0BEC5",
                "#B0BEC5",
                "#B0BEC5",
                "#B0BEC5",
                "#B0BEC5",
                "#B0BEC5",
                "#B0BEC5",
                "#B0BEC5",
                "#B0BEC5",
                "#B0BEC5",
                "#B0BEC5",
                "#B0BEC5",
                "#B0BEC5",
                "#B0BEC5",
                "#B0BEC5"
               ]
              ]
             }
            ],
            "label": "Topic 14",
            "method": "update"
           },
           {
            "args": [
             {
              "marker.color": [
               [
                "#B0BEC5",
                "#B0BEC5",
                "#B0BEC5",
                "#B0BEC5",
                "#B0BEC5",
                "#B0BEC5",
                "#B0BEC5",
                "#B0BEC5",
                "#B0BEC5",
                "#B0BEC5",
                "#B0BEC5",
                "#B0BEC5",
                "#B0BEC5",
                "#B0BEC5",
                "#B0BEC5",
                "red",
                "#B0BEC5",
                "#B0BEC5",
                "#B0BEC5",
                "#B0BEC5",
                "#B0BEC5",
                "#B0BEC5",
                "#B0BEC5",
                "#B0BEC5",
                "#B0BEC5",
                "#B0BEC5",
                "#B0BEC5",
                "#B0BEC5",
                "#B0BEC5",
                "#B0BEC5",
                "#B0BEC5",
                "#B0BEC5",
                "#B0BEC5",
                "#B0BEC5",
                "#B0BEC5",
                "#B0BEC5",
                "#B0BEC5",
                "#B0BEC5",
                "#B0BEC5",
                "#B0BEC5",
                "#B0BEC5",
                "#B0BEC5",
                "#B0BEC5"
               ]
              ]
             }
            ],
            "label": "Topic 15",
            "method": "update"
           },
           {
            "args": [
             {
              "marker.color": [
               [
                "#B0BEC5",
                "#B0BEC5",
                "#B0BEC5",
                "#B0BEC5",
                "#B0BEC5",
                "#B0BEC5",
                "#B0BEC5",
                "#B0BEC5",
                "#B0BEC5",
                "#B0BEC5",
                "#B0BEC5",
                "#B0BEC5",
                "#B0BEC5",
                "#B0BEC5",
                "#B0BEC5",
                "#B0BEC5",
                "red",
                "#B0BEC5",
                "#B0BEC5",
                "#B0BEC5",
                "#B0BEC5",
                "#B0BEC5",
                "#B0BEC5",
                "#B0BEC5",
                "#B0BEC5",
                "#B0BEC5",
                "#B0BEC5",
                "#B0BEC5",
                "#B0BEC5",
                "#B0BEC5",
                "#B0BEC5",
                "#B0BEC5",
                "#B0BEC5",
                "#B0BEC5",
                "#B0BEC5",
                "#B0BEC5",
                "#B0BEC5",
                "#B0BEC5",
                "#B0BEC5",
                "#B0BEC5",
                "#B0BEC5",
                "#B0BEC5",
                "#B0BEC5"
               ]
              ]
             }
            ],
            "label": "Topic 16",
            "method": "update"
           },
           {
            "args": [
             {
              "marker.color": [
               [
                "#B0BEC5",
                "#B0BEC5",
                "#B0BEC5",
                "#B0BEC5",
                "#B0BEC5",
                "#B0BEC5",
                "#B0BEC5",
                "#B0BEC5",
                "#B0BEC5",
                "#B0BEC5",
                "#B0BEC5",
                "#B0BEC5",
                "#B0BEC5",
                "#B0BEC5",
                "#B0BEC5",
                "#B0BEC5",
                "#B0BEC5",
                "red",
                "#B0BEC5",
                "#B0BEC5",
                "#B0BEC5",
                "#B0BEC5",
                "#B0BEC5",
                "#B0BEC5",
                "#B0BEC5",
                "#B0BEC5",
                "#B0BEC5",
                "#B0BEC5",
                "#B0BEC5",
                "#B0BEC5",
                "#B0BEC5",
                "#B0BEC5",
                "#B0BEC5",
                "#B0BEC5",
                "#B0BEC5",
                "#B0BEC5",
                "#B0BEC5",
                "#B0BEC5",
                "#B0BEC5",
                "#B0BEC5",
                "#B0BEC5",
                "#B0BEC5",
                "#B0BEC5"
               ]
              ]
             }
            ],
            "label": "Topic 17",
            "method": "update"
           },
           {
            "args": [
             {
              "marker.color": [
               [
                "#B0BEC5",
                "#B0BEC5",
                "#B0BEC5",
                "#B0BEC5",
                "#B0BEC5",
                "#B0BEC5",
                "#B0BEC5",
                "#B0BEC5",
                "#B0BEC5",
                "#B0BEC5",
                "#B0BEC5",
                "#B0BEC5",
                "#B0BEC5",
                "#B0BEC5",
                "#B0BEC5",
                "#B0BEC5",
                "#B0BEC5",
                "#B0BEC5",
                "red",
                "#B0BEC5",
                "#B0BEC5",
                "#B0BEC5",
                "#B0BEC5",
                "#B0BEC5",
                "#B0BEC5",
                "#B0BEC5",
                "#B0BEC5",
                "#B0BEC5",
                "#B0BEC5",
                "#B0BEC5",
                "#B0BEC5",
                "#B0BEC5",
                "#B0BEC5",
                "#B0BEC5",
                "#B0BEC5",
                "#B0BEC5",
                "#B0BEC5",
                "#B0BEC5",
                "#B0BEC5",
                "#B0BEC5",
                "#B0BEC5",
                "#B0BEC5",
                "#B0BEC5"
               ]
              ]
             }
            ],
            "label": "Topic 18",
            "method": "update"
           },
           {
            "args": [
             {
              "marker.color": [
               [
                "#B0BEC5",
                "#B0BEC5",
                "#B0BEC5",
                "#B0BEC5",
                "#B0BEC5",
                "#B0BEC5",
                "#B0BEC5",
                "#B0BEC5",
                "#B0BEC5",
                "#B0BEC5",
                "#B0BEC5",
                "#B0BEC5",
                "#B0BEC5",
                "#B0BEC5",
                "#B0BEC5",
                "#B0BEC5",
                "#B0BEC5",
                "#B0BEC5",
                "#B0BEC5",
                "red",
                "#B0BEC5",
                "#B0BEC5",
                "#B0BEC5",
                "#B0BEC5",
                "#B0BEC5",
                "#B0BEC5",
                "#B0BEC5",
                "#B0BEC5",
                "#B0BEC5",
                "#B0BEC5",
                "#B0BEC5",
                "#B0BEC5",
                "#B0BEC5",
                "#B0BEC5",
                "#B0BEC5",
                "#B0BEC5",
                "#B0BEC5",
                "#B0BEC5",
                "#B0BEC5",
                "#B0BEC5",
                "#B0BEC5",
                "#B0BEC5",
                "#B0BEC5"
               ]
              ]
             }
            ],
            "label": "Topic 19",
            "method": "update"
           },
           {
            "args": [
             {
              "marker.color": [
               [
                "#B0BEC5",
                "#B0BEC5",
                "#B0BEC5",
                "#B0BEC5",
                "#B0BEC5",
                "#B0BEC5",
                "#B0BEC5",
                "#B0BEC5",
                "#B0BEC5",
                "#B0BEC5",
                "#B0BEC5",
                "#B0BEC5",
                "#B0BEC5",
                "#B0BEC5",
                "#B0BEC5",
                "#B0BEC5",
                "#B0BEC5",
                "#B0BEC5",
                "#B0BEC5",
                "#B0BEC5",
                "red",
                "#B0BEC5",
                "#B0BEC5",
                "#B0BEC5",
                "#B0BEC5",
                "#B0BEC5",
                "#B0BEC5",
                "#B0BEC5",
                "#B0BEC5",
                "#B0BEC5",
                "#B0BEC5",
                "#B0BEC5",
                "#B0BEC5",
                "#B0BEC5",
                "#B0BEC5",
                "#B0BEC5",
                "#B0BEC5",
                "#B0BEC5",
                "#B0BEC5",
                "#B0BEC5",
                "#B0BEC5",
                "#B0BEC5",
                "#B0BEC5"
               ]
              ]
             }
            ],
            "label": "Topic 20",
            "method": "update"
           },
           {
            "args": [
             {
              "marker.color": [
               [
                "#B0BEC5",
                "#B0BEC5",
                "#B0BEC5",
                "#B0BEC5",
                "#B0BEC5",
                "#B0BEC5",
                "#B0BEC5",
                "#B0BEC5",
                "#B0BEC5",
                "#B0BEC5",
                "#B0BEC5",
                "#B0BEC5",
                "#B0BEC5",
                "#B0BEC5",
                "#B0BEC5",
                "#B0BEC5",
                "#B0BEC5",
                "#B0BEC5",
                "#B0BEC5",
                "#B0BEC5",
                "#B0BEC5",
                "red",
                "#B0BEC5",
                "#B0BEC5",
                "#B0BEC5",
                "#B0BEC5",
                "#B0BEC5",
                "#B0BEC5",
                "#B0BEC5",
                "#B0BEC5",
                "#B0BEC5",
                "#B0BEC5",
                "#B0BEC5",
                "#B0BEC5",
                "#B0BEC5",
                "#B0BEC5",
                "#B0BEC5",
                "#B0BEC5",
                "#B0BEC5",
                "#B0BEC5",
                "#B0BEC5",
                "#B0BEC5",
                "#B0BEC5"
               ]
              ]
             }
            ],
            "label": "Topic 21",
            "method": "update"
           },
           {
            "args": [
             {
              "marker.color": [
               [
                "#B0BEC5",
                "#B0BEC5",
                "#B0BEC5",
                "#B0BEC5",
                "#B0BEC5",
                "#B0BEC5",
                "#B0BEC5",
                "#B0BEC5",
                "#B0BEC5",
                "#B0BEC5",
                "#B0BEC5",
                "#B0BEC5",
                "#B0BEC5",
                "#B0BEC5",
                "#B0BEC5",
                "#B0BEC5",
                "#B0BEC5",
                "#B0BEC5",
                "#B0BEC5",
                "#B0BEC5",
                "#B0BEC5",
                "#B0BEC5",
                "red",
                "#B0BEC5",
                "#B0BEC5",
                "#B0BEC5",
                "#B0BEC5",
                "#B0BEC5",
                "#B0BEC5",
                "#B0BEC5",
                "#B0BEC5",
                "#B0BEC5",
                "#B0BEC5",
                "#B0BEC5",
                "#B0BEC5",
                "#B0BEC5",
                "#B0BEC5",
                "#B0BEC5",
                "#B0BEC5",
                "#B0BEC5",
                "#B0BEC5",
                "#B0BEC5",
                "#B0BEC5"
               ]
              ]
             }
            ],
            "label": "Topic 22",
            "method": "update"
           },
           {
            "args": [
             {
              "marker.color": [
               [
                "#B0BEC5",
                "#B0BEC5",
                "#B0BEC5",
                "#B0BEC5",
                "#B0BEC5",
                "#B0BEC5",
                "#B0BEC5",
                "#B0BEC5",
                "#B0BEC5",
                "#B0BEC5",
                "#B0BEC5",
                "#B0BEC5",
                "#B0BEC5",
                "#B0BEC5",
                "#B0BEC5",
                "#B0BEC5",
                "#B0BEC5",
                "#B0BEC5",
                "#B0BEC5",
                "#B0BEC5",
                "#B0BEC5",
                "#B0BEC5",
                "#B0BEC5",
                "red",
                "#B0BEC5",
                "#B0BEC5",
                "#B0BEC5",
                "#B0BEC5",
                "#B0BEC5",
                "#B0BEC5",
                "#B0BEC5",
                "#B0BEC5",
                "#B0BEC5",
                "#B0BEC5",
                "#B0BEC5",
                "#B0BEC5",
                "#B0BEC5",
                "#B0BEC5",
                "#B0BEC5",
                "#B0BEC5",
                "#B0BEC5",
                "#B0BEC5",
                "#B0BEC5"
               ]
              ]
             }
            ],
            "label": "Topic 23",
            "method": "update"
           },
           {
            "args": [
             {
              "marker.color": [
               [
                "#B0BEC5",
                "#B0BEC5",
                "#B0BEC5",
                "#B0BEC5",
                "#B0BEC5",
                "#B0BEC5",
                "#B0BEC5",
                "#B0BEC5",
                "#B0BEC5",
                "#B0BEC5",
                "#B0BEC5",
                "#B0BEC5",
                "#B0BEC5",
                "#B0BEC5",
                "#B0BEC5",
                "#B0BEC5",
                "#B0BEC5",
                "#B0BEC5",
                "#B0BEC5",
                "#B0BEC5",
                "#B0BEC5",
                "#B0BEC5",
                "#B0BEC5",
                "#B0BEC5",
                "red",
                "#B0BEC5",
                "#B0BEC5",
                "#B0BEC5",
                "#B0BEC5",
                "#B0BEC5",
                "#B0BEC5",
                "#B0BEC5",
                "#B0BEC5",
                "#B0BEC5",
                "#B0BEC5",
                "#B0BEC5",
                "#B0BEC5",
                "#B0BEC5",
                "#B0BEC5",
                "#B0BEC5",
                "#B0BEC5",
                "#B0BEC5",
                "#B0BEC5"
               ]
              ]
             }
            ],
            "label": "Topic 24",
            "method": "update"
           },
           {
            "args": [
             {
              "marker.color": [
               [
                "#B0BEC5",
                "#B0BEC5",
                "#B0BEC5",
                "#B0BEC5",
                "#B0BEC5",
                "#B0BEC5",
                "#B0BEC5",
                "#B0BEC5",
                "#B0BEC5",
                "#B0BEC5",
                "#B0BEC5",
                "#B0BEC5",
                "#B0BEC5",
                "#B0BEC5",
                "#B0BEC5",
                "#B0BEC5",
                "#B0BEC5",
                "#B0BEC5",
                "#B0BEC5",
                "#B0BEC5",
                "#B0BEC5",
                "#B0BEC5",
                "#B0BEC5",
                "#B0BEC5",
                "#B0BEC5",
                "red",
                "#B0BEC5",
                "#B0BEC5",
                "#B0BEC5",
                "#B0BEC5",
                "#B0BEC5",
                "#B0BEC5",
                "#B0BEC5",
                "#B0BEC5",
                "#B0BEC5",
                "#B0BEC5",
                "#B0BEC5",
                "#B0BEC5",
                "#B0BEC5",
                "#B0BEC5",
                "#B0BEC5",
                "#B0BEC5",
                "#B0BEC5"
               ]
              ]
             }
            ],
            "label": "Topic 25",
            "method": "update"
           },
           {
            "args": [
             {
              "marker.color": [
               [
                "#B0BEC5",
                "#B0BEC5",
                "#B0BEC5",
                "#B0BEC5",
                "#B0BEC5",
                "#B0BEC5",
                "#B0BEC5",
                "#B0BEC5",
                "#B0BEC5",
                "#B0BEC5",
                "#B0BEC5",
                "#B0BEC5",
                "#B0BEC5",
                "#B0BEC5",
                "#B0BEC5",
                "#B0BEC5",
                "#B0BEC5",
                "#B0BEC5",
                "#B0BEC5",
                "#B0BEC5",
                "#B0BEC5",
                "#B0BEC5",
                "#B0BEC5",
                "#B0BEC5",
                "#B0BEC5",
                "#B0BEC5",
                "red",
                "#B0BEC5",
                "#B0BEC5",
                "#B0BEC5",
                "#B0BEC5",
                "#B0BEC5",
                "#B0BEC5",
                "#B0BEC5",
                "#B0BEC5",
                "#B0BEC5",
                "#B0BEC5",
                "#B0BEC5",
                "#B0BEC5",
                "#B0BEC5",
                "#B0BEC5",
                "#B0BEC5",
                "#B0BEC5"
               ]
              ]
             }
            ],
            "label": "Topic 26",
            "method": "update"
           },
           {
            "args": [
             {
              "marker.color": [
               [
                "#B0BEC5",
                "#B0BEC5",
                "#B0BEC5",
                "#B0BEC5",
                "#B0BEC5",
                "#B0BEC5",
                "#B0BEC5",
                "#B0BEC5",
                "#B0BEC5",
                "#B0BEC5",
                "#B0BEC5",
                "#B0BEC5",
                "#B0BEC5",
                "#B0BEC5",
                "#B0BEC5",
                "#B0BEC5",
                "#B0BEC5",
                "#B0BEC5",
                "#B0BEC5",
                "#B0BEC5",
                "#B0BEC5",
                "#B0BEC5",
                "#B0BEC5",
                "#B0BEC5",
                "#B0BEC5",
                "#B0BEC5",
                "#B0BEC5",
                "red",
                "#B0BEC5",
                "#B0BEC5",
                "#B0BEC5",
                "#B0BEC5",
                "#B0BEC5",
                "#B0BEC5",
                "#B0BEC5",
                "#B0BEC5",
                "#B0BEC5",
                "#B0BEC5",
                "#B0BEC5",
                "#B0BEC5",
                "#B0BEC5",
                "#B0BEC5",
                "#B0BEC5"
               ]
              ]
             }
            ],
            "label": "Topic 27",
            "method": "update"
           },
           {
            "args": [
             {
              "marker.color": [
               [
                "#B0BEC5",
                "#B0BEC5",
                "#B0BEC5",
                "#B0BEC5",
                "#B0BEC5",
                "#B0BEC5",
                "#B0BEC5",
                "#B0BEC5",
                "#B0BEC5",
                "#B0BEC5",
                "#B0BEC5",
                "#B0BEC5",
                "#B0BEC5",
                "#B0BEC5",
                "#B0BEC5",
                "#B0BEC5",
                "#B0BEC5",
                "#B0BEC5",
                "#B0BEC5",
                "#B0BEC5",
                "#B0BEC5",
                "#B0BEC5",
                "#B0BEC5",
                "#B0BEC5",
                "#B0BEC5",
                "#B0BEC5",
                "#B0BEC5",
                "#B0BEC5",
                "red",
                "#B0BEC5",
                "#B0BEC5",
                "#B0BEC5",
                "#B0BEC5",
                "#B0BEC5",
                "#B0BEC5",
                "#B0BEC5",
                "#B0BEC5",
                "#B0BEC5",
                "#B0BEC5",
                "#B0BEC5",
                "#B0BEC5",
                "#B0BEC5",
                "#B0BEC5"
               ]
              ]
             }
            ],
            "label": "Topic 28",
            "method": "update"
           },
           {
            "args": [
             {
              "marker.color": [
               [
                "#B0BEC5",
                "#B0BEC5",
                "#B0BEC5",
                "#B0BEC5",
                "#B0BEC5",
                "#B0BEC5",
                "#B0BEC5",
                "#B0BEC5",
                "#B0BEC5",
                "#B0BEC5",
                "#B0BEC5",
                "#B0BEC5",
                "#B0BEC5",
                "#B0BEC5",
                "#B0BEC5",
                "#B0BEC5",
                "#B0BEC5",
                "#B0BEC5",
                "#B0BEC5",
                "#B0BEC5",
                "#B0BEC5",
                "#B0BEC5",
                "#B0BEC5",
                "#B0BEC5",
                "#B0BEC5",
                "#B0BEC5",
                "#B0BEC5",
                "#B0BEC5",
                "#B0BEC5",
                "red",
                "#B0BEC5",
                "#B0BEC5",
                "#B0BEC5",
                "#B0BEC5",
                "#B0BEC5",
                "#B0BEC5",
                "#B0BEC5",
                "#B0BEC5",
                "#B0BEC5",
                "#B0BEC5",
                "#B0BEC5",
                "#B0BEC5",
                "#B0BEC5"
               ]
              ]
             }
            ],
            "label": "Topic 29",
            "method": "update"
           },
           {
            "args": [
             {
              "marker.color": [
               [
                "#B0BEC5",
                "#B0BEC5",
                "#B0BEC5",
                "#B0BEC5",
                "#B0BEC5",
                "#B0BEC5",
                "#B0BEC5",
                "#B0BEC5",
                "#B0BEC5",
                "#B0BEC5",
                "#B0BEC5",
                "#B0BEC5",
                "#B0BEC5",
                "#B0BEC5",
                "#B0BEC5",
                "#B0BEC5",
                "#B0BEC5",
                "#B0BEC5",
                "#B0BEC5",
                "#B0BEC5",
                "#B0BEC5",
                "#B0BEC5",
                "#B0BEC5",
                "#B0BEC5",
                "#B0BEC5",
                "#B0BEC5",
                "#B0BEC5",
                "#B0BEC5",
                "#B0BEC5",
                "#B0BEC5",
                "red",
                "#B0BEC5",
                "#B0BEC5",
                "#B0BEC5",
                "#B0BEC5",
                "#B0BEC5",
                "#B0BEC5",
                "#B0BEC5",
                "#B0BEC5",
                "#B0BEC5",
                "#B0BEC5",
                "#B0BEC5",
                "#B0BEC5"
               ]
              ]
             }
            ],
            "label": "Topic 30",
            "method": "update"
           },
           {
            "args": [
             {
              "marker.color": [
               [
                "#B0BEC5",
                "#B0BEC5",
                "#B0BEC5",
                "#B0BEC5",
                "#B0BEC5",
                "#B0BEC5",
                "#B0BEC5",
                "#B0BEC5",
                "#B0BEC5",
                "#B0BEC5",
                "#B0BEC5",
                "#B0BEC5",
                "#B0BEC5",
                "#B0BEC5",
                "#B0BEC5",
                "#B0BEC5",
                "#B0BEC5",
                "#B0BEC5",
                "#B0BEC5",
                "#B0BEC5",
                "#B0BEC5",
                "#B0BEC5",
                "#B0BEC5",
                "#B0BEC5",
                "#B0BEC5",
                "#B0BEC5",
                "#B0BEC5",
                "#B0BEC5",
                "#B0BEC5",
                "#B0BEC5",
                "#B0BEC5",
                "red",
                "#B0BEC5",
                "#B0BEC5",
                "#B0BEC5",
                "#B0BEC5",
                "#B0BEC5",
                "#B0BEC5",
                "#B0BEC5",
                "#B0BEC5",
                "#B0BEC5",
                "#B0BEC5",
                "#B0BEC5"
               ]
              ]
             }
            ],
            "label": "Topic 31",
            "method": "update"
           },
           {
            "args": [
             {
              "marker.color": [
               [
                "#B0BEC5",
                "#B0BEC5",
                "#B0BEC5",
                "#B0BEC5",
                "#B0BEC5",
                "#B0BEC5",
                "#B0BEC5",
                "#B0BEC5",
                "#B0BEC5",
                "#B0BEC5",
                "#B0BEC5",
                "#B0BEC5",
                "#B0BEC5",
                "#B0BEC5",
                "#B0BEC5",
                "#B0BEC5",
                "#B0BEC5",
                "#B0BEC5",
                "#B0BEC5",
                "#B0BEC5",
                "#B0BEC5",
                "#B0BEC5",
                "#B0BEC5",
                "#B0BEC5",
                "#B0BEC5",
                "#B0BEC5",
                "#B0BEC5",
                "#B0BEC5",
                "#B0BEC5",
                "#B0BEC5",
                "#B0BEC5",
                "#B0BEC5",
                "red",
                "#B0BEC5",
                "#B0BEC5",
                "#B0BEC5",
                "#B0BEC5",
                "#B0BEC5",
                "#B0BEC5",
                "#B0BEC5",
                "#B0BEC5",
                "#B0BEC5",
                "#B0BEC5"
               ]
              ]
             }
            ],
            "label": "Topic 32",
            "method": "update"
           },
           {
            "args": [
             {
              "marker.color": [
               [
                "#B0BEC5",
                "#B0BEC5",
                "#B0BEC5",
                "#B0BEC5",
                "#B0BEC5",
                "#B0BEC5",
                "#B0BEC5",
                "#B0BEC5",
                "#B0BEC5",
                "#B0BEC5",
                "#B0BEC5",
                "#B0BEC5",
                "#B0BEC5",
                "#B0BEC5",
                "#B0BEC5",
                "#B0BEC5",
                "#B0BEC5",
                "#B0BEC5",
                "#B0BEC5",
                "#B0BEC5",
                "#B0BEC5",
                "#B0BEC5",
                "#B0BEC5",
                "#B0BEC5",
                "#B0BEC5",
                "#B0BEC5",
                "#B0BEC5",
                "#B0BEC5",
                "#B0BEC5",
                "#B0BEC5",
                "#B0BEC5",
                "#B0BEC5",
                "#B0BEC5",
                "red",
                "#B0BEC5",
                "#B0BEC5",
                "#B0BEC5",
                "#B0BEC5",
                "#B0BEC5",
                "#B0BEC5",
                "#B0BEC5",
                "#B0BEC5",
                "#B0BEC5"
               ]
              ]
             }
            ],
            "label": "Topic 33",
            "method": "update"
           },
           {
            "args": [
             {
              "marker.color": [
               [
                "#B0BEC5",
                "#B0BEC5",
                "#B0BEC5",
                "#B0BEC5",
                "#B0BEC5",
                "#B0BEC5",
                "#B0BEC5",
                "#B0BEC5",
                "#B0BEC5",
                "#B0BEC5",
                "#B0BEC5",
                "#B0BEC5",
                "#B0BEC5",
                "#B0BEC5",
                "#B0BEC5",
                "#B0BEC5",
                "#B0BEC5",
                "#B0BEC5",
                "#B0BEC5",
                "#B0BEC5",
                "#B0BEC5",
                "#B0BEC5",
                "#B0BEC5",
                "#B0BEC5",
                "#B0BEC5",
                "#B0BEC5",
                "#B0BEC5",
                "#B0BEC5",
                "#B0BEC5",
                "#B0BEC5",
                "#B0BEC5",
                "#B0BEC5",
                "#B0BEC5",
                "#B0BEC5",
                "red",
                "#B0BEC5",
                "#B0BEC5",
                "#B0BEC5",
                "#B0BEC5",
                "#B0BEC5",
                "#B0BEC5",
                "#B0BEC5",
                "#B0BEC5"
               ]
              ]
             }
            ],
            "label": "Topic 34",
            "method": "update"
           },
           {
            "args": [
             {
              "marker.color": [
               [
                "#B0BEC5",
                "#B0BEC5",
                "#B0BEC5",
                "#B0BEC5",
                "#B0BEC5",
                "#B0BEC5",
                "#B0BEC5",
                "#B0BEC5",
                "#B0BEC5",
                "#B0BEC5",
                "#B0BEC5",
                "#B0BEC5",
                "#B0BEC5",
                "#B0BEC5",
                "#B0BEC5",
                "#B0BEC5",
                "#B0BEC5",
                "#B0BEC5",
                "#B0BEC5",
                "#B0BEC5",
                "#B0BEC5",
                "#B0BEC5",
                "#B0BEC5",
                "#B0BEC5",
                "#B0BEC5",
                "#B0BEC5",
                "#B0BEC5",
                "#B0BEC5",
                "#B0BEC5",
                "#B0BEC5",
                "#B0BEC5",
                "#B0BEC5",
                "#B0BEC5",
                "#B0BEC5",
                "#B0BEC5",
                "red",
                "#B0BEC5",
                "#B0BEC5",
                "#B0BEC5",
                "#B0BEC5",
                "#B0BEC5",
                "#B0BEC5",
                "#B0BEC5"
               ]
              ]
             }
            ],
            "label": "Topic 35",
            "method": "update"
           },
           {
            "args": [
             {
              "marker.color": [
               [
                "#B0BEC5",
                "#B0BEC5",
                "#B0BEC5",
                "#B0BEC5",
                "#B0BEC5",
                "#B0BEC5",
                "#B0BEC5",
                "#B0BEC5",
                "#B0BEC5",
                "#B0BEC5",
                "#B0BEC5",
                "#B0BEC5",
                "#B0BEC5",
                "#B0BEC5",
                "#B0BEC5",
                "#B0BEC5",
                "#B0BEC5",
                "#B0BEC5",
                "#B0BEC5",
                "#B0BEC5",
                "#B0BEC5",
                "#B0BEC5",
                "#B0BEC5",
                "#B0BEC5",
                "#B0BEC5",
                "#B0BEC5",
                "#B0BEC5",
                "#B0BEC5",
                "#B0BEC5",
                "#B0BEC5",
                "#B0BEC5",
                "#B0BEC5",
                "#B0BEC5",
                "#B0BEC5",
                "#B0BEC5",
                "#B0BEC5",
                "red",
                "#B0BEC5",
                "#B0BEC5",
                "#B0BEC5",
                "#B0BEC5",
                "#B0BEC5",
                "#B0BEC5"
               ]
              ]
             }
            ],
            "label": "Topic 36",
            "method": "update"
           },
           {
            "args": [
             {
              "marker.color": [
               [
                "#B0BEC5",
                "#B0BEC5",
                "#B0BEC5",
                "#B0BEC5",
                "#B0BEC5",
                "#B0BEC5",
                "#B0BEC5",
                "#B0BEC5",
                "#B0BEC5",
                "#B0BEC5",
                "#B0BEC5",
                "#B0BEC5",
                "#B0BEC5",
                "#B0BEC5",
                "#B0BEC5",
                "#B0BEC5",
                "#B0BEC5",
                "#B0BEC5",
                "#B0BEC5",
                "#B0BEC5",
                "#B0BEC5",
                "#B0BEC5",
                "#B0BEC5",
                "#B0BEC5",
                "#B0BEC5",
                "#B0BEC5",
                "#B0BEC5",
                "#B0BEC5",
                "#B0BEC5",
                "#B0BEC5",
                "#B0BEC5",
                "#B0BEC5",
                "#B0BEC5",
                "#B0BEC5",
                "#B0BEC5",
                "#B0BEC5",
                "#B0BEC5",
                "red",
                "#B0BEC5",
                "#B0BEC5",
                "#B0BEC5",
                "#B0BEC5",
                "#B0BEC5"
               ]
              ]
             }
            ],
            "label": "Topic 37",
            "method": "update"
           },
           {
            "args": [
             {
              "marker.color": [
               [
                "#B0BEC5",
                "#B0BEC5",
                "#B0BEC5",
                "#B0BEC5",
                "#B0BEC5",
                "#B0BEC5",
                "#B0BEC5",
                "#B0BEC5",
                "#B0BEC5",
                "#B0BEC5",
                "#B0BEC5",
                "#B0BEC5",
                "#B0BEC5",
                "#B0BEC5",
                "#B0BEC5",
                "#B0BEC5",
                "#B0BEC5",
                "#B0BEC5",
                "#B0BEC5",
                "#B0BEC5",
                "#B0BEC5",
                "#B0BEC5",
                "#B0BEC5",
                "#B0BEC5",
                "#B0BEC5",
                "#B0BEC5",
                "#B0BEC5",
                "#B0BEC5",
                "#B0BEC5",
                "#B0BEC5",
                "#B0BEC5",
                "#B0BEC5",
                "#B0BEC5",
                "#B0BEC5",
                "#B0BEC5",
                "#B0BEC5",
                "#B0BEC5",
                "#B0BEC5",
                "red",
                "#B0BEC5",
                "#B0BEC5",
                "#B0BEC5",
                "#B0BEC5"
               ]
              ]
             }
            ],
            "label": "Topic 38",
            "method": "update"
           },
           {
            "args": [
             {
              "marker.color": [
               [
                "#B0BEC5",
                "#B0BEC5",
                "#B0BEC5",
                "#B0BEC5",
                "#B0BEC5",
                "#B0BEC5",
                "#B0BEC5",
                "#B0BEC5",
                "#B0BEC5",
                "#B0BEC5",
                "#B0BEC5",
                "#B0BEC5",
                "#B0BEC5",
                "#B0BEC5",
                "#B0BEC5",
                "#B0BEC5",
                "#B0BEC5",
                "#B0BEC5",
                "#B0BEC5",
                "#B0BEC5",
                "#B0BEC5",
                "#B0BEC5",
                "#B0BEC5",
                "#B0BEC5",
                "#B0BEC5",
                "#B0BEC5",
                "#B0BEC5",
                "#B0BEC5",
                "#B0BEC5",
                "#B0BEC5",
                "#B0BEC5",
                "#B0BEC5",
                "#B0BEC5",
                "#B0BEC5",
                "#B0BEC5",
                "#B0BEC5",
                "#B0BEC5",
                "#B0BEC5",
                "#B0BEC5",
                "red",
                "#B0BEC5",
                "#B0BEC5",
                "#B0BEC5"
               ]
              ]
             }
            ],
            "label": "Topic 39",
            "method": "update"
           },
           {
            "args": [
             {
              "marker.color": [
               [
                "#B0BEC5",
                "#B0BEC5",
                "#B0BEC5",
                "#B0BEC5",
                "#B0BEC5",
                "#B0BEC5",
                "#B0BEC5",
                "#B0BEC5",
                "#B0BEC5",
                "#B0BEC5",
                "#B0BEC5",
                "#B0BEC5",
                "#B0BEC5",
                "#B0BEC5",
                "#B0BEC5",
                "#B0BEC5",
                "#B0BEC5",
                "#B0BEC5",
                "#B0BEC5",
                "#B0BEC5",
                "#B0BEC5",
                "#B0BEC5",
                "#B0BEC5",
                "#B0BEC5",
                "#B0BEC5",
                "#B0BEC5",
                "#B0BEC5",
                "#B0BEC5",
                "#B0BEC5",
                "#B0BEC5",
                "#B0BEC5",
                "#B0BEC5",
                "#B0BEC5",
                "#B0BEC5",
                "#B0BEC5",
                "#B0BEC5",
                "#B0BEC5",
                "#B0BEC5",
                "#B0BEC5",
                "#B0BEC5",
                "red",
                "#B0BEC5",
                "#B0BEC5"
               ]
              ]
             }
            ],
            "label": "Topic 40",
            "method": "update"
           },
           {
            "args": [
             {
              "marker.color": [
               [
                "#B0BEC5",
                "#B0BEC5",
                "#B0BEC5",
                "#B0BEC5",
                "#B0BEC5",
                "#B0BEC5",
                "#B0BEC5",
                "#B0BEC5",
                "#B0BEC5",
                "#B0BEC5",
                "#B0BEC5",
                "#B0BEC5",
                "#B0BEC5",
                "#B0BEC5",
                "#B0BEC5",
                "#B0BEC5",
                "#B0BEC5",
                "#B0BEC5",
                "#B0BEC5",
                "#B0BEC5",
                "#B0BEC5",
                "#B0BEC5",
                "#B0BEC5",
                "#B0BEC5",
                "#B0BEC5",
                "#B0BEC5",
                "#B0BEC5",
                "#B0BEC5",
                "#B0BEC5",
                "#B0BEC5",
                "#B0BEC5",
                "#B0BEC5",
                "#B0BEC5",
                "#B0BEC5",
                "#B0BEC5",
                "#B0BEC5",
                "#B0BEC5",
                "#B0BEC5",
                "#B0BEC5",
                "#B0BEC5",
                "#B0BEC5",
                "red",
                "#B0BEC5"
               ]
              ]
             }
            ],
            "label": "Topic 41",
            "method": "update"
           },
           {
            "args": [
             {
              "marker.color": [
               [
                "#B0BEC5",
                "#B0BEC5",
                "#B0BEC5",
                "#B0BEC5",
                "#B0BEC5",
                "#B0BEC5",
                "#B0BEC5",
                "#B0BEC5",
                "#B0BEC5",
                "#B0BEC5",
                "#B0BEC5",
                "#B0BEC5",
                "#B0BEC5",
                "#B0BEC5",
                "#B0BEC5",
                "#B0BEC5",
                "#B0BEC5",
                "#B0BEC5",
                "#B0BEC5",
                "#B0BEC5",
                "#B0BEC5",
                "#B0BEC5",
                "#B0BEC5",
                "#B0BEC5",
                "#B0BEC5",
                "#B0BEC5",
                "#B0BEC5",
                "#B0BEC5",
                "#B0BEC5",
                "#B0BEC5",
                "#B0BEC5",
                "#B0BEC5",
                "#B0BEC5",
                "#B0BEC5",
                "#B0BEC5",
                "#B0BEC5",
                "#B0BEC5",
                "#B0BEC5",
                "#B0BEC5",
                "#B0BEC5",
                "#B0BEC5",
                "#B0BEC5",
                "red"
               ]
              ]
             }
            ],
            "label": "Topic 42",
            "method": "update"
           }
          ]
         }
        ],
        "template": {
         "data": {
          "bar": [
           {
            "error_x": {
             "color": "rgb(36,36,36)"
            },
            "error_y": {
             "color": "rgb(36,36,36)"
            },
            "marker": {
             "line": {
              "color": "white",
              "width": 0.5
             },
             "pattern": {
              "fillmode": "overlay",
              "size": 10,
              "solidity": 0.2
             }
            },
            "type": "bar"
           }
          ],
          "barpolar": [
           {
            "marker": {
             "line": {
              "color": "white",
              "width": 0.5
             },
             "pattern": {
              "fillmode": "overlay",
              "size": 10,
              "solidity": 0.2
             }
            },
            "type": "barpolar"
           }
          ],
          "carpet": [
           {
            "aaxis": {
             "endlinecolor": "rgb(36,36,36)",
             "gridcolor": "white",
             "linecolor": "white",
             "minorgridcolor": "white",
             "startlinecolor": "rgb(36,36,36)"
            },
            "baxis": {
             "endlinecolor": "rgb(36,36,36)",
             "gridcolor": "white",
             "linecolor": "white",
             "minorgridcolor": "white",
             "startlinecolor": "rgb(36,36,36)"
            },
            "type": "carpet"
           }
          ],
          "choropleth": [
           {
            "colorbar": {
             "outlinewidth": 1,
             "tickcolor": "rgb(36,36,36)",
             "ticks": "outside"
            },
            "type": "choropleth"
           }
          ],
          "contour": [
           {
            "colorbar": {
             "outlinewidth": 1,
             "tickcolor": "rgb(36,36,36)",
             "ticks": "outside"
            },
            "colorscale": [
             [
              0,
              "#440154"
             ],
             [
              0.1111111111111111,
              "#482878"
             ],
             [
              0.2222222222222222,
              "#3e4989"
             ],
             [
              0.3333333333333333,
              "#31688e"
             ],
             [
              0.4444444444444444,
              "#26828e"
             ],
             [
              0.5555555555555556,
              "#1f9e89"
             ],
             [
              0.6666666666666666,
              "#35b779"
             ],
             [
              0.7777777777777778,
              "#6ece58"
             ],
             [
              0.8888888888888888,
              "#b5de2b"
             ],
             [
              1,
              "#fde725"
             ]
            ],
            "type": "contour"
           }
          ],
          "contourcarpet": [
           {
            "colorbar": {
             "outlinewidth": 1,
             "tickcolor": "rgb(36,36,36)",
             "ticks": "outside"
            },
            "type": "contourcarpet"
           }
          ],
          "heatmap": [
           {
            "colorbar": {
             "outlinewidth": 1,
             "tickcolor": "rgb(36,36,36)",
             "ticks": "outside"
            },
            "colorscale": [
             [
              0,
              "#440154"
             ],
             [
              0.1111111111111111,
              "#482878"
             ],
             [
              0.2222222222222222,
              "#3e4989"
             ],
             [
              0.3333333333333333,
              "#31688e"
             ],
             [
              0.4444444444444444,
              "#26828e"
             ],
             [
              0.5555555555555556,
              "#1f9e89"
             ],
             [
              0.6666666666666666,
              "#35b779"
             ],
             [
              0.7777777777777778,
              "#6ece58"
             ],
             [
              0.8888888888888888,
              "#b5de2b"
             ],
             [
              1,
              "#fde725"
             ]
            ],
            "type": "heatmap"
           }
          ],
          "heatmapgl": [
           {
            "colorbar": {
             "outlinewidth": 1,
             "tickcolor": "rgb(36,36,36)",
             "ticks": "outside"
            },
            "colorscale": [
             [
              0,
              "#440154"
             ],
             [
              0.1111111111111111,
              "#482878"
             ],
             [
              0.2222222222222222,
              "#3e4989"
             ],
             [
              0.3333333333333333,
              "#31688e"
             ],
             [
              0.4444444444444444,
              "#26828e"
             ],
             [
              0.5555555555555556,
              "#1f9e89"
             ],
             [
              0.6666666666666666,
              "#35b779"
             ],
             [
              0.7777777777777778,
              "#6ece58"
             ],
             [
              0.8888888888888888,
              "#b5de2b"
             ],
             [
              1,
              "#fde725"
             ]
            ],
            "type": "heatmapgl"
           }
          ],
          "histogram": [
           {
            "marker": {
             "line": {
              "color": "white",
              "width": 0.6
             }
            },
            "type": "histogram"
           }
          ],
          "histogram2d": [
           {
            "colorbar": {
             "outlinewidth": 1,
             "tickcolor": "rgb(36,36,36)",
             "ticks": "outside"
            },
            "colorscale": [
             [
              0,
              "#440154"
             ],
             [
              0.1111111111111111,
              "#482878"
             ],
             [
              0.2222222222222222,
              "#3e4989"
             ],
             [
              0.3333333333333333,
              "#31688e"
             ],
             [
              0.4444444444444444,
              "#26828e"
             ],
             [
              0.5555555555555556,
              "#1f9e89"
             ],
             [
              0.6666666666666666,
              "#35b779"
             ],
             [
              0.7777777777777778,
              "#6ece58"
             ],
             [
              0.8888888888888888,
              "#b5de2b"
             ],
             [
              1,
              "#fde725"
             ]
            ],
            "type": "histogram2d"
           }
          ],
          "histogram2dcontour": [
           {
            "colorbar": {
             "outlinewidth": 1,
             "tickcolor": "rgb(36,36,36)",
             "ticks": "outside"
            },
            "colorscale": [
             [
              0,
              "#440154"
             ],
             [
              0.1111111111111111,
              "#482878"
             ],
             [
              0.2222222222222222,
              "#3e4989"
             ],
             [
              0.3333333333333333,
              "#31688e"
             ],
             [
              0.4444444444444444,
              "#26828e"
             ],
             [
              0.5555555555555556,
              "#1f9e89"
             ],
             [
              0.6666666666666666,
              "#35b779"
             ],
             [
              0.7777777777777778,
              "#6ece58"
             ],
             [
              0.8888888888888888,
              "#b5de2b"
             ],
             [
              1,
              "#fde725"
             ]
            ],
            "type": "histogram2dcontour"
           }
          ],
          "mesh3d": [
           {
            "colorbar": {
             "outlinewidth": 1,
             "tickcolor": "rgb(36,36,36)",
             "ticks": "outside"
            },
            "type": "mesh3d"
           }
          ],
          "parcoords": [
           {
            "line": {
             "colorbar": {
              "outlinewidth": 1,
              "tickcolor": "rgb(36,36,36)",
              "ticks": "outside"
             }
            },
            "type": "parcoords"
           }
          ],
          "pie": [
           {
            "automargin": true,
            "type": "pie"
           }
          ],
          "scatter": [
           {
            "fillpattern": {
             "fillmode": "overlay",
             "size": 10,
             "solidity": 0.2
            },
            "type": "scatter"
           }
          ],
          "scatter3d": [
           {
            "line": {
             "colorbar": {
              "outlinewidth": 1,
              "tickcolor": "rgb(36,36,36)",
              "ticks": "outside"
             }
            },
            "marker": {
             "colorbar": {
              "outlinewidth": 1,
              "tickcolor": "rgb(36,36,36)",
              "ticks": "outside"
             }
            },
            "type": "scatter3d"
           }
          ],
          "scattercarpet": [
           {
            "marker": {
             "colorbar": {
              "outlinewidth": 1,
              "tickcolor": "rgb(36,36,36)",
              "ticks": "outside"
             }
            },
            "type": "scattercarpet"
           }
          ],
          "scattergeo": [
           {
            "marker": {
             "colorbar": {
              "outlinewidth": 1,
              "tickcolor": "rgb(36,36,36)",
              "ticks": "outside"
             }
            },
            "type": "scattergeo"
           }
          ],
          "scattergl": [
           {
            "marker": {
             "colorbar": {
              "outlinewidth": 1,
              "tickcolor": "rgb(36,36,36)",
              "ticks": "outside"
             }
            },
            "type": "scattergl"
           }
          ],
          "scattermapbox": [
           {
            "marker": {
             "colorbar": {
              "outlinewidth": 1,
              "tickcolor": "rgb(36,36,36)",
              "ticks": "outside"
             }
            },
            "type": "scattermapbox"
           }
          ],
          "scatterpolar": [
           {
            "marker": {
             "colorbar": {
              "outlinewidth": 1,
              "tickcolor": "rgb(36,36,36)",
              "ticks": "outside"
             }
            },
            "type": "scatterpolar"
           }
          ],
          "scatterpolargl": [
           {
            "marker": {
             "colorbar": {
              "outlinewidth": 1,
              "tickcolor": "rgb(36,36,36)",
              "ticks": "outside"
             }
            },
            "type": "scatterpolargl"
           }
          ],
          "scatterternary": [
           {
            "marker": {
             "colorbar": {
              "outlinewidth": 1,
              "tickcolor": "rgb(36,36,36)",
              "ticks": "outside"
             }
            },
            "type": "scatterternary"
           }
          ],
          "surface": [
           {
            "colorbar": {
             "outlinewidth": 1,
             "tickcolor": "rgb(36,36,36)",
             "ticks": "outside"
            },
            "colorscale": [
             [
              0,
              "#440154"
             ],
             [
              0.1111111111111111,
              "#482878"
             ],
             [
              0.2222222222222222,
              "#3e4989"
             ],
             [
              0.3333333333333333,
              "#31688e"
             ],
             [
              0.4444444444444444,
              "#26828e"
             ],
             [
              0.5555555555555556,
              "#1f9e89"
             ],
             [
              0.6666666666666666,
              "#35b779"
             ],
             [
              0.7777777777777778,
              "#6ece58"
             ],
             [
              0.8888888888888888,
              "#b5de2b"
             ],
             [
              1,
              "#fde725"
             ]
            ],
            "type": "surface"
           }
          ],
          "table": [
           {
            "cells": {
             "fill": {
              "color": "rgb(237,237,237)"
             },
             "line": {
              "color": "white"
             }
            },
            "header": {
             "fill": {
              "color": "rgb(217,217,217)"
             },
             "line": {
              "color": "white"
             }
            },
            "type": "table"
           }
          ]
         },
         "layout": {
          "annotationdefaults": {
           "arrowhead": 0,
           "arrowwidth": 1
          },
          "autotypenumbers": "strict",
          "coloraxis": {
           "colorbar": {
            "outlinewidth": 1,
            "tickcolor": "rgb(36,36,36)",
            "ticks": "outside"
           }
          },
          "colorscale": {
           "diverging": [
            [
             0,
             "rgb(103,0,31)"
            ],
            [
             0.1,
             "rgb(178,24,43)"
            ],
            [
             0.2,
             "rgb(214,96,77)"
            ],
            [
             0.3,
             "rgb(244,165,130)"
            ],
            [
             0.4,
             "rgb(253,219,199)"
            ],
            [
             0.5,
             "rgb(247,247,247)"
            ],
            [
             0.6,
             "rgb(209,229,240)"
            ],
            [
             0.7,
             "rgb(146,197,222)"
            ],
            [
             0.8,
             "rgb(67,147,195)"
            ],
            [
             0.9,
             "rgb(33,102,172)"
            ],
            [
             1,
             "rgb(5,48,97)"
            ]
           ],
           "sequential": [
            [
             0,
             "#440154"
            ],
            [
             0.1111111111111111,
             "#482878"
            ],
            [
             0.2222222222222222,
             "#3e4989"
            ],
            [
             0.3333333333333333,
             "#31688e"
            ],
            [
             0.4444444444444444,
             "#26828e"
            ],
            [
             0.5555555555555556,
             "#1f9e89"
            ],
            [
             0.6666666666666666,
             "#35b779"
            ],
            [
             0.7777777777777778,
             "#6ece58"
            ],
            [
             0.8888888888888888,
             "#b5de2b"
            ],
            [
             1,
             "#fde725"
            ]
           ],
           "sequentialminus": [
            [
             0,
             "#440154"
            ],
            [
             0.1111111111111111,
             "#482878"
            ],
            [
             0.2222222222222222,
             "#3e4989"
            ],
            [
             0.3333333333333333,
             "#31688e"
            ],
            [
             0.4444444444444444,
             "#26828e"
            ],
            [
             0.5555555555555556,
             "#1f9e89"
            ],
            [
             0.6666666666666666,
             "#35b779"
            ],
            [
             0.7777777777777778,
             "#6ece58"
            ],
            [
             0.8888888888888888,
             "#b5de2b"
            ],
            [
             1,
             "#fde725"
            ]
           ]
          },
          "colorway": [
           "#1F77B4",
           "#FF7F0E",
           "#2CA02C",
           "#D62728",
           "#9467BD",
           "#8C564B",
           "#E377C2",
           "#7F7F7F",
           "#BCBD22",
           "#17BECF"
          ],
          "font": {
           "color": "rgb(36,36,36)"
          },
          "geo": {
           "bgcolor": "white",
           "lakecolor": "white",
           "landcolor": "white",
           "showlakes": true,
           "showland": true,
           "subunitcolor": "white"
          },
          "hoverlabel": {
           "align": "left"
          },
          "hovermode": "closest",
          "mapbox": {
           "style": "light"
          },
          "paper_bgcolor": "white",
          "plot_bgcolor": "white",
          "polar": {
           "angularaxis": {
            "gridcolor": "rgb(232,232,232)",
            "linecolor": "rgb(36,36,36)",
            "showgrid": false,
            "showline": true,
            "ticks": "outside"
           },
           "bgcolor": "white",
           "radialaxis": {
            "gridcolor": "rgb(232,232,232)",
            "linecolor": "rgb(36,36,36)",
            "showgrid": false,
            "showline": true,
            "ticks": "outside"
           }
          },
          "scene": {
           "xaxis": {
            "backgroundcolor": "white",
            "gridcolor": "rgb(232,232,232)",
            "gridwidth": 2,
            "linecolor": "rgb(36,36,36)",
            "showbackground": true,
            "showgrid": false,
            "showline": true,
            "ticks": "outside",
            "zeroline": false,
            "zerolinecolor": "rgb(36,36,36)"
           },
           "yaxis": {
            "backgroundcolor": "white",
            "gridcolor": "rgb(232,232,232)",
            "gridwidth": 2,
            "linecolor": "rgb(36,36,36)",
            "showbackground": true,
            "showgrid": false,
            "showline": true,
            "ticks": "outside",
            "zeroline": false,
            "zerolinecolor": "rgb(36,36,36)"
           },
           "zaxis": {
            "backgroundcolor": "white",
            "gridcolor": "rgb(232,232,232)",
            "gridwidth": 2,
            "linecolor": "rgb(36,36,36)",
            "showbackground": true,
            "showgrid": false,
            "showline": true,
            "ticks": "outside",
            "zeroline": false,
            "zerolinecolor": "rgb(36,36,36)"
           }
          },
          "shapedefaults": {
           "fillcolor": "black",
           "line": {
            "width": 0
           },
           "opacity": 0.3
          },
          "ternary": {
           "aaxis": {
            "gridcolor": "rgb(232,232,232)",
            "linecolor": "rgb(36,36,36)",
            "showgrid": false,
            "showline": true,
            "ticks": "outside"
           },
           "baxis": {
            "gridcolor": "rgb(232,232,232)",
            "linecolor": "rgb(36,36,36)",
            "showgrid": false,
            "showline": true,
            "ticks": "outside"
           },
           "bgcolor": "white",
           "caxis": {
            "gridcolor": "rgb(232,232,232)",
            "linecolor": "rgb(36,36,36)",
            "showgrid": false,
            "showline": true,
            "ticks": "outside"
           }
          },
          "title": {
           "x": 0.05
          },
          "xaxis": {
           "automargin": true,
           "gridcolor": "rgb(232,232,232)",
           "linecolor": "rgb(36,36,36)",
           "showgrid": false,
           "showline": true,
           "ticks": "outside",
           "title": {
            "standoff": 15
           },
           "zeroline": false,
           "zerolinecolor": "rgb(36,36,36)"
          },
          "yaxis": {
           "automargin": true,
           "gridcolor": "rgb(232,232,232)",
           "linecolor": "rgb(36,36,36)",
           "showgrid": false,
           "showline": true,
           "ticks": "outside",
           "title": {
            "standoff": 15
           },
           "zeroline": false,
           "zerolinecolor": "rgb(36,36,36)"
          }
         }
        },
        "title": {
         "font": {
          "color": "Black",
          "size": 22
         },
         "text": "<b>Intertopic Distance Map</b>",
         "x": 0.5,
         "xanchor": "center",
         "y": 0.95,
         "yanchor": "top"
        },
        "width": 650,
        "xaxis": {
         "anchor": "y",
         "domain": [
          0,
          1
         ],
         "range": [
          -15.36010184288025,
          26.966465568542482
         ],
         "title": {
          "text": ""
         },
         "visible": false
        },
        "yaxis": {
         "anchor": "x",
         "domain": [
          0,
          1
         ],
         "range": [
          -10.90882329940796,
          23.44538459777832
         ],
         "title": {
          "text": ""
         },
         "visible": false
        }
       }
      }
     },
     "metadata": {},
     "output_type": "display_data"
    }
   ],
   "source": [
    "topic_model.visualize_topics()"
   ]
  }
 ],
 "metadata": {
  "kernelspec": {
   "display_name": "Python 3",
   "language": "python",
   "name": "python3"
  },
  "language_info": {
   "codemirror_mode": {
    "name": "ipython",
    "version": 3
   },
   "file_extension": ".py",
   "mimetype": "text/x-python",
   "name": "python",
   "nbconvert_exporter": "python",
   "pygments_lexer": "ipython3",
   "version": "3.11.1"
  }
 },
 "nbformat": 4,
 "nbformat_minor": 2
}
