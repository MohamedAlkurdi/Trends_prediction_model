{
 "cells": [
  {
   "cell_type": "code",
   "execution_count": 5,
   "metadata": {},
   "outputs": [],
   "source": [
    "import pandas as pd\n",
    "from transformers import pipeline"
   ]
  },
  {
   "cell_type": "code",
   "execution_count": null,
   "metadata": {},
   "outputs": [
    {
     "name": "stderr",
     "output_type": "stream",
     "text": [
      "c:\\Users\\alkrd\\AppData\\Local\\Programs\\Python\\Python311\\Lib\\site-packages\\huggingface_hub\\file_download.py:139: UserWarning: `huggingface_hub` cache-system uses symlinks by default to efficiently store duplicated files but your machine does not support them in C:\\Users\\alkrd\\.cache\\huggingface\\hub\\models--facebook--bart-large-mnli. Caching files will still work but in a degraded version that might require more space on your disk. This warning can be disabled by setting the `HF_HUB_DISABLE_SYMLINKS_WARNING` environment variable. For more details, see https://huggingface.co/docs/huggingface_hub/how-to-cache#limitations.\n",
      "To support symlinks on Windows, you either need to activate Developer Mode or to run Python as an administrator. In order to activate developer mode, see this article: https://docs.microsoft.com/en-us/windows/apps/get-started/enable-your-device-for-development\n",
      "  warnings.warn(message)\n",
      "The `multi_class` argument has been deprecated and renamed to `multi_label`. `multi_class` will be removed in a future version of Transformers.\n"
     ]
    }
   ],
   "source": [
    "classifier = pipeline('zero-shot-classification', model='facebook/bart-large-mnli')\n",
    "labels = [\"bussiness\",\"technology\",\"science\",\"sports\",\"media and entertainment\",\"politics\",\"health\",\"crime\",\"accident\",\"environment\",\"art\",\"literature\",\"tragedy\",\"education\",\"fashion\",\"food\",\"travel\",\"military\",\"real estates\",\"history\",\"religion\",\"celebrity\"]\n",
    "hypothesis_template = \"this text is about {}\"\n"
   ]
  },
  {
   "cell_type": "code",
   "execution_count": 58,
   "metadata": {},
   "outputs": [],
   "source": [
    "# data = pd.read_csv('../preprocessed_data/cleaned_data_USA.csv')\n",
    "data = pd.read_csv('./test.csv')\n",
    "dataFrame = data[['date','traffic','newsSnippet']]\n",
    "strings_list = [item[2] for item in dataFrame.values.tolist()]\n",
    "loop = range(len(strings_list))\n",
    "\n"
   ]
  },
  {
   "cell_type": "code",
   "execution_count": 59,
   "metadata": {},
   "outputs": [
    {
     "name": "stderr",
     "output_type": "stream",
     "text": [
      "The `multi_class` argument has been deprecated and renamed to `multi_label`. `multi_class` will be removed in a future version of Transformers.\n",
      "The `multi_class` argument has been deprecated and renamed to `multi_label`. `multi_class` will be removed in a future version of Transformers.\n"
     ]
    }
   ],
   "source": [
    "results = []\n",
    "batch_size = 4\n",
    "for i in range(0, len(strings_list), batch_size):\n",
    "    batch = strings_list[i:i+batch_size]\n",
    "    predictions = classifier(batch, labels, hypothesis_template=hypothesis_template, multi_class=True)\n",
    "    for j, prediction in enumerate(predictions):\n",
    "        top_label = prediction['labels'][0]\n",
    "        top_score = prediction['scores'][0]\n",
    "        row_data = (dataFrame.iloc[i+j]['date'], dataFrame.iloc[i+j]['traffic'], dataFrame.iloc[i+j]['newsSnippet'], top_label, top_score)\n",
    "        results.append(row_data)\n",
    "\n",
    "df_results = pd.DataFrame(results, columns=['date', 'traffic', 'newsTitle', 'predicted_label', 'score'])\n",
    "df_results.to_csv('./classification_output.csv', index=False)"
   ]
  },
  {
   "cell_type": "code",
   "execution_count": null,
   "metadata": {},
   "outputs": [
    {
     "name": "stderr",
     "output_type": "stream",
     "text": [
      "The `multi_class` argument has been deprecated and renamed to `multi_label`. `multi_class` will be removed in a future version of Transformers.\n"
     ]
    },
    {
     "data": {
      "text/plain": [
       "'crime'"
      ]
     },
     "execution_count": 15,
     "metadata": {},
     "output_type": "execute_result"
    }
   ],
   "source": [
    "# sequence = \"Ohio State football players safe accounted for after oncampus attack,COLUMBUS Ohio  An attack on Ohio States campus left 11 people injured Monday morning They were stabbed hit by a car or otherwise injured before the suspect was shot dead school and hospital officials said All Ohio State football players are\"\n",
    "# prediction = classifier(sequence, labels, hypothesis_template=hypothesis_template, multi_class=True)\n",
    "# prediction['labels'][0]"
   ]
  }
 ],
 "metadata": {
  "kernelspec": {
   "display_name": "Python 3",
   "language": "python",
   "name": "python3"
  },
  "language_info": {
   "codemirror_mode": {
    "name": "ipython",
    "version": 3
   },
   "file_extension": ".py",
   "mimetype": "text/x-python",
   "name": "python",
   "nbconvert_exporter": "python",
   "pygments_lexer": "ipython3",
   "version": "3.11.1"
  }
 },
 "nbformat": 4,
 "nbformat_minor": 2
}
