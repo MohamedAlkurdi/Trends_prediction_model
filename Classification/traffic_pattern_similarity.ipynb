{
 "cells": [
  {
   "cell_type": "code",
   "execution_count": 72,
   "metadata": {},
   "outputs": [],
   "source": [
    "import csv"
   ]
  },
  {
   "cell_type": "code",
   "execution_count": 73,
   "metadata": {},
   "outputs": [
    {
     "name": "stdout",
     "output_type": "stream",
     "text": [
      "Similarity Score: 70\n",
      "Total Comparisons: 158\n",
      "Similarity Percentage: 44.30%\n"
     ]
    }
   ],
   "source": [
    "\n",
    "def compare_traffic_rates(file1_path, file2_path):\n",
    "    \"\"\"Compares traffic rates between two CSV files and calculates a similarity score.\"\"\"\n",
    "\n",
    "    try:\n",
    "        with open(file1_path, 'r') as file1, open(file2_path, 'r') as file2:\n",
    "            reader1 = csv.reader(file1)\n",
    "            reader2 = csv.reader(file2)\n",
    "\n",
    "            next(reader1)  # Skip header row\n",
    "            next(reader2)  # Skip header row\n",
    "\n",
    "            similarity_score = 0\n",
    "            total_comparisons = 0\n",
    "\n",
    "            for row1, row2 in zip(reader1, reader2):\n",
    "                if len(row1) < 3 or len(row2) < 3: #check for missing columns\n",
    "                    print(\"Error: one of the rows does not have enough columns\")\n",
    "                    return None\n",
    "                try:\n",
    "                    rate1 = float(row1[2])\n",
    "                    rate2 = float(row2[2])\n",
    "                except ValueError:\n",
    "                    print(\"Error: Could not convert rate to a number\")\n",
    "                    return None\n",
    "\n",
    "                total_comparisons += 1\n",
    "                if rate1 == rate2:\n",
    "                    similarity_score += 1\n",
    "\n",
    "            return similarity_score, total_comparisons\n",
    "\n",
    "    except FileNotFoundError:\n",
    "        print(\"Error: One or both files not found.\")\n",
    "        return None\n",
    "\n",
    "# Example usage:\n",
    "# file1 = './output/regions/west_asia/genral_labeled_data_with_relative_traffic_rates/Technology and Science/Malaysia_with_relative_traffic_rates.csv'\n",
    "# file1 = './output/regions/west_asia/genral_labeled_data_with_relative_traffic_rates/Technology and Science/Philippines_with_relative_traffic_rates.csv'\n",
    "# file2 = './output/regions/west_asia/genral_labeled_data_with_relative_traffic_rates/Technology and Science/Singapore_with_relative_traffic_rates.csv'\n",
    "# similarity mean almost > 62 (acceptable)\n",
    "\n",
    "# file1 = './output/regions/west_asia/genral_labeled_data_with_relative_traffic_rates/Life_style/Malaysia_with_relative_traffic_rates.csv'\n",
    "file1 = './output/regions/west_asia/genral_labeled_data_with_relative_traffic_rates/Life_style/Philippines_with_relative_traffic_rates.csv'\n",
    "file2 = './output/regions/west_asia/genral_labeled_data_with_relative_traffic_rates/Life_style/Singapore_with_relative_traffic_rates.csv'\n",
    "# bad\n",
    "\n",
    "# file2 = './output/regions/europe/genral_labeled_data_with_relative_traffic_rates/Technology and Science/Denmark_with_relative_traffic_rates.csv'\n",
    "# file2 = './output/regions/europe/genral_labeled_data_with_relative_traffic_rates/Technology and Science/Finland_with_relative_traffic_rates.csv'\n",
    "# file2 = './output/regions/europe/genral_labeled_data_with_relative_traffic_rates/Technology and Science/UK_with_relative_traffic_rates.csv'\n",
    "\n",
    "comparison_result = compare_traffic_rates(file1, file2)\n",
    "\n",
    "if comparison_result:\n",
    "    similarity_score, total_comparisons = comparison_result\n",
    "    if total_comparisons == 0: #check if files are empty\n",
    "        print(\"Error: one or both files are empty or have only the header\")\n",
    "    else:\n",
    "        print(f\"Similarity Score: {similarity_score}\")\n",
    "        print(f\"Total Comparisons: {total_comparisons}\")\n",
    "        print(f\"Similarity Percentage: {(similarity_score / total_comparisons) * 100:.2f}%\")"
   ]
  }
 ],
 "metadata": {
  "kernelspec": {
   "display_name": "Python 3",
   "language": "python",
   "name": "python3"
  },
  "language_info": {
   "codemirror_mode": {
    "name": "ipython",
    "version": 3
   },
   "file_extension": ".py",
   "mimetype": "text/x-python",
   "name": "python",
   "nbconvert_exporter": "python",
   "pygments_lexer": "ipython3",
   "version": "3.11.1"
  }
 },
 "nbformat": 4,
 "nbformat_minor": 2
}
