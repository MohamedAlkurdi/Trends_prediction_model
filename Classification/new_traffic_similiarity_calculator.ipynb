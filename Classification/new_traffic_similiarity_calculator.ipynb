{
 "cells": [
  {
   "cell_type": "code",
   "execution_count": 43,
   "metadata": {},
   "outputs": [],
   "source": [
    "import pandas as pd\n",
    "from scipy.spatial.distance import cosine\n",
    "import numpy as np\n",
    "from similarity_data import countries\n",
    "from similarity_data import clusters"
   ]
  },
  {
   "cell_type": "code",
   "execution_count": 44,
   "metadata": {},
   "outputs": [],
   "source": [
    "def compute_similarity(df1, df2, label):\n",
    "    df1_filtered = df1[df1['general_label'] == label]\n",
    "    df2_filtered = df2[df2['general_label'] == label]\n",
    "    \n",
    "    common_dates = set(df1_filtered['date']).intersection(df2_filtered['date'])\n",
    "    df1_filtered = df1_filtered[df1_filtered['date'].isin(common_dates)]\n",
    "    df2_filtered = df2_filtered[df2_filtered['date'].isin(common_dates)]\n",
    "    \n",
    "    df1_filtered = df1_filtered.sort_values('date').reset_index(drop=True)\n",
    "    df2_filtered = df2_filtered.sort_values('date').reset_index(drop=True)\n",
    "    \n",
    "    if len(df1_filtered) < 2 or len(df2_filtered) < 2:\n",
    "        return None \n",
    "    \n",
    "    traffic_rate_similarity = 1 - cosine(df1_filtered['traffic_rate'], df2_filtered['traffic_rate'])\n",
    "\n",
    "    return {\n",
    "        'traffic_rate_similarity': traffic_rate_similarity,\n",
    "        'common_days': len(common_dates)\n",
    "    }\n"
   ]
  },
  {
   "cell_type": "code",
   "execution_count": 45,
   "metadata": {},
   "outputs": [
    {
     "name": "stdout",
     "output_type": "stream",
     "text": [
      "Category: Accident\n",
      "copmared: Kenya-SouthAfrica\n",
      "Traffic Rate Similarity: 22.94%\n"
     ]
    }
   ],
   "source": [
    "\n",
    "#1 1 0\n",
    "#0 2 2\n",
    "\n",
    "africa = countries['africa']\n",
    "country1 = africa[0]\n",
    "country2 = africa[2]\n",
    "\n",
    "file1 = f'./output/regions/africa/genral_labeled_data_with_relative_traffic_rates/Accident/{country1}_with_relative_traffic_rates.csv'  # استبدل هذا بمسار الملف الأول\n",
    "file2 = f'./output/regions/africa/genral_labeled_data_with_relative_traffic_rates/Accident/{country2}_with_relative_traffic_rates.csv'  # استبدل هذا بمسار الملف الثاني\n",
    "\n",
    "df1 = pd.read_csv(file1)\n",
    "df2 = pd.read_csv(file2)\n",
    "\n",
    "categories = df1['general_label'].unique()\n",
    "\n",
    "results = {}\n",
    "for category in categories:\n",
    "    similarity = compute_similarity(df1, df2, category)\n",
    "    if similarity:\n",
    "        results[category] = similarity\n",
    "\n",
    "for category, result in results.items():\n",
    "    print(f\"Category: {category}\")\n",
    "    print('copmared:', country1 + '-' + country2)\n",
    "    print(f\"Traffic Rate Similarity: {result['traffic_rate_similarity']* 100:.2f}%\")"
   ]
  }
 ],
 "metadata": {
  "kernelspec": {
   "display_name": "Python 3",
   "language": "python",
   "name": "python3"
  },
  "language_info": {
   "codemirror_mode": {
    "name": "ipython",
    "version": 3
   },
   "file_extension": ".py",
   "mimetype": "text/x-python",
   "name": "python",
   "nbconvert_exporter": "python",
   "pygments_lexer": "ipython3",
   "version": "3.11.1"
  }
 },
 "nbformat": 4,
 "nbformat_minor": 2
}
