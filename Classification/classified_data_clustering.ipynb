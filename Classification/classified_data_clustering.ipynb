{
 "cells": [
  {
   "cell_type": "code",
   "execution_count": 57,
   "metadata": {},
   "outputs": [],
   "source": [
    "import pandas as pd"
   ]
  },
  {
   "cell_type": "code",
   "execution_count": 58,
   "metadata": {},
   "outputs": [],
   "source": [
    "data = pd.read_csv('./classified_data/regions/west_asia/classified_data/Singapore_classification_output.csv')\n",
    "df = pd.DataFrame(data)\n"
   ]
  },
  {
   "cell_type": "code",
   "execution_count": 59,
   "metadata": {},
   "outputs": [],
   "source": [
    "label_cluster_mapping = {\n",
    "    \"business\": \"Economy\",\n",
    "    \"real estates\": \"Economy\",\n",
    "    \"technology\": \"Technology and Science\",\n",
    "    \"science\": \"Technology and Science\",\n",
    "    \"media and entertainment\": \"Entertainment\",\n",
    "    \"arts\": \"Entertainment\",\n",
    "    \"sports\": \"Entertainment\",\n",
    "    \"celebrity\": \"Entertainment\",\n",
    "    \"environment\": \"Lifestyle\",\n",
    "    \"health\": \"Lifestyle\",\n",
    "    \"fashion\": \"Lifestyle\",\n",
    "    \"travel\": \"Lifestyle\",\n",
    "    \"food\": \"Lifestyle\",\n",
    "    \"tragedy\": \"Accident\",\n",
    "    \"crime\": \"Accident\",\n",
    "    \"accident\": \"Accident\",\n",
    "    \"politics\": \"Geopolitical\",\n",
    "    \"military\": \"Geopolitical\",\n",
    "    \"education\": \"Intellectualism\",\n",
    "    \"literature\": \"Intellectualism\",\n",
    "    \"history\": \"Intellectualism\",\n",
    "    \"religion\": \"Intellectualism\",\n",
    "}"
   ]
  },
  {
   "cell_type": "code",
   "execution_count": 60,
   "metadata": {},
   "outputs": [],
   "source": [
    "df[\"general_label\"] = df[\"predicted_label\"].map(label_cluster_mapping)\n",
    "df.to_csv('./classified_data/regions/west_asia/clustered_classified_data/Singapore_clustered_classified.csv', index=False)\n"
   ]
  }
 ],
 "metadata": {
  "kernelspec": {
   "display_name": "Python 3",
   "language": "python",
   "name": "python3"
  },
  "language_info": {
   "codemirror_mode": {
    "name": "ipython",
    "version": 3
   },
   "file_extension": ".py",
   "mimetype": "text/x-python",
   "name": "python",
   "nbconvert_exporter": "python",
   "pygments_lexer": "ipython3",
   "version": "3.11.1"
  }
 },
 "nbformat": 4,
 "nbformat_minor": 2
}
