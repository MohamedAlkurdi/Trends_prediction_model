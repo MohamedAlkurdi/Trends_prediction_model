{
 "cells": [
  {
   "cell_type": "code",
   "execution_count": 143,
   "metadata": {},
   "outputs": [],
   "source": [
    "from bertopic import BERTopic\n",
    "import pandas as pd\n",
    "from sentence_transformers import SentenceTransformer\n",
    "from umap import UMAP\n",
    "from hdbscan import HDBSCAN\n",
    "from sklearn.feature_extraction.text import CountVectorizer\n",
    "from bertopic.representation import KeyBERTInspired, MaximalMarginalRelevance, PartOfSpeech\n",
    "import matplotlib.pyplot as plt\n",
    "import seaborn as sns\n",
    "from langdetect import detect\n",
    "from utils import clean_traffic\n"
   ]
  },
  {
   "cell_type": "code",
   "execution_count": 144,
   "metadata": {},
   "outputs": [],
   "source": [
    "\n",
    "def most_visited_topic_cluster(df,topics_count):\n",
    "    topic_stats = df.groupby('topic')['traffic_numeric'].agg(['mean', 'median'])\n",
    "    max = {\"mean\":0,\"topic\":None}\n",
    "    r = range(0,topics_count)\n",
    "    for i in r:\n",
    "        element = topic_stats['mean'][i]\n",
    "        comp = max[\"mean\"]\n",
    "        if element >= comp:\n",
    "            max['mean'] = element\n",
    "            max['topic'] = i\n",
    "    return max\n",
    "\n",
    "def max_element(List):\n",
    "    list_max_element = 0\n",
    "    for e in List:\n",
    "        if e > list_max_element:\n",
    "            list_max_element = e\n",
    "    return list_max_element"
   ]
  },
  {
   "cell_type": "code",
   "execution_count": null,
   "metadata": {},
   "outputs": [],
   "source": [
    "data = pd.read_csv(\"../preprocessed_data/cleaned_data_USA.csv\")    \n",
    "# data = pd.read_csv(\"../preprocessed_data/cleaned_data_UK.csv\")    \n",
    "# data = pd.read_csv(\"../preprocessed_data/cleaned_data_CANADA.csv\")    \n",
    "# data = pd.read_csv(\"../preprocessed_data/cleaned_data_Denmark.csv\")    \n",
    "\n",
    "dataFrame = data[['newsTitle']]\n",
    "strings_list = [item[0] for item in dataFrame.values.tolist()]\n",
    "strings_list = [text for text in strings_list if detect(text) == \"en\"]\n",
    "# strings_list = [text for text in strings_list if len(text.split()) > 3]\n",
    "\n"
   ]
  },
  {
   "cell_type": "code",
   "execution_count": 146,
   "metadata": {},
   "outputs": [
    {
     "name": "stderr",
     "output_type": "stream",
     "text": [
      "Batches: 100%|██████████| 89/89 [00:12<00:00,  7.37it/s]\n"
     ]
    }
   ],
   "source": [
    "embedding_model = SentenceTransformer(\"all-MiniLM-L6-v2\")\n",
    "embeddings = embedding_model.encode(strings_list, show_progress_bar=True)"
   ]
  },
  {
   "cell_type": "code",
   "execution_count": 147,
   "metadata": {},
   "outputs": [],
   "source": [
    "umap_model = UMAP(n_neighbors=15, n_components=5, min_dist=0.0, metric='cosine', random_state=42)"
   ]
  },
  {
   "cell_type": "code",
   "execution_count": 148,
   "metadata": {},
   "outputs": [],
   "source": [
    "hdbscan_model = HDBSCAN(min_cluster_size=10, metric='euclidean', cluster_selection_method='eom', prediction_data=True)"
   ]
  },
  {
   "cell_type": "code",
   "execution_count": 149,
   "metadata": {},
   "outputs": [],
   "source": [
    "french_stop_words = [\"le\", \"la\", \"les\", \"de\", \"du\", \"des\", \"et\", \"un\", \"une\", \"ce\", \"cette\", \"ces\", \"avec\", \"pour\", \"sur\", \"par\"]\n",
    "\n",
    "vectorizer_model = CountVectorizer(stop_words=\"english\")"
   ]
  },
  {
   "cell_type": "code",
   "execution_count": 150,
   "metadata": {},
   "outputs": [],
   "source": [
    "\n",
    "keybert_model = KeyBERTInspired()\n",
    "\n",
    "pos_model = PartOfSpeech(\"en_core_web_sm\")\n",
    "\n",
    "mmr_model = MaximalMarginalRelevance(diversity=0.3)\n",
    "\n",
    "representation_model = {\n",
    "    \"KeyBERT\": keybert_model,\n",
    "    \"MMR\": mmr_model,\n",
    "    \"POS\": pos_model\n",
    "}"
   ]
  },
  {
   "cell_type": "code",
   "execution_count": 153,
   "metadata": {},
   "outputs": [
    {
     "name": "stderr",
     "output_type": "stream",
     "text": [
      "2024-12-02 19:32:11,900 - BERTopic - Embedding - Transforming documents to embeddings.\n"
     ]
    },
    {
     "name": "stderr",
     "output_type": "stream",
     "text": [
      "Batches: 100%|██████████| 89/89 [00:10<00:00,  8.52it/s]\n",
      "2024-12-02 19:32:22,384 - BERTopic - Embedding - Completed ✓\n",
      "2024-12-02 19:32:22,385 - BERTopic - Dimensionality - Fitting the dimensionality reduction algorithm\n",
      "2024-12-02 19:32:33,344 - BERTopic - Dimensionality - Completed ✓\n",
      "2024-12-02 19:32:33,346 - BERTopic - Cluster - Start clustering the reduced embeddings\n",
      "2024-12-02 19:32:33,470 - BERTopic - Cluster - Completed ✓\n",
      "2024-12-02 19:32:33,483 - BERTopic - Representation - Extracting topics from clusters using representation models.\n",
      "2024-12-02 19:32:43,707 - BERTopic - Representation - Completed ✓\n"
     ]
    },
    {
     "data": {
      "text/html": [
       "<div>\n",
       "<style scoped>\n",
       "    .dataframe tbody tr th:only-of-type {\n",
       "        vertical-align: middle;\n",
       "    }\n",
       "\n",
       "    .dataframe tbody tr th {\n",
       "        vertical-align: top;\n",
       "    }\n",
       "\n",
       "    .dataframe thead th {\n",
       "        text-align: right;\n",
       "    }\n",
       "</style>\n",
       "<table border=\"1\" class=\"dataframe\">\n",
       "  <thead>\n",
       "    <tr style=\"text-align: right;\">\n",
       "      <th></th>\n",
       "      <th>Topic</th>\n",
       "      <th>Count</th>\n",
       "      <th>Name</th>\n",
       "      <th>Representation</th>\n",
       "      <th>KeyBERT</th>\n",
       "      <th>MMR</th>\n",
       "      <th>POS</th>\n",
       "      <th>Representative_Docs</th>\n",
       "    </tr>\n",
       "  </thead>\n",
       "  <tbody>\n",
       "    <tr>\n",
       "      <th>0</th>\n",
       "      <td>-1</td>\n",
       "      <td>993</td>\n",
       "      <td>-1_the_to_of_in</td>\n",
       "      <td>[the, to, of, in, and, on, is, for, trump, with]</td>\n",
       "      <td>[melania, carrie, britney, trump, nicole, kim,...</td>\n",
       "      <td>[live, watch, trumps, white, season, news, bab...</td>\n",
       "      <td>[new, star, video, years, white, season, peopl...</td>\n",
       "      <td>[Antonio Brown could be fined for Facebook Liv...</td>\n",
       "    </tr>\n",
       "    <tr>\n",
       "      <th>1</th>\n",
       "      <td>0</td>\n",
       "      <td>219</td>\n",
       "      <td>0_nfl_to_super_super bowl</td>\n",
       "      <td>[nfl, to, super, super bowl, the, bowl, patrio...</td>\n",
       "      <td>[nfl, packers, falcons, playoff, playoffs, cow...</td>\n",
       "      <td>[nfl, packers, cowboys, seahawks, redskins, 20...</td>\n",
       "      <td>[draft, playoff, loss, playoffs, score, team, ...</td>\n",
       "      <td>[2017 NFL Playoff Odds Atlanta Falcons Vs Gree...</td>\n",
       "    </tr>\n",
       "    <tr>\n",
       "      <th>2</th>\n",
       "      <td>1</td>\n",
       "      <td>175</td>\n",
       "      <td>1_basketball_ncaa_tournament_bowl</td>\n",
       "      <td>[basketball, ncaa, tournament, bowl, state, fo...</td>\n",
       "      <td>[ncaa, clemson, uconn, louisville, ucla, gonza...</td>\n",
       "      <td>[ncaa, carolina, duke, gonzaga, championship, ...</td>\n",
       "      <td>[basketball, tournament, football, state, coll...</td>\n",
       "      <td>[College Football Playoff Clemson vs Ohio Stat...</td>\n",
       "    </tr>\n",
       "    <tr>\n",
       "      <th>3</th>\n",
       "      <td>2</td>\n",
       "      <td>170</td>\n",
       "      <td>2_nba_warriors_game_the</td>\n",
       "      <td>[nba, warriors, game, the, in, lebron, cavs, c...</td>\n",
       "      <td>[cavs, lebron, cavaliers, nba, nbas, warriors,...</td>\n",
       "      <td>[nba, warriors, lebron, cavs, trade, celtics, ...</td>\n",
       "      <td>[trade, points, playoffs, knee, left, win, res...</td>\n",
       "      <td>[The Cavaliers should still be concerned despi...</td>\n",
       "    </tr>\n",
       "    <tr>\n",
       "      <th>4</th>\n",
       "      <td>3</td>\n",
       "      <td>116</td>\n",
       "      <td>3_day_valentines_easter_2017</td>\n",
       "      <td>[day, valentines, easter, 2017, valentines day...</td>\n",
       "      <td>[holiday, patricks, celebrate, st, valentines,...</td>\n",
       "      <td>[valentines, easter, patricks, st, friday, chr...</td>\n",
       "      <td>[day, year, open, food, hours, deals, buy, hap...</td>\n",
       "      <td>[A History Of St Patricks Day In Minnesota, Ne...</td>\n",
       "    </tr>\n",
       "    <tr>\n",
       "      <th>5</th>\n",
       "      <td>4</td>\n",
       "      <td>108</td>\n",
       "      <td>4_trailer_the_review_film</td>\n",
       "      <td>[trailer, the, review, film, movie, first, of ...</td>\n",
       "      <td>[trailer, furious, movie, premiere, rogue, fil...</td>\n",
       "      <td>[trailer, logan, marvel, batman, guardians, wa...</td>\n",
       "      <td>[trailer, film, movie, review, new, epic, thin...</td>\n",
       "      <td>[REVIEW The LEGO Batman Movie, Rogue One A Sta...</td>\n",
       "    </tr>\n",
       "    <tr>\n",
       "      <th>6</th>\n",
       "      <td>5</td>\n",
       "      <td>99</td>\n",
       "      <td>5_dies_dies at_at_dead</td>\n",
       "      <td>[dies, dies at, at, dead, death, of, dead at, ...</td>\n",
       "      <td>[deaths, died, dies, death, dead, suicide, act...</td>\n",
       "      <td>[dies, dead, actor, deaths, suicide, george, j...</td>\n",
       "      <td>[dead, death, star, heart, actor, condition, d...</td>\n",
       "      <td>[Margaret Whitton star of Major League dies at...</td>\n",
       "    </tr>\n",
       "    <tr>\n",
       "      <th>7</th>\n",
       "      <td>6</td>\n",
       "      <td>90</td>\n",
       "      <td>6_madrid_real_league_real madrid</td>\n",
       "      <td>[madrid, real, league, real madrid, barcelona,...</td>\n",
       "      <td>[madrid, barcelona, barcelonas, madrids, liga,...</td>\n",
       "      <td>[madrid, real, barcelona, liga, champions, ars...</td>\n",
       "      <td>[goals, live, stream, online, quarterfinal, dr...</td>\n",
       "      <td>[La Liga Luis Suarez double keeps FC Barcelona...</td>\n",
       "    </tr>\n",
       "    <tr>\n",
       "      <th>8</th>\n",
       "      <td>7</td>\n",
       "      <td>74</td>\n",
       "      <td>7_tour_album_new_new album</td>\n",
       "      <td>[tour, album, new, new album, kendrick, announ...</td>\n",
       "      <td>[kendrick, tour, concert, album, mixtape, song...</td>\n",
       "      <td>[kendrick, mixtape, song, gorillaz, concert, m...</td>\n",
       "      <td>[tour, album, new, lineup, song, concert, date...</td>\n",
       "      <td>[Kendrick Lamars Damn Everything we know about...</td>\n",
       "    </tr>\n",
       "    <tr>\n",
       "      <th>9</th>\n",
       "      <td>8</td>\n",
       "      <td>62</td>\n",
       "      <td>8_oscars_awards_oscar_globes</td>\n",
       "      <td>[oscars, awards, oscar, globes, golden, grammy...</td>\n",
       "      <td>[oscar, oscars, oscarever, awards, nominations...</td>\n",
       "      <td>[oscars, awards, oscar, grammys, 2017, manches...</td>\n",
       "      <td>[best, winners, actor, performance, carpet, tr...</td>\n",
       "      <td>[Date Night Mel Gibson and Rosalind Ross Step ...</td>\n",
       "    </tr>\n",
       "    <tr>\n",
       "      <th>10</th>\n",
       "      <td>9</td>\n",
       "      <td>49</td>\n",
       "      <td>9_stock_musk_elon_dow</td>\n",
       "      <td>[stock, musk, elon, dow, dow jones, tesla, roc...</td>\n",
       "      <td>[musk, musks, rocket, tesla, spacexs, spacex, ...</td>\n",
       "      <td>[stock, dow, musk, earnings, tesla, spacex, yo...</td>\n",
       "      <td>[stock, rocket, users, average, industrial, re...</td>\n",
       "      <td>[Who bought Snap stock Snapchats young users s...</td>\n",
       "    </tr>\n",
       "    <tr>\n",
       "      <th>11</th>\n",
       "      <td>10</td>\n",
       "      <td>43</td>\n",
       "      <td>10_victorias_victorias secret_her_secret</td>\n",
       "      <td>[victorias, victorias secret, her, secret, top...</td>\n",
       "      <td>[fashion, victorias, playboy, nude, glamorous,...</td>\n",
       "      <td>[topless, secret, bella, playboy, nude, swimsu...</td>\n",
       "      <td>[topless, naked, photos, model, photo, shoot, ...</td>\n",
       "      <td>[Victorias Secret Bella Gigi and Kendall get t...</td>\n",
       "    </tr>\n",
       "    <tr>\n",
       "      <th>12</th>\n",
       "      <td>11</td>\n",
       "      <td>42</td>\n",
       "      <td>11_police_shooting_in_shot</td>\n",
       "      <td>[police, shooting, in, shot, killed, at, man, ...</td>\n",
       "      <td>[shooting, shooter, gunman, gunshots, shot, mu...</td>\n",
       "      <td>[police, shooting, gunman, shooter, murder, sa...</td>\n",
       "      <td>[police, shooting, gunman, shooter, man, fatal...</td>\n",
       "      <td>[Gunman Who Shot 3 at Zurich Islamic Center Is...</td>\n",
       "    </tr>\n",
       "    <tr>\n",
       "      <th>13</th>\n",
       "      <td>12</td>\n",
       "      <td>41</td>\n",
       "      <td>12_trump_obama_donald_donald trump</td>\n",
       "      <td>[trump, obama, donald, donald trump, house, iv...</td>\n",
       "      <td>[trump, ivanka, donald, presidentelect, presid...</td>\n",
       "      <td>[trump, ivanka, trumps, kellyanne, president, ...</td>\n",
       "      <td>[correspondents, force, bad, inauguration, goo...</td>\n",
       "      <td>[Trump Will Be First President In 36 Years To ...</td>\n",
       "    </tr>\n",
       "    <tr>\n",
       "      <th>14</th>\n",
       "      <td>13</td>\n",
       "      <td>37</td>\n",
       "      <td>13_baby_pregnant_child_expecting</td>\n",
       "      <td>[baby, pregnant, child, expecting, and, serena...</td>\n",
       "      <td>[pregnant, pregnancy, unborn, amanda, kayla, j...</td>\n",
       "      <td>[pregnant, child, ciara, serena, unborn, jenel...</td>\n",
       "      <td>[baby, child, photo, shares, unborn, 2s, pregn...</td>\n",
       "      <td>[Amanda Seyfried is expecting a baby with Thom...</td>\n",
       "    </tr>\n",
       "    <tr>\n",
       "      <th>15</th>\n",
       "      <td>14</td>\n",
       "      <td>31</td>\n",
       "      <td>14_tornado_warning_tornado warning_near</td>\n",
       "      <td>[tornado, warning, tornado warning, near, powe...</td>\n",
       "      <td>[tornado, tornadoes, storm, weather, earthquak...</td>\n",
       "      <td>[tornado, warning, earthquake, dam, oroville, ...</td>\n",
       "      <td>[tornado, warning, damage, power, earthquake, ...</td>\n",
       "      <td>[JUST IN Fulton County under a tornado warning...</td>\n",
       "    </tr>\n",
       "    <tr>\n",
       "      <th>16</th>\n",
       "      <td>15</td>\n",
       "      <td>29</td>\n",
       "      <td>15_recap_finale_premiere_the</td>\n",
       "      <td>[recap, finale, premiere, the, season, series,...</td>\n",
       "      <td>[finale, ending, shadowhunters, episode, vampi...</td>\n",
       "      <td>[finale, walking, episode, motel, bates, murde...</td>\n",
       "      <td>[recap, finale, premiere, season, series, epis...</td>\n",
       "      <td>[Shadowhunters Recap Jace Embraces His Dark Ro...</td>\n",
       "    </tr>\n",
       "    <tr>\n",
       "      <th>17</th>\n",
       "      <td>16</td>\n",
       "      <td>29</td>\n",
       "      <td>16_arrested_released_jail_kevin gates</td>\n",
       "      <td>[arrested, released, jail, kevin gates, gates,...</td>\n",
       "      <td>[jail, jailed, arrested, arrest, prison, bail,...</td>\n",
       "      <td>[arrested, jail, arrest, kodak, rapper, probat...</td>\n",
       "      <td>[jail, arrest, prison, probation, drug, alterc...</td>\n",
       "      <td>[Kodak Black Was Released From Jail in Florida...</td>\n",
       "    </tr>\n",
       "    <tr>\n",
       "      <th>18</th>\n",
       "      <td>17</td>\n",
       "      <td>29</td>\n",
       "      <td>17_ufc_fight_conor_results</td>\n",
       "      <td>[ufc, fight, conor, results, decision, ufc fig...</td>\n",
       "      <td>[ufc, conor, tko, mcgregor, welterweight, rous...</td>\n",
       "      <td>[ufc, fight, conor, tko, mcgregor, mayweather,...</td>\n",
       "      <td>[fight, decision, results, card, title, second...</td>\n",
       "      <td>[UFC 208 Results Winners Scorecards from Holm ...</td>\n",
       "    </tr>\n",
       "    <tr>\n",
       "      <th>19</th>\n",
       "      <td>18</td>\n",
       "      <td>27</td>\n",
       "      <td>18_game_bruins_nhl_in game</td>\n",
       "      <td>[game, bruins, nhl, in game, penguins, series,...</td>\n",
       "      <td>[nhl, leafs, playoffs, postseason, bruins, cro...</td>\n",
       "      <td>[bruins, nhl, penguins, rangers, jackets, cros...</td>\n",
       "      <td>[series, playoffs, preview, loss, times, late,...</td>\n",
       "      <td>[Marchand breaks late tie Bruins top Senators ...</td>\n",
       "    </tr>\n",
       "    <tr>\n",
       "      <th>20</th>\n",
       "      <td>19</td>\n",
       "      <td>27</td>\n",
       "      <td>19_weather_winter_forecast_weather forecast</td>\n",
       "      <td>[weather, winter, forecast, weather forecast, ...</td>\n",
       "      <td>[weather, forecast, snowstorm, forecasting, sp...</td>\n",
       "      <td>[weather, winter, forecast, snow, snowstorm, s...</td>\n",
       "      <td>[weather, winter, forecast, snowstorm, snow, a...</td>\n",
       "      <td>[Southern California weather forecast  Los Ang...</td>\n",
       "    </tr>\n",
       "    <tr>\n",
       "      <th>21</th>\n",
       "      <td>20</td>\n",
       "      <td>24</td>\n",
       "      <td>20_masters_dustin_open_roger federer</td>\n",
       "      <td>[masters, dustin, open, roger federer, federer...</td>\n",
       "      <td>[federer, nadal, rosberg, johnson, masters, da...</td>\n",
       "      <td>[dustin, masters, federer, murray, locker, nad...</td>\n",
       "      <td>[seed, win, return, stairs, mantra, loudest, o...</td>\n",
       "      <td>[Roger Federer and Rafael Nadal Breathe New Li...</td>\n",
       "    </tr>\n",
       "    <tr>\n",
       "      <th>22</th>\n",
       "      <td>21</td>\n",
       "      <td>24</td>\n",
       "      <td>21_mlb_opening day_tim tebow_tebow</td>\n",
       "      <td>[mlb, opening day, tim tebow, tebow, homer, ph...</td>\n",
       "      <td>[inning, mets, mlb, phillies, braves, cubs, ba...</td>\n",
       "      <td>[mlb, phillies, tebow, cubs, sox, braves, card...</td>\n",
       "      <td>[homer, minor, games, plan, record, littlest, ...</td>\n",
       "      <td>[Just one game Tim Tebow fends off hype after ...</td>\n",
       "    </tr>\n",
       "    <tr>\n",
       "      <th>23</th>\n",
       "      <td>22</td>\n",
       "      <td>23</td>\n",
       "      <td>22_fast facts_facts you need_facts you_fast fa...</td>\n",
       "      <td>[fast facts, facts you need, facts you, fast f...</td>\n",
       "      <td>[facts, fast, holi, dulhania, discovered, fest...</td>\n",
       "      <td>[moon, facts, discovered, tilapia, eclipse, ka...</td>\n",
       "      <td>[moon, tilapia, eclipse, life, periodic, toler...</td>\n",
       "      <td>[Edmonia Lewis 5 Fast Facts You Need to Know, ...</td>\n",
       "    </tr>\n",
       "    <tr>\n",
       "      <th>24</th>\n",
       "      <td>23</td>\n",
       "      <td>22</td>\n",
       "      <td>23_ban_visa_trump_travel</td>\n",
       "      <td>[ban, visa, trump, travel, order, h1b, immigra...</td>\n",
       "      <td>[immigration, refugees, refugee, ban, deported...</td>\n",
       "      <td>[ban, h1b, immigration, refugee, aclu, trudeau...</td>\n",
       "      <td>[ban, travel, order, refugee, questions, wound...</td>\n",
       "      <td>[Trumps New Travel Ban Blocks Migrants From Si...</td>\n",
       "    </tr>\n",
       "    <tr>\n",
       "      <th>25</th>\n",
       "      <td>24</td>\n",
       "      <td>21</td>\n",
       "      <td>24_senate_obamacare_republicans_are</td>\n",
       "      <td>[senate, obamacare, republicans, are, the sena...</td>\n",
       "      <td>[obamacare, trumpcare, repeal, medicare, democ...</td>\n",
       "      <td>[obamacare, repeal, democrats, ryan, doddfrank...</td>\n",
       "      <td>[amendment, plan, 25th, entitlements, bushels,...</td>\n",
       "      <td>[Obamacare Took Months to Craft Repeal May Be ...</td>\n",
       "    </tr>\n",
       "    <tr>\n",
       "      <th>26</th>\n",
       "      <td>25</td>\n",
       "      <td>21</td>\n",
       "      <td>25_christmas_santa_christmas special_dolly</td>\n",
       "      <td>[christmas, santa, christmas special, dolly, s...</td>\n",
       "      <td>[christmas, santa, rudolph, reindeer, holiday,...</td>\n",
       "      <td>[christmas, santa, dolly, parton, colors, wint...</td>\n",
       "      <td>[santa, special, tracker, racism, colorblind, ...</td>\n",
       "      <td>[Will Dolly Partons Christmas Of Many Colors B...</td>\n",
       "    </tr>\n",
       "    <tr>\n",
       "      <th>27</th>\n",
       "      <td>26</td>\n",
       "      <td>21</td>\n",
       "      <td>26_switch_pokémon_new_ios</td>\n",
       "      <td>[switch, pokémon, new, ios, nes, nes classic, ...</td>\n",
       "      <td>[nintendo, nintendos, nes, pokémon, pokemon, g...</td>\n",
       "      <td>[switch, pokémon, ios, nes, nintendo, apple, i...</td>\n",
       "      <td>[new, console, display, today, 21st, 97inch, d...</td>\n",
       "      <td>[Nintendos Switch reimagines the home console ...</td>\n",
       "    </tr>\n",
       "    <tr>\n",
       "      <th>28</th>\n",
       "      <td>27</td>\n",
       "      <td>20</td>\n",
       "      <td>27_russia_wikileaks_sweden_hacking</td>\n",
       "      <td>[russia, wikileaks, sweden, hacking, edward, s...</td>\n",
       "      <td>[snowden, fisa, snowdens, flynn, assange, fbi,...</td>\n",
       "      <td>[wikileaks, sweden, spy, hacking, democrats, s...</td>\n",
       "      <td>[adviser, election, security, incredulous, blu...</td>\n",
       "      <td>[Russia Extends Edward Snowdens Asylum, House ...</td>\n",
       "    </tr>\n",
       "    <tr>\n",
       "      <th>29</th>\n",
       "      <td>28</td>\n",
       "      <td>18</td>\n",
       "      <td>28_school_closings_school closings_delays</td>\n",
       "      <td>[school, closings, school closings, delays, co...</td>\n",
       "      <td>[closings, closing, schools, closingdelay, sup...</td>\n",
       "      <td>[closings, delays, county, schools, march, mun...</td>\n",
       "      <td>[school, closings, delays, superintendents, pe...</td>\n",
       "      <td>[School closings and delays in Northeast Ohio ...</td>\n",
       "    </tr>\n",
       "    <tr>\n",
       "      <th>30</th>\n",
       "      <td>29</td>\n",
       "      <td>18</td>\n",
       "      <td>29_divorce_and_ti and_ti</td>\n",
       "      <td>[divorce, and, ti and, ti, pitt, marriage, sam...</td>\n",
       "      <td>[marries, angelina, lauren, divorce, couple, h...</td>\n",
       "      <td>[marriage, sam, lauren, married, celebrity, ho...</td>\n",
       "      <td>[divorce, marriage, brother, star, writer, rom...</td>\n",
       "      <td>[Who is Lauren Harries Celebrity Big Brother 2...</td>\n",
       "    </tr>\n",
       "    <tr>\n",
       "      <th>31</th>\n",
       "      <td>30</td>\n",
       "      <td>18</td>\n",
       "      <td>30_march_womens march_womens_thousands</td>\n",
       "      <td>[march, womens march, womens, thousands, march...</td>\n",
       "      <td>[march, rally, protests, protest, crowds, para...</td>\n",
       "      <td>[march, womens, thousands, rally, marathon, st...</td>\n",
       "      <td>[march, thousands, rally, streets, protests, c...</td>\n",
       "      <td>[The best signs from the San Francisco Womens ...</td>\n",
       "    </tr>\n",
       "    <tr>\n",
       "      <th>32</th>\n",
       "      <td>31</td>\n",
       "      <td>17</td>\n",
       "      <td>31_secretary_rex tillerson_tillerson_rex</td>\n",
       "      <td>[secretary, rex tillerson, tillerson, rex, tru...</td>\n",
       "      <td>[tillerson, rex, secretary, trump, donald, can...</td>\n",
       "      <td>[secretary, tillerson, trump, picks, giuliani,...</td>\n",
       "      <td>[secretary, picks, affairs, national, adviser,...</td>\n",
       "      <td>[Rex Tillerson Trump foreign affairs pick narr...</td>\n",
       "    </tr>\n",
       "    <tr>\n",
       "      <th>33</th>\n",
       "      <td>32</td>\n",
       "      <td>16</td>\n",
       "      <td>32_fire_chaos_gatlinburg_mall</td>\n",
       "      <td>[fire, chaos, gatlinburg, mall, shots fired, s...</td>\n",
       "      <td>[evacuated, fireworks, panic, chaos, explosion...</td>\n",
       "      <td>[chaos, gatlinburg, mall, tower, panic, smoke,...</td>\n",
       "      <td>[chaos, mall, shots, panic, train, smoke, dist...</td>\n",
       "      <td>[Panic chaos at Penn Station during rush hour,...</td>\n",
       "    </tr>\n",
       "    <tr>\n",
       "      <th>34</th>\n",
       "      <td>33</td>\n",
       "      <td>14</td>\n",
       "      <td>33_wwe_results_2017 results_news</td>\n",
       "      <td>[wwe, results, 2017 results, news, news and no...</td>\n",
       "      <td>[reigns, wwe, wrestlemania, rollins, cena, ort...</td>\n",
       "      <td>[wwe, reigns, wrestlemania, 2017, tlc, lesnars...</td>\n",
       "      <td>[results, title, team, seconds, champs, streak...</td>\n",
       "      <td>[World Wrestling Entertainment WWE Says WWE Ne...</td>\n",
       "    </tr>\n",
       "    <tr>\n",
       "      <th>35</th>\n",
       "      <td>34</td>\n",
       "      <td>14</td>\n",
       "      <td>34_ezekiel_suspension_suspension for_assault</td>\n",
       "      <td>[ezekiel, suspension, suspension for, assault,...</td>\n",
       "      <td>[elliott, elliotts, ezekiel, nfl, cowboys, nfl...</td>\n",
       "      <td>[ezekiel, suspension, assault, elliotts, ellio...</td>\n",
       "      <td>[suspension, assault, violation, yearlong, com...</td>\n",
       "      <td>[Salvation Army says Ezekiel Elliotts TD broug...</td>\n",
       "    </tr>\n",
       "    <tr>\n",
       "      <th>36</th>\n",
       "      <td>35</td>\n",
       "      <td>13</td>\n",
       "      <td>35_trump_sean_donald trump_donald</td>\n",
       "      <td>[trump, sean, donald trump, donald, slams, sea...</td>\n",
       "      <td>[hannity, breitbart, sean, donald, trump, bann...</td>\n",
       "      <td>[donald, slams, yiannopoulos, hannity, milo, m...</td>\n",
       "      <td>[media, supporters, skit, provocateur, newsman...</td>\n",
       "      <td>[Sean Spicer Trump will hold media accountable...</td>\n",
       "    </tr>\n",
       "    <tr>\n",
       "      <th>37</th>\n",
       "      <td>36</td>\n",
       "      <td>13</td>\n",
       "      <td>36_snl_melissa_sean_melissa mccarthy</td>\n",
       "      <td>[snl, melissa, sean, melissa mccarthy, sketch,...</td>\n",
       "      <td>[snl, fallon, kristen, msnbc, jimmy, melissa, ...</td>\n",
       "      <td>[snl, melissa, sean, blower, kimmels, mccarthy...</td>\n",
       "      <td>[leaf, blower, ghost, light, debate, visit, el...</td>\n",
       "      <td>[SNL Hits 6Year Ratings High With Melissa McCa...</td>\n",
       "    </tr>\n",
       "    <tr>\n",
       "      <th>38</th>\n",
       "      <td>37</td>\n",
       "      <td>12</td>\n",
       "      <td>37_dancing_the stars_dancing with the_dancing ...</td>\n",
       "      <td>[dancing, the stars, dancing with the, dancing...</td>\n",
       "      <td>[dancing, dance, dwts, jennings, stars, cast, ...</td>\n",
       "      <td>[dancing, stars, kerrigan, yamaguchi, 10s, eri...</td>\n",
       "      <td>[10s, partners, celebrity, cast, performance, ...</td>\n",
       "      <td>[Nancy Kerrigan  Artem Chigvintsev on Dancing ...</td>\n",
       "    </tr>\n",
       "    <tr>\n",
       "      <th>39</th>\n",
       "      <td>38</td>\n",
       "      <td>12</td>\n",
       "      <td>38_elizabeth_queen elizabeth_queen_prince</td>\n",
       "      <td>[elizabeth, queen elizabeth, queen, prince, me...</td>\n",
       "      <td>[prince, elizabeth, princess, queen, dianas, m...</td>\n",
       "      <td>[elizabeth, prince, meghan, harry, princess, m...</td>\n",
       "      <td>[pals, influential, colds, photographer, hoax,...</td>\n",
       "      <td>[Prince Harry and Meghan Markle Buy First Chri...</td>\n",
       "    </tr>\n",
       "    <tr>\n",
       "      <th>40</th>\n",
       "      <td>39</td>\n",
       "      <td>10</td>\n",
       "      <td>39_inauguration_presidents_inauguration day_am...</td>\n",
       "      <td>[inauguration, presidents, inauguration day, a...</td>\n",
       "      <td>[inauguration, presidents, president, roosevel...</td>\n",
       "      <td>[inauguration, presidents, preparations, roose...</td>\n",
       "      <td>[inauguration, preparations, lesson, 45th, thr...</td>\n",
       "      <td>[Americans on Presidents Day Admiration fear m...</td>\n",
       "    </tr>\n",
       "  </tbody>\n",
       "</table>\n",
       "</div>"
      ],
      "text/plain": [
       "    Topic  Count                                               Name  \\\n",
       "0      -1    993                                    -1_the_to_of_in   \n",
       "1       0    219                          0_nfl_to_super_super bowl   \n",
       "2       1    175                  1_basketball_ncaa_tournament_bowl   \n",
       "3       2    170                            2_nba_warriors_game_the   \n",
       "4       3    116                       3_day_valentines_easter_2017   \n",
       "5       4    108                          4_trailer_the_review_film   \n",
       "6       5     99                             5_dies_dies at_at_dead   \n",
       "7       6     90                   6_madrid_real_league_real madrid   \n",
       "8       7     74                         7_tour_album_new_new album   \n",
       "9       8     62                       8_oscars_awards_oscar_globes   \n",
       "10      9     49                              9_stock_musk_elon_dow   \n",
       "11     10     43           10_victorias_victorias secret_her_secret   \n",
       "12     11     42                         11_police_shooting_in_shot   \n",
       "13     12     41                 12_trump_obama_donald_donald trump   \n",
       "14     13     37                   13_baby_pregnant_child_expecting   \n",
       "15     14     31            14_tornado_warning_tornado warning_near   \n",
       "16     15     29                       15_recap_finale_premiere_the   \n",
       "17     16     29              16_arrested_released_jail_kevin gates   \n",
       "18     17     29                         17_ufc_fight_conor_results   \n",
       "19     18     27                         18_game_bruins_nhl_in game   \n",
       "20     19     27        19_weather_winter_forecast_weather forecast   \n",
       "21     20     24               20_masters_dustin_open_roger federer   \n",
       "22     21     24                 21_mlb_opening day_tim tebow_tebow   \n",
       "23     22     23  22_fast facts_facts you need_facts you_fast fa...   \n",
       "24     23     22                           23_ban_visa_trump_travel   \n",
       "25     24     21                24_senate_obamacare_republicans_are   \n",
       "26     25     21         25_christmas_santa_christmas special_dolly   \n",
       "27     26     21                          26_switch_pokémon_new_ios   \n",
       "28     27     20                 27_russia_wikileaks_sweden_hacking   \n",
       "29     28     18          28_school_closings_school closings_delays   \n",
       "30     29     18                           29_divorce_and_ti and_ti   \n",
       "31     30     18             30_march_womens march_womens_thousands   \n",
       "32     31     17           31_secretary_rex tillerson_tillerson_rex   \n",
       "33     32     16                      32_fire_chaos_gatlinburg_mall   \n",
       "34     33     14                   33_wwe_results_2017 results_news   \n",
       "35     34     14       34_ezekiel_suspension_suspension for_assault   \n",
       "36     35     13                  35_trump_sean_donald trump_donald   \n",
       "37     36     13               36_snl_melissa_sean_melissa mccarthy   \n",
       "38     37     12  37_dancing_the stars_dancing with the_dancing ...   \n",
       "39     38     12          38_elizabeth_queen elizabeth_queen_prince   \n",
       "40     39     10  39_inauguration_presidents_inauguration day_am...   \n",
       "\n",
       "                                       Representation  \\\n",
       "0    [the, to, of, in, and, on, is, for, trump, with]   \n",
       "1   [nfl, to, super, super bowl, the, bowl, patrio...   \n",
       "2   [basketball, ncaa, tournament, bowl, state, fo...   \n",
       "3   [nba, warriors, game, the, in, lebron, cavs, c...   \n",
       "4   [day, valentines, easter, 2017, valentines day...   \n",
       "5   [trailer, the, review, film, movie, first, of ...   \n",
       "6   [dies, dies at, at, dead, death, of, dead at, ...   \n",
       "7   [madrid, real, league, real madrid, barcelona,...   \n",
       "8   [tour, album, new, new album, kendrick, announ...   \n",
       "9   [oscars, awards, oscar, globes, golden, grammy...   \n",
       "10  [stock, musk, elon, dow, dow jones, tesla, roc...   \n",
       "11  [victorias, victorias secret, her, secret, top...   \n",
       "12  [police, shooting, in, shot, killed, at, man, ...   \n",
       "13  [trump, obama, donald, donald trump, house, iv...   \n",
       "14  [baby, pregnant, child, expecting, and, serena...   \n",
       "15  [tornado, warning, tornado warning, near, powe...   \n",
       "16  [recap, finale, premiere, the, season, series,...   \n",
       "17  [arrested, released, jail, kevin gates, gates,...   \n",
       "18  [ufc, fight, conor, results, decision, ufc fig...   \n",
       "19  [game, bruins, nhl, in game, penguins, series,...   \n",
       "20  [weather, winter, forecast, weather forecast, ...   \n",
       "21  [masters, dustin, open, roger federer, federer...   \n",
       "22  [mlb, opening day, tim tebow, tebow, homer, ph...   \n",
       "23  [fast facts, facts you need, facts you, fast f...   \n",
       "24  [ban, visa, trump, travel, order, h1b, immigra...   \n",
       "25  [senate, obamacare, republicans, are, the sena...   \n",
       "26  [christmas, santa, christmas special, dolly, s...   \n",
       "27  [switch, pokémon, new, ios, nes, nes classic, ...   \n",
       "28  [russia, wikileaks, sweden, hacking, edward, s...   \n",
       "29  [school, closings, school closings, delays, co...   \n",
       "30  [divorce, and, ti and, ti, pitt, marriage, sam...   \n",
       "31  [march, womens march, womens, thousands, march...   \n",
       "32  [secretary, rex tillerson, tillerson, rex, tru...   \n",
       "33  [fire, chaos, gatlinburg, mall, shots fired, s...   \n",
       "34  [wwe, results, 2017 results, news, news and no...   \n",
       "35  [ezekiel, suspension, suspension for, assault,...   \n",
       "36  [trump, sean, donald trump, donald, slams, sea...   \n",
       "37  [snl, melissa, sean, melissa mccarthy, sketch,...   \n",
       "38  [dancing, the stars, dancing with the, dancing...   \n",
       "39  [elizabeth, queen elizabeth, queen, prince, me...   \n",
       "40  [inauguration, presidents, inauguration day, a...   \n",
       "\n",
       "                                              KeyBERT  \\\n",
       "0   [melania, carrie, britney, trump, nicole, kim,...   \n",
       "1   [nfl, packers, falcons, playoff, playoffs, cow...   \n",
       "2   [ncaa, clemson, uconn, louisville, ucla, gonza...   \n",
       "3   [cavs, lebron, cavaliers, nba, nbas, warriors,...   \n",
       "4   [holiday, patricks, celebrate, st, valentines,...   \n",
       "5   [trailer, furious, movie, premiere, rogue, fil...   \n",
       "6   [deaths, died, dies, death, dead, suicide, act...   \n",
       "7   [madrid, barcelona, barcelonas, madrids, liga,...   \n",
       "8   [kendrick, tour, concert, album, mixtape, song...   \n",
       "9   [oscar, oscars, oscarever, awards, nominations...   \n",
       "10  [musk, musks, rocket, tesla, spacexs, spacex, ...   \n",
       "11  [fashion, victorias, playboy, nude, glamorous,...   \n",
       "12  [shooting, shooter, gunman, gunshots, shot, mu...   \n",
       "13  [trump, ivanka, donald, presidentelect, presid...   \n",
       "14  [pregnant, pregnancy, unborn, amanda, kayla, j...   \n",
       "15  [tornado, tornadoes, storm, weather, earthquak...   \n",
       "16  [finale, ending, shadowhunters, episode, vampi...   \n",
       "17  [jail, jailed, arrested, arrest, prison, bail,...   \n",
       "18  [ufc, conor, tko, mcgregor, welterweight, rous...   \n",
       "19  [nhl, leafs, playoffs, postseason, bruins, cro...   \n",
       "20  [weather, forecast, snowstorm, forecasting, sp...   \n",
       "21  [federer, nadal, rosberg, johnson, masters, da...   \n",
       "22  [inning, mets, mlb, phillies, braves, cubs, ba...   \n",
       "23  [facts, fast, holi, dulhania, discovered, fest...   \n",
       "24  [immigration, refugees, refugee, ban, deported...   \n",
       "25  [obamacare, trumpcare, repeal, medicare, democ...   \n",
       "26  [christmas, santa, rudolph, reindeer, holiday,...   \n",
       "27  [nintendo, nintendos, nes, pokémon, pokemon, g...   \n",
       "28  [snowden, fisa, snowdens, flynn, assange, fbi,...   \n",
       "29  [closings, closing, schools, closingdelay, sup...   \n",
       "30  [marries, angelina, lauren, divorce, couple, h...   \n",
       "31  [march, rally, protests, protest, crowds, para...   \n",
       "32  [tillerson, rex, secretary, trump, donald, can...   \n",
       "33  [evacuated, fireworks, panic, chaos, explosion...   \n",
       "34  [reigns, wwe, wrestlemania, rollins, cena, ort...   \n",
       "35  [elliott, elliotts, ezekiel, nfl, cowboys, nfl...   \n",
       "36  [hannity, breitbart, sean, donald, trump, bann...   \n",
       "37  [snl, fallon, kristen, msnbc, jimmy, melissa, ...   \n",
       "38  [dancing, dance, dwts, jennings, stars, cast, ...   \n",
       "39  [prince, elizabeth, princess, queen, dianas, m...   \n",
       "40  [inauguration, presidents, president, roosevel...   \n",
       "\n",
       "                                                  MMR  \\\n",
       "0   [live, watch, trumps, white, season, news, bab...   \n",
       "1   [nfl, packers, cowboys, seahawks, redskins, 20...   \n",
       "2   [ncaa, carolina, duke, gonzaga, championship, ...   \n",
       "3   [nba, warriors, lebron, cavs, trade, celtics, ...   \n",
       "4   [valentines, easter, patricks, st, friday, chr...   \n",
       "5   [trailer, logan, marvel, batman, guardians, wa...   \n",
       "6   [dies, dead, actor, deaths, suicide, george, j...   \n",
       "7   [madrid, real, barcelona, liga, champions, ars...   \n",
       "8   [kendrick, mixtape, song, gorillaz, concert, m...   \n",
       "9   [oscars, awards, oscar, grammys, 2017, manches...   \n",
       "10  [stock, dow, musk, earnings, tesla, spacex, yo...   \n",
       "11  [topless, secret, bella, playboy, nude, swimsu...   \n",
       "12  [police, shooting, gunman, shooter, murder, sa...   \n",
       "13  [trump, ivanka, trumps, kellyanne, president, ...   \n",
       "14  [pregnant, child, ciara, serena, unborn, jenel...   \n",
       "15  [tornado, warning, earthquake, dam, oroville, ...   \n",
       "16  [finale, walking, episode, motel, bates, murde...   \n",
       "17  [arrested, jail, arrest, kodak, rapper, probat...   \n",
       "18  [ufc, fight, conor, tko, mcgregor, mayweather,...   \n",
       "19  [bruins, nhl, penguins, rangers, jackets, cros...   \n",
       "20  [weather, winter, forecast, snow, snowstorm, s...   \n",
       "21  [dustin, masters, federer, murray, locker, nad...   \n",
       "22  [mlb, phillies, tebow, cubs, sox, braves, card...   \n",
       "23  [moon, facts, discovered, tilapia, eclipse, ka...   \n",
       "24  [ban, h1b, immigration, refugee, aclu, trudeau...   \n",
       "25  [obamacare, repeal, democrats, ryan, doddfrank...   \n",
       "26  [christmas, santa, dolly, parton, colors, wint...   \n",
       "27  [switch, pokémon, ios, nes, nintendo, apple, i...   \n",
       "28  [wikileaks, sweden, spy, hacking, democrats, s...   \n",
       "29  [closings, delays, county, schools, march, mun...   \n",
       "30  [marriage, sam, lauren, married, celebrity, ho...   \n",
       "31  [march, womens, thousands, rally, marathon, st...   \n",
       "32  [secretary, tillerson, trump, picks, giuliani,...   \n",
       "33  [chaos, gatlinburg, mall, tower, panic, smoke,...   \n",
       "34  [wwe, reigns, wrestlemania, 2017, tlc, lesnars...   \n",
       "35  [ezekiel, suspension, assault, elliotts, ellio...   \n",
       "36  [donald, slams, yiannopoulos, hannity, milo, m...   \n",
       "37  [snl, melissa, sean, blower, kimmels, mccarthy...   \n",
       "38  [dancing, stars, kerrigan, yamaguchi, 10s, eri...   \n",
       "39  [elizabeth, prince, meghan, harry, princess, m...   \n",
       "40  [inauguration, presidents, preparations, roose...   \n",
       "\n",
       "                                                  POS  \\\n",
       "0   [new, star, video, years, white, season, peopl...   \n",
       "1   [draft, playoff, loss, playoffs, score, team, ...   \n",
       "2   [basketball, tournament, football, state, coll...   \n",
       "3   [trade, points, playoffs, knee, left, win, res...   \n",
       "4   [day, year, open, food, hours, deals, buy, hap...   \n",
       "5   [trailer, film, movie, review, new, epic, thin...   \n",
       "6   [dead, death, star, heart, actor, condition, d...   \n",
       "7   [goals, live, stream, online, quarterfinal, dr...   \n",
       "8   [tour, album, new, lineup, song, concert, date...   \n",
       "9   [best, winners, actor, performance, carpet, tr...   \n",
       "10  [stock, rocket, users, average, industrial, re...   \n",
       "11  [topless, naked, photos, model, photo, shoot, ...   \n",
       "12  [police, shooting, gunman, shooter, man, fatal...   \n",
       "13  [correspondents, force, bad, inauguration, goo...   \n",
       "14  [baby, child, photo, shares, unborn, 2s, pregn...   \n",
       "15  [tornado, warning, damage, power, earthquake, ...   \n",
       "16  [recap, finale, premiere, season, series, epis...   \n",
       "17  [jail, arrest, prison, probation, drug, alterc...   \n",
       "18  [fight, decision, results, card, title, second...   \n",
       "19  [series, playoffs, preview, loss, times, late,...   \n",
       "20  [weather, winter, forecast, snowstorm, snow, a...   \n",
       "21  [seed, win, return, stairs, mantra, loudest, o...   \n",
       "22  [homer, minor, games, plan, record, littlest, ...   \n",
       "23  [moon, tilapia, eclipse, life, periodic, toler...   \n",
       "24  [ban, travel, order, refugee, questions, wound...   \n",
       "25  [amendment, plan, 25th, entitlements, bushels,...   \n",
       "26  [santa, special, tracker, racism, colorblind, ...   \n",
       "27  [new, console, display, today, 21st, 97inch, d...   \n",
       "28  [adviser, election, security, incredulous, blu...   \n",
       "29  [school, closings, delays, superintendents, pe...   \n",
       "30  [divorce, marriage, brother, star, writer, rom...   \n",
       "31  [march, thousands, rally, streets, protests, c...   \n",
       "32  [secretary, picks, affairs, national, adviser,...   \n",
       "33  [chaos, mall, shots, panic, train, smoke, dist...   \n",
       "34  [results, title, team, seconds, champs, streak...   \n",
       "35  [suspension, assault, violation, yearlong, com...   \n",
       "36  [media, supporters, skit, provocateur, newsman...   \n",
       "37  [leaf, blower, ghost, light, debate, visit, el...   \n",
       "38  [10s, partners, celebrity, cast, performance, ...   \n",
       "39  [pals, influential, colds, photographer, hoax,...   \n",
       "40  [inauguration, preparations, lesson, 45th, thr...   \n",
       "\n",
       "                                  Representative_Docs  \n",
       "0   [Antonio Brown could be fined for Facebook Liv...  \n",
       "1   [2017 NFL Playoff Odds Atlanta Falcons Vs Gree...  \n",
       "2   [College Football Playoff Clemson vs Ohio Stat...  \n",
       "3   [The Cavaliers should still be concerned despi...  \n",
       "4   [A History Of St Patricks Day In Minnesota, Ne...  \n",
       "5   [REVIEW The LEGO Batman Movie, Rogue One A Sta...  \n",
       "6   [Margaret Whitton star of Major League dies at...  \n",
       "7   [La Liga Luis Suarez double keeps FC Barcelona...  \n",
       "8   [Kendrick Lamars Damn Everything we know about...  \n",
       "9   [Date Night Mel Gibson and Rosalind Ross Step ...  \n",
       "10  [Who bought Snap stock Snapchats young users s...  \n",
       "11  [Victorias Secret Bella Gigi and Kendall get t...  \n",
       "12  [Gunman Who Shot 3 at Zurich Islamic Center Is...  \n",
       "13  [Trump Will Be First President In 36 Years To ...  \n",
       "14  [Amanda Seyfried is expecting a baby with Thom...  \n",
       "15  [JUST IN Fulton County under a tornado warning...  \n",
       "16  [Shadowhunters Recap Jace Embraces His Dark Ro...  \n",
       "17  [Kodak Black Was Released From Jail in Florida...  \n",
       "18  [UFC 208 Results Winners Scorecards from Holm ...  \n",
       "19  [Marchand breaks late tie Bruins top Senators ...  \n",
       "20  [Southern California weather forecast  Los Ang...  \n",
       "21  [Roger Federer and Rafael Nadal Breathe New Li...  \n",
       "22  [Just one game Tim Tebow fends off hype after ...  \n",
       "23  [Edmonia Lewis 5 Fast Facts You Need to Know, ...  \n",
       "24  [Trumps New Travel Ban Blocks Migrants From Si...  \n",
       "25  [Obamacare Took Months to Craft Repeal May Be ...  \n",
       "26  [Will Dolly Partons Christmas Of Many Colors B...  \n",
       "27  [Nintendos Switch reimagines the home console ...  \n",
       "28  [Russia Extends Edward Snowdens Asylum, House ...  \n",
       "29  [School closings and delays in Northeast Ohio ...  \n",
       "30  [Who is Lauren Harries Celebrity Big Brother 2...  \n",
       "31  [The best signs from the San Francisco Womens ...  \n",
       "32  [Rex Tillerson Trump foreign affairs pick narr...  \n",
       "33  [Panic chaos at Penn Station during rush hour,...  \n",
       "34  [World Wrestling Entertainment WWE Says WWE Ne...  \n",
       "35  [Salvation Army says Ezekiel Elliotts TD broug...  \n",
       "36  [Sean Spicer Trump will hold media accountable...  \n",
       "37  [SNL Hits 6Year Ratings High With Melissa McCa...  \n",
       "38  [Nancy Kerrigan  Artem Chigvintsev on Dancing ...  \n",
       "39  [Prince Harry and Meghan Markle Buy First Chri...  \n",
       "40  [Americans on Presidents Day Admiration fear m...  "
      ]
     },
     "execution_count": 153,
     "metadata": {},
     "output_type": "execute_result"
    }
   ],
   "source": [
    "\n",
    "\n",
    "topic_model = BERTopic(\n",
    "embedding_model=embedding_model,\n",
    "umap_model=umap_model,\n",
    "hdbscan_model=hdbscan_model,\n",
    "vectorizer_model=vectorizer_model,\n",
    "representation_model=representation_model,\n",
    "top_n_words=10,\n",
    "verbose=True\n",
    ")\n",
    "\n",
    "topics, probs = topic_model.fit_transform(strings_list)\n",
    "topic_model.update_topics(strings_list, n_gram_range=(1,3))\n",
    "\n",
    "names = topic_model.get_topic_info().Name\n",
    "topic_model.get_topic_info()"
   ]
  },
  {
   "cell_type": "code",
   "execution_count": 154,
   "metadata": {},
   "outputs": [
    {
     "data": {
      "text/html": [
       "<div>\n",
       "<style scoped>\n",
       "    .dataframe tbody tr th:only-of-type {\n",
       "        vertical-align: middle;\n",
       "    }\n",
       "\n",
       "    .dataframe tbody tr th {\n",
       "        vertical-align: top;\n",
       "    }\n",
       "\n",
       "    .dataframe thead th {\n",
       "        text-align: right;\n",
       "    }\n",
       "</style>\n",
       "<table border=\"1\" class=\"dataframe\">\n",
       "  <thead>\n",
       "    <tr style=\"text-align: right;\">\n",
       "      <th></th>\n",
       "      <th>topic</th>\n",
       "      <th>probs</th>\n",
       "      <th>date</th>\n",
       "      <th>traffic</th>\n",
       "      <th>traffic_numeric</th>\n",
       "    </tr>\n",
       "  </thead>\n",
       "  <tbody>\n",
       "    <tr>\n",
       "      <th>0</th>\n",
       "      <td>3</td>\n",
       "      <td>0.840494</td>\n",
       "      <td>2016-11-28</td>\n",
       "      <td>500,000+</td>\n",
       "      <td>500000</td>\n",
       "    </tr>\n",
       "    <tr>\n",
       "      <th>1</th>\n",
       "      <td>-1</td>\n",
       "      <td>0.000000</td>\n",
       "      <td>2016-11-28</td>\n",
       "      <td>200,000+</td>\n",
       "      <td>200000</td>\n",
       "    </tr>\n",
       "    <tr>\n",
       "      <th>2</th>\n",
       "      <td>9</td>\n",
       "      <td>0.589742</td>\n",
       "      <td>2016-11-28</td>\n",
       "      <td>100,000+</td>\n",
       "      <td>100000</td>\n",
       "    </tr>\n",
       "    <tr>\n",
       "      <th>3</th>\n",
       "      <td>0</td>\n",
       "      <td>1.000000</td>\n",
       "      <td>2016-11-28</td>\n",
       "      <td>200,000+</td>\n",
       "      <td>200000</td>\n",
       "    </tr>\n",
       "    <tr>\n",
       "      <th>4</th>\n",
       "      <td>-1</td>\n",
       "      <td>0.000000</td>\n",
       "      <td>2016-11-28</td>\n",
       "      <td>200,000+</td>\n",
       "      <td>200000</td>\n",
       "    </tr>\n",
       "    <tr>\n",
       "      <th>...</th>\n",
       "      <td>...</td>\n",
       "      <td>...</td>\n",
       "      <td>...</td>\n",
       "      <td>...</td>\n",
       "      <td>...</td>\n",
       "    </tr>\n",
       "    <tr>\n",
       "      <th>2836</th>\n",
       "      <td>12</td>\n",
       "      <td>1.000000</td>\n",
       "      <td>2017-04-27</td>\n",
       "      <td>200,000+</td>\n",
       "      <td>200000</td>\n",
       "    </tr>\n",
       "    <tr>\n",
       "      <th>2837</th>\n",
       "      <td>2</td>\n",
       "      <td>1.000000</td>\n",
       "      <td>2017-04-27</td>\n",
       "      <td>200,000+</td>\n",
       "      <td>200000</td>\n",
       "    </tr>\n",
       "    <tr>\n",
       "      <th>2838</th>\n",
       "      <td>-1</td>\n",
       "      <td>0.000000</td>\n",
       "      <td>2017-04-27</td>\n",
       "      <td>20,000+</td>\n",
       "      <td>20000</td>\n",
       "    </tr>\n",
       "    <tr>\n",
       "      <th>2839</th>\n",
       "      <td>4</td>\n",
       "      <td>0.792753</td>\n",
       "      <td>2017-04-27</td>\n",
       "      <td>20,000+</td>\n",
       "      <td>20000</td>\n",
       "    </tr>\n",
       "    <tr>\n",
       "      <th>2840</th>\n",
       "      <td>-1</td>\n",
       "      <td>0.000000</td>\n",
       "      <td>2017-04-27</td>\n",
       "      <td>1,000,000+</td>\n",
       "      <td>1000000</td>\n",
       "    </tr>\n",
       "  </tbody>\n",
       "</table>\n",
       "<p>2841 rows × 5 columns</p>\n",
       "</div>"
      ],
      "text/plain": [
       "      topic     probs        date     traffic  traffic_numeric\n",
       "0         3  0.840494  2016-11-28    500,000+           500000\n",
       "1        -1  0.000000  2016-11-28    200,000+           200000\n",
       "2         9  0.589742  2016-11-28    100,000+           100000\n",
       "3         0  1.000000  2016-11-28    200,000+           200000\n",
       "4        -1  0.000000  2016-11-28    200,000+           200000\n",
       "...     ...       ...         ...         ...              ...\n",
       "2836     12  1.000000  2017-04-27    200,000+           200000\n",
       "2837      2  1.000000  2017-04-27    200,000+           200000\n",
       "2838     -1  0.000000  2017-04-27     20,000+            20000\n",
       "2839      4  0.792753  2017-04-27     20,000+            20000\n",
       "2840     -1  0.000000  2017-04-27  1,000,000+          1000000\n",
       "\n",
       "[2841 rows x 5 columns]"
      ]
     },
     "execution_count": 154,
     "metadata": {},
     "output_type": "execute_result"
    }
   ],
   "source": [
    "df = pd.DataFrame({'topic':topics, 'probs':probs})\n",
    "df['date'] = data[['date']]\n",
    "df['traffic'] = data[['traffic']]\n",
    "df['traffic_numeric'] = df['traffic'].apply(clean_traffic)\n",
    "df\n"
   ]
  },
  {
   "cell_type": "code",
   "execution_count": 155,
   "metadata": {},
   "outputs": [
    {
     "name": "stdout",
     "output_type": "stream",
     "text": [
      "{'mean': 576190.4761904762, 'topic': 26}\n",
      "topic\n",
      " 26    576190.476190\n",
      " 32    481875.000000\n",
      " 21    480833.333333\n",
      " 15    459310.344828\n",
      " 23    350909.090909\n",
      " 3     316120.689655\n",
      " 37    301666.666667\n",
      " 20    276666.666667\n",
      " 38    263333.333333\n",
      " 33    224285.714286\n",
      " 18    217407.407407\n",
      " 29    201666.666667\n",
      " 7     196486.486486\n",
      " 36    193846.153846\n",
      " 12    183414.634146\n",
      "-1     177562.940584\n",
      " 8     174516.129032\n",
      " 2     163529.411765\n",
      " 4     159814.814815\n",
      " 19    158518.518519\n",
      " 24    152857.142857\n",
      " 34    147142.857143\n",
      " 0     146484.018265\n",
      " 1     144742.857143\n",
      " 30    141666.666667\n",
      " 9     140612.244898\n",
      " 10    140232.558140\n",
      " 11    137619.047619\n",
      " 6     136333.333333\n",
      " 5     127878.787879\n",
      " 17    124827.586207\n",
      " 27    122000.000000\n",
      " 16    115862.068966\n",
      " 35    112307.692308\n",
      " 39    110000.000000\n",
      " 14    106451.612903\n",
      " 25    101428.571429\n",
      " 31     93529.411765\n",
      " 22     80000.000000\n",
      " 28     78333.333333\n",
      " 13     75675.675676\n",
      "Name: mean, dtype: float64\n"
     ]
    }
   ],
   "source": [
    "max = most_visited_topic_cluster(df,max_element(topics))\n",
    "print(max)\n",
    "topic_stats = df.groupby('topic')['traffic_numeric'].agg(['mean', 'median']).sort_values('mean',ascending=False)\n",
    "print(topic_stats['mean'])\n"
   ]
  },
  {
   "cell_type": "code",
   "execution_count": 156,
   "metadata": {},
   "outputs": [
    {
     "data": {
      "text/plain": [
       "[('switch', 0.03826559803774777),\n",
       " ('pokémon', 0.03826559803774777),\n",
       " ('new', 0.03572007705356686),\n",
       " ('ios', 0.031127102845672883),\n",
       " ('nes', 0.031127102845672883),\n",
       " ('nes classic', 0.031127102845672883),\n",
       " ('nintendos', 0.029759488096550924),\n",
       " ('nintendo', 0.029759488096550924),\n",
       " ('apple', 0.027833298300989167),\n",
       " ('the', 0.027107123837098058)]"
      ]
     },
     "execution_count": 156,
     "metadata": {},
     "output_type": "execute_result"
    }
   ],
   "source": [
    "topic_model.get_topic(max['topic'])"
   ]
  },
  {
   "cell_type": "code",
   "execution_count": 157,
   "metadata": {},
   "outputs": [
    {
     "data": {
      "image/png": "[encoded data removed]",
      "text/plain": [
       "<Figure size 3000x500 with 1 Axes>"
      ]
     },
     "metadata": {},
     "output_type": "display_data"
    }
   ],
   "source": [
    "topic_time_distribution = df.groupby(['date', 'topic']).size().reset_index(name='count')\n",
    "specific_topic = max['topic']\n",
    "specific_topic_data = topic_time_distribution[topic_time_distribution['topic'] == specific_topic]\n",
    "plt.figure(figsize=(30, 5))\n",
    "sns.lineplot(data=specific_topic_data, x='date', y='count')\n",
    "plt.title(f\"Trend for Topic {specific_topic}\")\n",
    "plt.xlabel(\"Date\")\n",
    "plt.ylabel(\"Count\")\n",
    "plt.xticks(rotation=90)\n",
    "plt.show()\n",
    "\n",
    "\n"
   ]
  },
  {
   "cell_type": "code",
   "execution_count": 158,
   "metadata": {},
   "outputs": [
    {
     "data": {
      "text/plain": [
       "0                                       -1_the_to_of_in\n",
       "1                             0_nfl_to_super_super bowl\n",
       "2                     1_basketball_ncaa_tournament_bowl\n",
       "3                               2_nba_warriors_game_the\n",
       "4                          3_day_valentines_easter_2017\n",
       "5                             4_trailer_the_review_film\n",
       "6                                5_dies_dies at_at_dead\n",
       "7                      6_madrid_real_league_real madrid\n",
       "8                            7_tour_album_new_new album\n",
       "9                          8_oscars_awards_oscar_globes\n",
       "10                                9_stock_musk_elon_dow\n",
       "11             10_victorias_victorias secret_her_secret\n",
       "12                           11_police_shooting_in_shot\n",
       "13                   12_trump_obama_donald_donald trump\n",
       "14                     13_baby_pregnant_child_expecting\n",
       "15              14_tornado_warning_tornado warning_near\n",
       "16                         15_recap_finale_premiere_the\n",
       "17                16_arrested_released_jail_kevin gates\n",
       "18                           17_ufc_fight_conor_results\n",
       "19                           18_game_bruins_nhl_in game\n",
       "20          19_weather_winter_forecast_weather forecast\n",
       "21                 20_masters_dustin_open_roger federer\n",
       "22                   21_mlb_opening day_tim tebow_tebow\n",
       "23    22_fast facts_facts you need_facts you_fast fa...\n",
       "24                             23_ban_visa_trump_travel\n",
       "25                  24_senate_obamacare_republicans_are\n",
       "26           25_christmas_santa_christmas special_dolly\n",
       "27                            26_switch_pokémon_new_ios\n",
       "28                   27_russia_wikileaks_sweden_hacking\n",
       "29            28_school_closings_school closings_delays\n",
       "30                             29_divorce_and_ti and_ti\n",
       "31               30_march_womens march_womens_thousands\n",
       "32             31_secretary_rex tillerson_tillerson_rex\n",
       "33                        32_fire_chaos_gatlinburg_mall\n",
       "34                     33_wwe_results_2017 results_news\n",
       "35         34_ezekiel_suspension_suspension for_assault\n",
       "36                    35_trump_sean_donald trump_donald\n",
       "37                 36_snl_melissa_sean_melissa mccarthy\n",
       "38    37_dancing_the stars_dancing with the_dancing ...\n",
       "39            38_elizabeth_queen elizabeth_queen_prince\n",
       "40    39_inauguration_presidents_inauguration day_am...\n",
       "Name: Name, dtype: object"
      ]
     },
     "execution_count": 158,
     "metadata": {},
     "output_type": "execute_result"
    }
   ],
   "source": [
    "names"
   ]
  },
  {
   "cell_type": "code",
   "execution_count": null,
   "metadata": {},
   "outputs": [
    {
     "data": {
      "application/vnd.plotly.v1+json": {
       "config": {
        "plotlyServerURL": "https://plot.ly"
       },
       "data": [
        {
         "customdata": [
          [
           0,
           "trump | trumps | donald | inauguration | obama",
           330
          ],
          [
           1,
           "nfl | super | patriots | bowl | draft",
           223
          ],
          [
           2,
           "basketball | ncaa | tournament | state | football",
           173
          ],
          [
           3,
           "nba | warriors | game | lebron | cavaliers",
           170
          ],
          [
           4,
           "baby | child | pregnant | victorias | photo",
           158
          ],
          [
           5,
           "dies | dead | death | star | heart",
           105
          ],
          [
           6,
           "trailer | movie | review | film | logan",
           89
          ],
          [
           7,
           "madrid | real | league | barcelona | cup",
           81
          ],
          [
           8,
           "oscars | awards | globes | golden | grammys",
           67
          ],
          [
           9,
           "police | shooting | shot | fatal | man",
           59
          ],
          [
           10,
           "tour | album | kendrick | announces | mixtape",
           54
          ],
          [
           11,
           "stock | musk | dow | elon | youtube",
           50
          ],
          [
           12,
           "patricks | easter | st | day | quotes",
           37
          ],
          [
           13,
           "arrested | released | charges | prison | jail",
           36
          ],
          [
           14,
           "ufc | fight | conor | decision | results",
           29
          ],
          [
           15,
           "finale | recap | premiere | season | series",
           25
          ],
          [
           16,
           "game | bruins | nhl | penguins | series",
           25
          ],
          [
           17,
           "mlb | homer | phillies | tebow | cubs",
           24
          ],
          [
           18,
           "carey | mariah | nicki | lady | ma",
           24
          ],
          [
           19,
           "weather | winter | snow | snowstorm | forecast",
           23
          ],
          [
           20,
           "gatlinburg | chaos | mall | shots | panic",
           22
          ],
          [
           21,
           "foot | federer | open | roger | australian",
           21
          ],
          [
           22,
           "switch | pokémon | nes | ios | nintendo",
           20
          ],
          [
           23,
           "christmas | santa | special | dreaming | tracker",
           19
          ],
          [
           24,
           "march | womens | thousands | science | rally",
           16
          ],
          [
           25,
           "school | closings | delays | county | schools",
           16
          ],
          [
           26,
           "moon | nasa | discovered | tilapia | eclipse",
           16
          ],
          [
           27,
           "sale | deals | monday | retailer | cyber",
           15
          ],
          [
           28,
           "wwe | results | news | reigns | wrestlemania",
           14
          ],
          [
           29,
           "ezekiel | suspension | elliott | elliotts | assault",
           13
          ],
          [
           30,
           "dam | oroville | power | reported | damage",
           13
          ],
          [
           31,
           "elizabeth | queen | prince | markle | meghan",
           12
          ],
          [
           32,
           "tornado | warning | weather | counties | issued",
           12
          ],
          [
           33,
           "open | christmas | hours | closed | day",
           12
          ],
          [
           34,
           "valentines | day | nationwide | pakistani | issues",
           12
          ],
          [
           35,
           "dancing | stars | jennings | kerrigan | rashad",
           10
          ]
         ],
         "hovertemplate": "<b>Topic %{customdata[0]}</b><br>%{customdata[1]}<br>Size: %{customdata[2]}",
         "legendgroup": "",
         "marker": {
          "color": "#B0BEC5",
          "line": {
           "color": "DarkSlateGrey",
           "width": 2
          },
          "size": [
           330,
           223,
           173,
           170,
           158,
           105,
           89,
           81,
           67,
           59,
           54,
           50,
           37,
           36,
           29,
           25,
           25,
           24,
           24,
           23,
           22,
           21,
           20,
           19,
           16,
           16,
           16,
           15,
           14,
           13,
           13,
           12,
           12,
           12,
           12,
           10
          ],
          "sizemode": "area",
          "sizeref": 0.20625,
          "symbol": "circle"
         },
         "mode": "markers",
         "name": "",
         "orientation": "v",
         "showlegend": false,
         "type": "scatter",
         "x": [
          6.1817307472229,
          3.6702656745910645,
          3.212001323699951,
          3.438131093978882,
          -2.6378443241119385,
          1.0568897724151611,
          19.103551864624023,
          -5.712944030761719,
          -2.0843966007232666,
          1.3772577047348022,
          -1.968148946762085,
          6.486372470855713,
          26.118289947509766,
          1.4492650032043457,
          -6.192662715911865,
          19.392391204833984,
          -6.097085952758789,
          -6.171914100646973,
          -2.244638204574585,
          7.931690692901611,
          1.3229379653930664,
          -5.87416410446167,
          18.9379940032959,
          26.215734481811523,
          5.923094749450684,
          26.525365829467773,
          19.216571807861328,
          6.61842155456543,
          -6.179437160491943,
          3.728240728378296,
          8.159646987915039,
          -2.89532208442688,
          8.199396133422852,
          26.403648376464844,
          26.015483856201172,
          -2.5951406955718994
         ],
         "xaxis": "x",
         "y": [
          6.59852933883667,
          0.7164196968078613,
          1.1710479259490967,
          0.9455417990684509,
          -11.661142349243164,
          5.940004825592041,
          -2.134056329727173,
          13.937658309936523,
          -11.054069519042969,
          5.619438648223877,
          -11.257704734802246,
          6.2936930656433105,
          6.676311492919922,
          5.547543048858643,
          13.460662841796875,
          -1.8450548648834229,
          1.3188908100128174,
          1.393283724784851,
          -11.402637481689453,
          15.891225814819336,
          5.674402236938477,
          13.777522087097168,
          -2.299443244934082,
          6.578785419464111,
          6.855579376220703,
          6.266663551330566,
          -2.021009922027588,
          6.160636901855469,
          13.474056243896484,
          0.659007728099823,
          15.663958549499512,
          -11.562373161315918,
          15.624361991882324,
          6.389016628265381,
          6.779018878936768,
          -11.762673377990723
         ],
         "yaxis": "y"
        }
       ],
       "layout": {
        "annotations": [
         {
          "showarrow": false,
          "text": "D1",
          "x": -7.121562123298645,
          "y": 2.373917651176452,
          "yshift": 10
         },
         {
          "showarrow": false,
          "text": "D2",
          "x": 11.691304290294648,
          "xshift": 10,
          "y": 18.274909687042236
         }
        ],
        "height": 650,
        "hoverlabel": {
         "bgcolor": "white",
         "font": {
          "family": "Rockwell",
          "size": 16
         }
        },
        "legend": {
         "itemsizing": "constant",
         "tracegroupgap": 0
        },
        "margin": {
         "t": 60
        },
        "shapes": [
         {
          "line": {
           "color": "#CFD8DC",
           "width": 2
          },
          "type": "line",
          "x0": 11.691304290294648,
          "x1": 11.691304290294648,
          "y0": -13.527074384689332,
          "y1": 18.274909687042236
         },
         {
          "line": {
           "color": "#9E9E9E",
           "width": 2
          },
          "type": "line",
          "x0": -7.121562123298645,
          "x1": 30.50417070388794,
          "y0": 2.373917651176452,
          "y1": 2.373917651176452
         }
        ],
        "sliders": [
         {
          "active": 0,
          "pad": {
           "t": 50
          },
          "steps": [
           {
            "args": [
             {
              "marker.color": [
               [
                "red",
                "#B0BEC5",
                "#B0BEC5",
                "#B0BEC5",
                "#B0BEC5",
                "#B0BEC5",
                "#B0BEC5",
                "#B0BEC5",
                "#B0BEC5",
                "#B0BEC5",
                "#B0BEC5",
                "#B0BEC5",
                "#B0BEC5",
                "#B0BEC5",
                "#B0BEC5",
                "#B0BEC5",
                "#B0BEC5",
                "#B0BEC5",
                "#B0BEC5",
                "#B0BEC5",
                "#B0BEC5",
                "#B0BEC5",
                "#B0BEC5",
                "#B0BEC5",
                "#B0BEC5",
                "#B0BEC5",
                "#B0BEC5",
                "#B0BEC5",
                "#B0BEC5",
                "#B0BEC5",
                "#B0BEC5",
                "#B0BEC5",
                "#B0BEC5",
                "#B0BEC5",
                "#B0BEC5",
                "#B0BEC5"
               ]
              ]
             }
            ],
            "label": "Topic 0",
            "method": "update"
           },
           {
            "args": [
             {
              "marker.color": [
               [
                "#B0BEC5",
                "red",
                "#B0BEC5",
                "#B0BEC5",
                "#B0BEC5",
                "#B0BEC5",
                "#B0BEC5",
                "#B0BEC5",
                "#B0BEC5",
                "#B0BEC5",
                "#B0BEC5",
                "#B0BEC5",
                "#B0BEC5",
                "#B0BEC5",
                "#B0BEC5",
                "#B0BEC5",
                "#B0BEC5",
                "#B0BEC5",
                "#B0BEC5",
                "#B0BEC5",
                "#B0BEC5",
                "#B0BEC5",
                "#B0BEC5",
                "#B0BEC5",
                "#B0BEC5",
                "#B0BEC5",
                "#B0BEC5",
                "#B0BEC5",
                "#B0BEC5",
                "#B0BEC5",
                "#B0BEC5",
                "#B0BEC5",
                "#B0BEC5",
                "#B0BEC5",
                "#B0BEC5",
                "#B0BEC5"
               ]
              ]
             }
            ],
            "label": "Topic 1",
            "method": "update"
           },
           {
            "args": [
             {
              "marker.color": [
               [
                "#B0BEC5",
                "#B0BEC5",
                "red",
                "#B0BEC5",
                "#B0BEC5",
                "#B0BEC5",
                "#B0BEC5",
                "#B0BEC5",
                "#B0BEC5",
                "#B0BEC5",
                "#B0BEC5",
                "#B0BEC5",
                "#B0BEC5",
                "#B0BEC5",
                "#B0BEC5",
                "#B0BEC5",
                "#B0BEC5",
                "#B0BEC5",
                "#B0BEC5",
                "#B0BEC5",
                "#B0BEC5",
                "#B0BEC5",
                "#B0BEC5",
                "#B0BEC5",
                "#B0BEC5",
                "#B0BEC5",
                "#B0BEC5",
                "#B0BEC5",
                "#B0BEC5",
                "#B0BEC5",
                "#B0BEC5",
                "#B0BEC5",
                "#B0BEC5",
                "#B0BEC5",
                "#B0BEC5",
                "#B0BEC5"
               ]
              ]
             }
            ],
            "label": "Topic 2",
            "method": "update"
           },
           {
            "args": [
             {
              "marker.color": [
               [
                "#B0BEC5",
                "#B0BEC5",
                "#B0BEC5",
                "red",
                "#B0BEC5",
                "#B0BEC5",
                "#B0BEC5",
                "#B0BEC5",
                "#B0BEC5",
                "#B0BEC5",
                "#B0BEC5",
                "#B0BEC5",
                "#B0BEC5",
                "#B0BEC5",
                "#B0BEC5",
                "#B0BEC5",
                "#B0BEC5",
                "#B0BEC5",
                "#B0BEC5",
                "#B0BEC5",
                "#B0BEC5",
                "#B0BEC5",
                "#B0BEC5",
                "#B0BEC5",
                "#B0BEC5",
                "#B0BEC5",
                "#B0BEC5",
                "#B0BEC5",
                "#B0BEC5",
                "#B0BEC5",
                "#B0BEC5",
                "#B0BEC5",
                "#B0BEC5",
                "#B0BEC5",
                "#B0BEC5",
                "#B0BEC5"
               ]
              ]
             }
            ],
            "label": "Topic 3",
            "method": "update"
           },
           {
            "args": [
             {
              "marker.color": [
               [
                "#B0BEC5",
                "#B0BEC5",
                "#B0BEC5",
                "#B0BEC5",
                "red",
                "#B0BEC5",
                "#B0BEC5",
                "#B0BEC5",
                "#B0BEC5",
                "#B0BEC5",
                "#B0BEC5",
                "#B0BEC5",
                "#B0BEC5",
                "#B0BEC5",
                "#B0BEC5",
                "#B0BEC5",
                "#B0BEC5",
                "#B0BEC5",
                "#B0BEC5",
                "#B0BEC5",
                "#B0BEC5",
                "#B0BEC5",
                "#B0BEC5",
                "#B0BEC5",
                "#B0BEC5",
                "#B0BEC5",
                "#B0BEC5",
                "#B0BEC5",
                "#B0BEC5",
                "#B0BEC5",
                "#B0BEC5",
                "#B0BEC5",
                "#B0BEC5",
                "#B0BEC5",
                "#B0BEC5",
                "#B0BEC5"
               ]
              ]
             }
            ],
            "label": "Topic 4",
            "method": "update"
           },
           {
            "args": [
             {
              "marker.color": [
               [
                "#B0BEC5",
                "#B0BEC5",
                "#B0BEC5",
                "#B0BEC5",
                "#B0BEC5",
                "red",
                "#B0BEC5",
                "#B0BEC5",
                "#B0BEC5",
                "#B0BEC5",
                "#B0BEC5",
                "#B0BEC5",
                "#B0BEC5",
                "#B0BEC5",
                "#B0BEC5",
                "#B0BEC5",
                "#B0BEC5",
                "#B0BEC5",
                "#B0BEC5",
                "#B0BEC5",
                "#B0BEC5",
                "#B0BEC5",
                "#B0BEC5",
                "#B0BEC5",
                "#B0BEC5",
                "#B0BEC5",
                "#B0BEC5",
                "#B0BEC5",
                "#B0BEC5",
                "#B0BEC5",
                "#B0BEC5",
                "#B0BEC5",
                "#B0BEC5",
                "#B0BEC5",
                "#B0BEC5",
                "#B0BEC5"
               ]
              ]
             }
            ],
            "label": "Topic 5",
            "method": "update"
           },
           {
            "args": [
             {
              "marker.color": [
               [
                "#B0BEC5",
                "#B0BEC5",
                "#B0BEC5",
                "#B0BEC5",
                "#B0BEC5",
                "#B0BEC5",
                "red",
                "#B0BEC5",
                "#B0BEC5",
                "#B0BEC5",
                "#B0BEC5",
                "#B0BEC5",
                "#B0BEC5",
                "#B0BEC5",
                "#B0BEC5",
                "#B0BEC5",
                "#B0BEC5",
                "#B0BEC5",
                "#B0BEC5",
                "#B0BEC5",
                "#B0BEC5",
                "#B0BEC5",
                "#B0BEC5",
                "#B0BEC5",
                "#B0BEC5",
                "#B0BEC5",
                "#B0BEC5",
                "#B0BEC5",
                "#B0BEC5",
                "#B0BEC5",
                "#B0BEC5",
                "#B0BEC5",
                "#B0BEC5",
                "#B0BEC5",
                "#B0BEC5",
                "#B0BEC5"
               ]
              ]
             }
            ],
            "label": "Topic 6",
            "method": "update"
           },
           {
            "args": [
             {
              "marker.color": [
               [
                "#B0BEC5",
                "#B0BEC5",
                "#B0BEC5",
                "#B0BEC5",
                "#B0BEC5",
                "#B0BEC5",
                "#B0BEC5",
                "red",
                "#B0BEC5",
                "#B0BEC5",
                "#B0BEC5",
                "#B0BEC5",
                "#B0BEC5",
                "#B0BEC5",
                "#B0BEC5",
                "#B0BEC5",
                "#B0BEC5",
                "#B0BEC5",
                "#B0BEC5",
                "#B0BEC5",
                "#B0BEC5",
                "#B0BEC5",
                "#B0BEC5",
                "#B0BEC5",
                "#B0BEC5",
                "#B0BEC5",
                "#B0BEC5",
                "#B0BEC5",
                "#B0BEC5",
                "#B0BEC5",
                "#B0BEC5",
                "#B0BEC5",
                "#B0BEC5",
                "#B0BEC5",
                "#B0BEC5",
                "#B0BEC5"
               ]
              ]
             }
            ],
            "label": "Topic 7",
            "method": "update"
           },
           {
            "args": [
             {
              "marker.color": [
               [
                "#B0BEC5",
                "#B0BEC5",
                "#B0BEC5",
                "#B0BEC5",
                "#B0BEC5",
                "#B0BEC5",
                "#B0BEC5",
                "#B0BEC5",
                "red",
                "#B0BEC5",
                "#B0BEC5",
                "#B0BEC5",
                "#B0BEC5",
                "#B0BEC5",
                "#B0BEC5",
                "#B0BEC5",
                "#B0BEC5",
                "#B0BEC5",
                "#B0BEC5",
                "#B0BEC5",
                "#B0BEC5",
                "#B0BEC5",
                "#B0BEC5",
                "#B0BEC5",
                "#B0BEC5",
                "#B0BEC5",
                "#B0BEC5",
                "#B0BEC5",
                "#B0BEC5",
                "#B0BEC5",
                "#B0BEC5",
                "#B0BEC5",
                "#B0BEC5",
                "#B0BEC5",
                "#B0BEC5",
                "#B0BEC5"
               ]
              ]
             }
            ],
            "label": "Topic 8",
            "method": "update"
           },
           {
            "args": [
             {
              "marker.color": [
               [
                "#B0BEC5",
                "#B0BEC5",
                "#B0BEC5",
                "#B0BEC5",
                "#B0BEC5",
                "#B0BEC5",
                "#B0BEC5",
                "#B0BEC5",
                "#B0BEC5",
                "red",
                "#B0BEC5",
                "#B0BEC5",
                "#B0BEC5",
                "#B0BEC5",
                "#B0BEC5",
                "#B0BEC5",
                "#B0BEC5",
                "#B0BEC5",
                "#B0BEC5",
                "#B0BEC5",
                "#B0BEC5",
                "#B0BEC5",
                "#B0BEC5",
                "#B0BEC5",
                "#B0BEC5",
                "#B0BEC5",
                "#B0BEC5",
                "#B0BEC5",
                "#B0BEC5",
                "#B0BEC5",
                "#B0BEC5",
                "#B0BEC5",
                "#B0BEC5",
                "#B0BEC5",
                "#B0BEC5",
                "#B0BEC5"
               ]
              ]
             }
            ],
            "label": "Topic 9",
            "method": "update"
           },
           {
            "args": [
             {
              "marker.color": [
               [
                "#B0BEC5",
                "#B0BEC5",
                "#B0BEC5",
                "#B0BEC5",
                "#B0BEC5",
                "#B0BEC5",
                "#B0BEC5",
                "#B0BEC5",
                "#B0BEC5",
                "#B0BEC5",
                "red",
                "#B0BEC5",
                "#B0BEC5",
                "#B0BEC5",
                "#B0BEC5",
                "#B0BEC5",
                "#B0BEC5",
                "#B0BEC5",
                "#B0BEC5",
                "#B0BEC5",
                "#B0BEC5",
                "#B0BEC5",
                "#B0BEC5",
                "#B0BEC5",
                "#B0BEC5",
                "#B0BEC5",
                "#B0BEC5",
                "#B0BEC5",
                "#B0BEC5",
                "#B0BEC5",
                "#B0BEC5",
                "#B0BEC5",
                "#B0BEC5",
                "#B0BEC5",
                "#B0BEC5",
                "#B0BEC5"
               ]
              ]
             }
            ],
            "label": "Topic 10",
            "method": "update"
           },
           {
            "args": [
             {
              "marker.color": [
               [
                "#B0BEC5",
                "#B0BEC5",
                "#B0BEC5",
                "#B0BEC5",
                "#B0BEC5",
                "#B0BEC5",
                "#B0BEC5",
                "#B0BEC5",
                "#B0BEC5",
                "#B0BEC5",
                "#B0BEC5",
                "red",
                "#B0BEC5",
                "#B0BEC5",
                "#B0BEC5",
                "#B0BEC5",
                "#B0BEC5",
                "#B0BEC5",
                "#B0BEC5",
                "#B0BEC5",
                "#B0BEC5",
                "#B0BEC5",
                "#B0BEC5",
                "#B0BEC5",
                "#B0BEC5",
                "#B0BEC5",
                "#B0BEC5",
                "#B0BEC5",
                "#B0BEC5",
                "#B0BEC5",
                "#B0BEC5",
                "#B0BEC5",
                "#B0BEC5",
                "#B0BEC5",
                "#B0BEC5",
                "#B0BEC5"
               ]
              ]
             }
            ],
            "label": "Topic 11",
            "method": "update"
           },
           {
            "args": [
             {
              "marker.color": [
               [
                "#B0BEC5",
                "#B0BEC5",
                "#B0BEC5",
                "#B0BEC5",
                "#B0BEC5",
                "#B0BEC5",
                "#B0BEC5",
                "#B0BEC5",
                "#B0BEC5",
                "#B0BEC5",
                "#B0BEC5",
                "#B0BEC5",
                "red",
                "#B0BEC5",
                "#B0BEC5",
                "#B0BEC5",
                "#B0BEC5",
                "#B0BEC5",
                "#B0BEC5",
                "#B0BEC5",
                "#B0BEC5",
                "#B0BEC5",
                "#B0BEC5",
                "#B0BEC5",
                "#B0BEC5",
                "#B0BEC5",
                "#B0BEC5",
                "#B0BEC5",
                "#B0BEC5",
                "#B0BEC5",
                "#B0BEC5",
                "#B0BEC5",
                "#B0BEC5",
                "#B0BEC5",
                "#B0BEC5",
                "#B0BEC5"
               ]
              ]
             }
            ],
            "label": "Topic 12",
            "method": "update"
           },
           {
            "args": [
             {
              "marker.color": [
               [
                "#B0BEC5",
                "#B0BEC5",
                "#B0BEC5",
                "#B0BEC5",
                "#B0BEC5",
                "#B0BEC5",
                "#B0BEC5",
                "#B0BEC5",
                "#B0BEC5",
                "#B0BEC5",
                "#B0BEC5",
                "#B0BEC5",
                "#B0BEC5",
                "red",
                "#B0BEC5",
                "#B0BEC5",
                "#B0BEC5",
                "#B0BEC5",
                "#B0BEC5",
                "#B0BEC5",
                "#B0BEC5",
                "#B0BEC5",
                "#B0BEC5",
                "#B0BEC5",
                "#B0BEC5",
                "#B0BEC5",
                "#B0BEC5",
                "#B0BEC5",
                "#B0BEC5",
                "#B0BEC5",
                "#B0BEC5",
                "#B0BEC5",
                "#B0BEC5",
                "#B0BEC5",
                "#B0BEC5",
                "#B0BEC5"
               ]
              ]
             }
            ],
            "label": "Topic 13",
            "method": "update"
           },
           {
            "args": [
             {
              "marker.color": [
               [
                "#B0BEC5",
                "#B0BEC5",
                "#B0BEC5",
                "#B0BEC5",
                "#B0BEC5",
                "#B0BEC5",
                "#B0BEC5",
                "#B0BEC5",
                "#B0BEC5",
                "#B0BEC5",
                "#B0BEC5",
                "#B0BEC5",
                "#B0BEC5",
                "#B0BEC5",
                "red",
                "#B0BEC5",
                "#B0BEC5",
                "#B0BEC5",
                "#B0BEC5",
                "#B0BEC5",
                "#B0BEC5",
                "#B0BEC5",
                "#B0BEC5",
                "#B0BEC5",
                "#B0BEC5",
                "#B0BEC5",
                "#B0BEC5",
                "#B0BEC5",
                "#B0BEC5",
                "#B0BEC5",
                "#B0BEC5",
                "#B0BEC5",
                "#B0BEC5",
                "#B0BEC5",
                "#B0BEC5",
                "#B0BEC5"
               ]
              ]
             }
            ],
            "label": "Topic 14",
            "method": "update"
           },
           {
            "args": [
             {
              "marker.color": [
               [
                "#B0BEC5",
                "#B0BEC5",
                "#B0BEC5",
                "#B0BEC5",
                "#B0BEC5",
                "#B0BEC5",
                "#B0BEC5",
                "#B0BEC5",
                "#B0BEC5",
                "#B0BEC5",
                "#B0BEC5",
                "#B0BEC5",
                "#B0BEC5",
                "#B0BEC5",
                "#B0BEC5",
                "red",
                "#B0BEC5",
                "#B0BEC5",
                "#B0BEC5",
                "#B0BEC5",
                "#B0BEC5",
                "#B0BEC5",
                "#B0BEC5",
                "#B0BEC5",
                "#B0BEC5",
                "#B0BEC5",
                "#B0BEC5",
                "#B0BEC5",
                "#B0BEC5",
                "#B0BEC5",
                "#B0BEC5",
                "#B0BEC5",
                "#B0BEC5",
                "#B0BEC5",
                "#B0BEC5",
                "#B0BEC5"
               ]
              ]
             }
            ],
            "label": "Topic 15",
            "method": "update"
           },
           {
            "args": [
             {
              "marker.color": [
               [
                "#B0BEC5",
                "#B0BEC5",
                "#B0BEC5",
                "#B0BEC5",
                "#B0BEC5",
                "#B0BEC5",
                "#B0BEC5",
                "#B0BEC5",
                "#B0BEC5",
                "#B0BEC5",
                "#B0BEC5",
                "#B0BEC5",
                "#B0BEC5",
                "#B0BEC5",
                "#B0BEC5",
                "#B0BEC5",
                "red",
                "#B0BEC5",
                "#B0BEC5",
                "#B0BEC5",
                "#B0BEC5",
                "#B0BEC5",
                "#B0BEC5",
                "#B0BEC5",
                "#B0BEC5",
                "#B0BEC5",
                "#B0BEC5",
                "#B0BEC5",
                "#B0BEC5",
                "#B0BEC5",
                "#B0BEC5",
                "#B0BEC5",
                "#B0BEC5",
                "#B0BEC5",
                "#B0BEC5",
                "#B0BEC5"
               ]
              ]
             }
            ],
            "label": "Topic 16",
            "method": "update"
           },
           {
            "args": [
             {
              "marker.color": [
               [
                "#B0BEC5",
                "#B0BEC5",
                "#B0BEC5",
                "#B0BEC5",
                "#B0BEC5",
                "#B0BEC5",
                "#B0BEC5",
                "#B0BEC5",
                "#B0BEC5",
                "#B0BEC5",
                "#B0BEC5",
                "#B0BEC5",
                "#B0BEC5",
                "#B0BEC5",
                "#B0BEC5",
                "#B0BEC5",
                "#B0BEC5",
                "red",
                "#B0BEC5",
                "#B0BEC5",
                "#B0BEC5",
                "#B0BEC5",
                "#B0BEC5",
                "#B0BEC5",
                "#B0BEC5",
                "#B0BEC5",
                "#B0BEC5",
                "#B0BEC5",
                "#B0BEC5",
                "#B0BEC5",
                "#B0BEC5",
                "#B0BEC5",
                "#B0BEC5",
                "#B0BEC5",
                "#B0BEC5",
                "#B0BEC5"
               ]
              ]
             }
            ],
            "label": "Topic 17",
            "method": "update"
           },
           {
            "args": [
             {
              "marker.color": [
               [
                "#B0BEC5",
                "#B0BEC5",
                "#B0BEC5",
                "#B0BEC5",
                "#B0BEC5",
                "#B0BEC5",
                "#B0BEC5",
                "#B0BEC5",
                "#B0BEC5",
                "#B0BEC5",
                "#B0BEC5",
                "#B0BEC5",
                "#B0BEC5",
                "#B0BEC5",
                "#B0BEC5",
                "#B0BEC5",
                "#B0BEC5",
                "#B0BEC5",
                "red",
                "#B0BEC5",
                "#B0BEC5",
                "#B0BEC5",
                "#B0BEC5",
                "#B0BEC5",
                "#B0BEC5",
                "#B0BEC5",
                "#B0BEC5",
                "#B0BEC5",
                "#B0BEC5",
                "#B0BEC5",
                "#B0BEC5",
                "#B0BEC5",
                "#B0BEC5",
                "#B0BEC5",
                "#B0BEC5",
                "#B0BEC5"
               ]
              ]
             }
            ],
            "label": "Topic 18",
            "method": "update"
           },
           {
            "args": [
             {
              "marker.color": [
               [
                "#B0BEC5",
                "#B0BEC5",
                "#B0BEC5",
                "#B0BEC5",
                "#B0BEC5",
                "#B0BEC5",
                "#B0BEC5",
                "#B0BEC5",
                "#B0BEC5",
                "#B0BEC5",
                "#B0BEC5",
                "#B0BEC5",
                "#B0BEC5",
                "#B0BEC5",
                "#B0BEC5",
                "#B0BEC5",
                "#B0BEC5",
                "#B0BEC5",
                "#B0BEC5",
                "red",
                "#B0BEC5",
                "#B0BEC5",
                "#B0BEC5",
                "#B0BEC5",
                "#B0BEC5",
                "#B0BEC5",
                "#B0BEC5",
                "#B0BEC5",
                "#B0BEC5",
                "#B0BEC5",
                "#B0BEC5",
                "#B0BEC5",
                "#B0BEC5",
                "#B0BEC5",
                "#B0BEC5",
                "#B0BEC5"
               ]
              ]
             }
            ],
            "label": "Topic 19",
            "method": "update"
           },
           {
            "args": [
             {
              "marker.color": [
               [
                "#B0BEC5",
                "#B0BEC5",
                "#B0BEC5",
                "#B0BEC5",
                "#B0BEC5",
                "#B0BEC5",
                "#B0BEC5",
                "#B0BEC5",
                "#B0BEC5",
                "#B0BEC5",
                "#B0BEC5",
                "#B0BEC5",
                "#B0BEC5",
                "#B0BEC5",
                "#B0BEC5",
                "#B0BEC5",
                "#B0BEC5",
                "#B0BEC5",
                "#B0BEC5",
                "#B0BEC5",
                "red",
                "#B0BEC5",
                "#B0BEC5",
                "#B0BEC5",
                "#B0BEC5",
                "#B0BEC5",
                "#B0BEC5",
                "#B0BEC5",
                "#B0BEC5",
                "#B0BEC5",
                "#B0BEC5",
                "#B0BEC5",
                "#B0BEC5",
                "#B0BEC5",
                "#B0BEC5",
                "#B0BEC5"
               ]
              ]
             }
            ],
            "label": "Topic 20",
            "method": "update"
           },
           {
            "args": [
             {
              "marker.color": [
               [
                "#B0BEC5",
                "#B0BEC5",
                "#B0BEC5",
                "#B0BEC5",
                "#B0BEC5",
                "#B0BEC5",
                "#B0BEC5",
                "#B0BEC5",
                "#B0BEC5",
                "#B0BEC5",
                "#B0BEC5",
                "#B0BEC5",
                "#B0BEC5",
                "#B0BEC5",
                "#B0BEC5",
                "#B0BEC5",
                "#B0BEC5",
                "#B0BEC5",
                "#B0BEC5",
                "#B0BEC5",
                "#B0BEC5",
                "red",
                "#B0BEC5",
                "#B0BEC5",
                "#B0BEC5",
                "#B0BEC5",
                "#B0BEC5",
                "#B0BEC5",
                "#B0BEC5",
                "#B0BEC5",
                "#B0BEC5",
                "#B0BEC5",
                "#B0BEC5",
                "#B0BEC5",
                "#B0BEC5",
                "#B0BEC5"
               ]
              ]
             }
            ],
            "label": "Topic 21",
            "method": "update"
           },
           {
            "args": [
             {
              "marker.color": [
               [
                "#B0BEC5",
                "#B0BEC5",
                "#B0BEC5",
                "#B0BEC5",
                "#B0BEC5",
                "#B0BEC5",
                "#B0BEC5",
                "#B0BEC5",
                "#B0BEC5",
                "#B0BEC5",
                "#B0BEC5",
                "#B0BEC5",
                "#B0BEC5",
                "#B0BEC5",
                "#B0BEC5",
                "#B0BEC5",
                "#B0BEC5",
                "#B0BEC5",
                "#B0BEC5",
                "#B0BEC5",
                "#B0BEC5",
                "#B0BEC5",
                "red",
                "#B0BEC5",
                "#B0BEC5",
                "#B0BEC5",
                "#B0BEC5",
                "#B0BEC5",
                "#B0BEC5",
                "#B0BEC5",
                "#B0BEC5",
                "#B0BEC5",
                "#B0BEC5",
                "#B0BEC5",
                "#B0BEC5",
                "#B0BEC5"
               ]
              ]
             }
            ],
            "label": "Topic 22",
            "method": "update"
           },
           {
            "args": [
             {
              "marker.color": [
               [
                "#B0BEC5",
                "#B0BEC5",
                "#B0BEC5",
                "#B0BEC5",
                "#B0BEC5",
                "#B0BEC5",
                "#B0BEC5",
                "#B0BEC5",
                "#B0BEC5",
                "#B0BEC5",
                "#B0BEC5",
                "#B0BEC5",
                "#B0BEC5",
                "#B0BEC5",
                "#B0BEC5",
                "#B0BEC5",
                "#B0BEC5",
                "#B0BEC5",
                "#B0BEC5",
                "#B0BEC5",
                "#B0BEC5",
                "#B0BEC5",
                "#B0BEC5",
                "red",
                "#B0BEC5",
                "#B0BEC5",
                "#B0BEC5",
                "#B0BEC5",
                "#B0BEC5",
                "#B0BEC5",
                "#B0BEC5",
                "#B0BEC5",
                "#B0BEC5",
                "#B0BEC5",
                "#B0BEC5",
                "#B0BEC5"
               ]
              ]
             }
            ],
            "label": "Topic 23",
            "method": "update"
           },
           {
            "args": [
             {
              "marker.color": [
               [
                "#B0BEC5",
                "#B0BEC5",
                "#B0BEC5",
                "#B0BEC5",
                "#B0BEC5",
                "#B0BEC5",
                "#B0BEC5",
                "#B0BEC5",
                "#B0BEC5",
                "#B0BEC5",
                "#B0BEC5",
                "#B0BEC5",
                "#B0BEC5",
                "#B0BEC5",
                "#B0BEC5",
                "#B0BEC5",
                "#B0BEC5",
                "#B0BEC5",
                "#B0BEC5",
                "#B0BEC5",
                "#B0BEC5",
                "#B0BEC5",
                "#B0BEC5",
                "#B0BEC5",
                "red",
                "#B0BEC5",
                "#B0BEC5",
                "#B0BEC5",
                "#B0BEC5",
                "#B0BEC5",
                "#B0BEC5",
                "#B0BEC5",
                "#B0BEC5",
                "#B0BEC5",
                "#B0BEC5",
                "#B0BEC5"
               ]
              ]
             }
            ],
            "label": "Topic 24",
            "method": "update"
           },
           {
            "args": [
             {
              "marker.color": [
               [
                "#B0BEC5",
                "#B0BEC5",
                "#B0BEC5",
                "#B0BEC5",
                "#B0BEC5",
                "#B0BEC5",
                "#B0BEC5",
                "#B0BEC5",
                "#B0BEC5",
                "#B0BEC5",
                "#B0BEC5",
                "#B0BEC5",
                "#B0BEC5",
                "#B0BEC5",
                "#B0BEC5",
                "#B0BEC5",
                "#B0BEC5",
                "#B0BEC5",
                "#B0BEC5",
                "#B0BEC5",
                "#B0BEC5",
                "#B0BEC5",
                "#B0BEC5",
                "#B0BEC5",
                "#B0BEC5",
                "red",
                "#B0BEC5",
                "#B0BEC5",
                "#B0BEC5",
                "#B0BEC5",
                "#B0BEC5",
                "#B0BEC5",
                "#B0BEC5",
                "#B0BEC5",
                "#B0BEC5",
                "#B0BEC5"
               ]
              ]
             }
            ],
            "label": "Topic 25",
            "method": "update"
           },
           {
            "args": [
             {
              "marker.color": [
               [
                "#B0BEC5",
                "#B0BEC5",
                "#B0BEC5",
                "#B0BEC5",
                "#B0BEC5",
                "#B0BEC5",
                "#B0BEC5",
                "#B0BEC5",
                "#B0BEC5",
                "#B0BEC5",
                "#B0BEC5",
                "#B0BEC5",
                "#B0BEC5",
                "#B0BEC5",
                "#B0BEC5",
                "#B0BEC5",
                "#B0BEC5",
                "#B0BEC5",
                "#B0BEC5",
                "#B0BEC5",
                "#B0BEC5",
                "#B0BEC5",
                "#B0BEC5",
                "#B0BEC5",
                "#B0BEC5",
                "#B0BEC5",
                "red",
                "#B0BEC5",
                "#B0BEC5",
                "#B0BEC5",
                "#B0BEC5",
                "#B0BEC5",
                "#B0BEC5",
                "#B0BEC5",
                "#B0BEC5",
                "#B0BEC5"
               ]
              ]
             }
            ],
            "label": "Topic 26",
            "method": "update"
           },
           {
            "args": [
             {
              "marker.color": [
               [
                "#B0BEC5",
                "#B0BEC5",
                "#B0BEC5",
                "#B0BEC5",
                "#B0BEC5",
                "#B0BEC5",
                "#B0BEC5",
                "#B0BEC5",
                "#B0BEC5",
                "#B0BEC5",
                "#B0BEC5",
                "#B0BEC5",
                "#B0BEC5",
                "#B0BEC5",
                "#B0BEC5",
                "#B0BEC5",
                "#B0BEC5",
                "#B0BEC5",
                "#B0BEC5",
                "#B0BEC5",
                "#B0BEC5",
                "#B0BEC5",
                "#B0BEC5",
                "#B0BEC5",
                "#B0BEC5",
                "#B0BEC5",
                "#B0BEC5",
                "red",
                "#B0BEC5",
                "#B0BEC5",
                "#B0BEC5",
                "#B0BEC5",
                "#B0BEC5",
                "#B0BEC5",
                "#B0BEC5",
                "#B0BEC5"
               ]
              ]
             }
            ],
            "label": "Topic 27",
            "method": "update"
           },
           {
            "args": [
             {
              "marker.color": [
               [
                "#B0BEC5",
                "#B0BEC5",
                "#B0BEC5",
                "#B0BEC5",
                "#B0BEC5",
                "#B0BEC5",
                "#B0BEC5",
                "#B0BEC5",
                "#B0BEC5",
                "#B0BEC5",
                "#B0BEC5",
                "#B0BEC5",
                "#B0BEC5",
                "#B0BEC5",
                "#B0BEC5",
                "#B0BEC5",
                "#B0BEC5",
                "#B0BEC5",
                "#B0BEC5",
                "#B0BEC5",
                "#B0BEC5",
                "#B0BEC5",
                "#B0BEC5",
                "#B0BEC5",
                "#B0BEC5",
                "#B0BEC5",
                "#B0BEC5",
                "#B0BEC5",
                "red",
                "#B0BEC5",
                "#B0BEC5",
                "#B0BEC5",
                "#B0BEC5",
                "#B0BEC5",
                "#B0BEC5",
                "#B0BEC5"
               ]
              ]
             }
            ],
            "label": "Topic 28",
            "method": "update"
           },
           {
            "args": [
             {
              "marker.color": [
               [
                "#B0BEC5",
                "#B0BEC5",
                "#B0BEC5",
                "#B0BEC5",
                "#B0BEC5",
                "#B0BEC5",
                "#B0BEC5",
                "#B0BEC5",
                "#B0BEC5",
                "#B0BEC5",
                "#B0BEC5",
                "#B0BEC5",
                "#B0BEC5",
                "#B0BEC5",
                "#B0BEC5",
                "#B0BEC5",
                "#B0BEC5",
                "#B0BEC5",
                "#B0BEC5",
                "#B0BEC5",
                "#B0BEC5",
                "#B0BEC5",
                "#B0BEC5",
                "#B0BEC5",
                "#B0BEC5",
                "#B0BEC5",
                "#B0BEC5",
                "#B0BEC5",
                "#B0BEC5",
                "red",
                "#B0BEC5",
                "#B0BEC5",
                "#B0BEC5",
                "#B0BEC5",
                "#B0BEC5",
                "#B0BEC5"
               ]
              ]
             }
            ],
            "label": "Topic 29",
            "method": "update"
           },
           {
            "args": [
             {
              "marker.color": [
               [
                "#B0BEC5",
                "#B0BEC5",
                "#B0BEC5",
                "#B0BEC5",
                "#B0BEC5",
                "#B0BEC5",
                "#B0BEC5",
                "#B0BEC5",
                "#B0BEC5",
                "#B0BEC5",
                "#B0BEC5",
                "#B0BEC5",
                "#B0BEC5",
                "#B0BEC5",
                "#B0BEC5",
                "#B0BEC5",
                "#B0BEC5",
                "#B0BEC5",
                "#B0BEC5",
                "#B0BEC5",
                "#B0BEC5",
                "#B0BEC5",
                "#B0BEC5",
                "#B0BEC5",
                "#B0BEC5",
                "#B0BEC5",
                "#B0BEC5",
                "#B0BEC5",
                "#B0BEC5",
                "#B0BEC5",
                "red",
                "#B0BEC5",
                "#B0BEC5",
                "#B0BEC5",
                "#B0BEC5",
                "#B0BEC5"
               ]
              ]
             }
            ],
            "label": "Topic 30",
            "method": "update"
           },
           {
            "args": [
             {
              "marker.color": [
               [
                "#B0BEC5",
                "#B0BEC5",
                "#B0BEC5",
                "#B0BEC5",
                "#B0BEC5",
                "#B0BEC5",
                "#B0BEC5",
                "#B0BEC5",
                "#B0BEC5",
                "#B0BEC5",
                "#B0BEC5",
                "#B0BEC5",
                "#B0BEC5",
                "#B0BEC5",
                "#B0BEC5",
                "#B0BEC5",
                "#B0BEC5",
                "#B0BEC5",
                "#B0BEC5",
                "#B0BEC5",
                "#B0BEC5",
                "#B0BEC5",
                "#B0BEC5",
                "#B0BEC5",
                "#B0BEC5",
                "#B0BEC5",
                "#B0BEC5",
                "#B0BEC5",
                "#B0BEC5",
                "#B0BEC5",
                "#B0BEC5",
                "red",
                "#B0BEC5",
                "#B0BEC5",
                "#B0BEC5",
                "#B0BEC5"
               ]
              ]
             }
            ],
            "label": "Topic 31",
            "method": "update"
           },
           {
            "args": [
             {
              "marker.color": [
               [
                "#B0BEC5",
                "#B0BEC5",
                "#B0BEC5",
                "#B0BEC5",
                "#B0BEC5",
                "#B0BEC5",
                "#B0BEC5",
                "#B0BEC5",
                "#B0BEC5",
                "#B0BEC5",
                "#B0BEC5",
                "#B0BEC5",
                "#B0BEC5",
                "#B0BEC5",
                "#B0BEC5",
                "#B0BEC5",
                "#B0BEC5",
                "#B0BEC5",
                "#B0BEC5",
                "#B0BEC5",
                "#B0BEC5",
                "#B0BEC5",
                "#B0BEC5",
                "#B0BEC5",
                "#B0BEC5",
                "#B0BEC5",
                "#B0BEC5",
                "#B0BEC5",
                "#B0BEC5",
                "#B0BEC5",
                "#B0BEC5",
                "#B0BEC5",
                "red",
                "#B0BEC5",
                "#B0BEC5",
                "#B0BEC5"
               ]
              ]
             }
            ],
            "label": "Topic 32",
            "method": "update"
           },
           {
            "args": [
             {
              "marker.color": [
               [
                "#B0BEC5",
                "#B0BEC5",
                "#B0BEC5",
                "#B0BEC5",
                "#B0BEC5",
                "#B0BEC5",
                "#B0BEC5",
                "#B0BEC5",
                "#B0BEC5",
                "#B0BEC5",
                "#B0BEC5",
                "#B0BEC5",
                "#B0BEC5",
                "#B0BEC5",
                "#B0BEC5",
                "#B0BEC5",
                "#B0BEC5",
                "#B0BEC5",
                "#B0BEC5",
                "#B0BEC5",
                "#B0BEC5",
                "#B0BEC5",
                "#B0BEC5",
                "#B0BEC5",
                "#B0BEC5",
                "#B0BEC5",
                "#B0BEC5",
                "#B0BEC5",
                "#B0BEC5",
                "#B0BEC5",
                "#B0BEC5",
                "#B0BEC5",
                "#B0BEC5",
                "red",
                "#B0BEC5",
                "#B0BEC5"
               ]
              ]
             }
            ],
            "label": "Topic 33",
            "method": "update"
           },
           {
            "args": [
             {
              "marker.color": [
               [
                "#B0BEC5",
                "#B0BEC5",
                "#B0BEC5",
                "#B0BEC5",
                "#B0BEC5",
                "#B0BEC5",
                "#B0BEC5",
                "#B0BEC5",
                "#B0BEC5",
                "#B0BEC5",
                "#B0BEC5",
                "#B0BEC5",
                "#B0BEC5",
                "#B0BEC5",
                "#B0BEC5",
                "#B0BEC5",
                "#B0BEC5",
                "#B0BEC5",
                "#B0BEC5",
                "#B0BEC5",
                "#B0BEC5",
                "#B0BEC5",
                "#B0BEC5",
                "#B0BEC5",
                "#B0BEC5",
                "#B0BEC5",
                "#B0BEC5",
                "#B0BEC5",
                "#B0BEC5",
                "#B0BEC5",
                "#B0BEC5",
                "#B0BEC5",
                "#B0BEC5",
                "#B0BEC5",
                "red",
                "#B0BEC5"
               ]
              ]
             }
            ],
            "label": "Topic 34",
            "method": "update"
           },
           {
            "args": [
             {
              "marker.color": [
               [
                "#B0BEC5",
                "#B0BEC5",
                "#B0BEC5",
                "#B0BEC5",
                "#B0BEC5",
                "#B0BEC5",
                "#B0BEC5",
                "#B0BEC5",
                "#B0BEC5",
                "#B0BEC5",
                "#B0BEC5",
                "#B0BEC5",
                "#B0BEC5",
                "#B0BEC5",
                "#B0BEC5",
                "#B0BEC5",
                "#B0BEC5",
                "#B0BEC5",
                "#B0BEC5",
                "#B0BEC5",
                "#B0BEC5",
                "#B0BEC5",
                "#B0BEC5",
                "#B0BEC5",
                "#B0BEC5",
                "#B0BEC5",
                "#B0BEC5",
                "#B0BEC5",
                "#B0BEC5",
                "#B0BEC5",
                "#B0BEC5",
                "#B0BEC5",
                "#B0BEC5",
                "#B0BEC5",
                "#B0BEC5",
                "red"
               ]
              ]
             }
            ],
            "label": "Topic 35",
            "method": "update"
           }
          ]
         }
        ],
        "template": {
         "data": {
          "bar": [
           {
            "error_x": {
             "color": "rgb(36,36,36)"
            },
            "error_y": {
             "color": "rgb(36,36,36)"
            },
            "marker": {
             "line": {
              "color": "white",
              "width": 0.5
             },
             "pattern": {
              "fillmode": "overlay",
              "size": 10,
              "solidity": 0.2
             }
            },
            "type": "bar"
           }
          ],
          "barpolar": [
           {
            "marker": {
             "line": {
              "color": "white",
              "width": 0.5
             },
             "pattern": {
              "fillmode": "overlay",
              "size": 10,
              "solidity": 0.2
             }
            },
            "type": "barpolar"
           }
          ],
          "carpet": [
           {
            "aaxis": {
             "endlinecolor": "rgb(36,36,36)",
             "gridcolor": "white",
             "linecolor": "white",
             "minorgridcolor": "white",
             "startlinecolor": "rgb(36,36,36)"
            },
            "baxis": {
             "endlinecolor": "rgb(36,36,36)",
             "gridcolor": "white",
             "linecolor": "white",
             "minorgridcolor": "white",
             "startlinecolor": "rgb(36,36,36)"
            },
            "type": "carpet"
           }
          ],
          "choropleth": [
           {
            "colorbar": {
             "outlinewidth": 1,
             "tickcolor": "rgb(36,36,36)",
             "ticks": "outside"
            },
            "type": "choropleth"
           }
          ],
          "contour": [
           {
            "colorbar": {
             "outlinewidth": 1,
             "tickcolor": "rgb(36,36,36)",
             "ticks": "outside"
            },
            "colorscale": [
             [
              0,
              "#440154"
             ],
             [
              0.1111111111111111,
              "#482878"
             ],
             [
              0.2222222222222222,
              "#3e4989"
             ],
             [
              0.3333333333333333,
              "#31688e"
             ],
             [
              0.4444444444444444,
              "#26828e"
             ],
             [
              0.5555555555555556,
              "#1f9e89"
             ],
             [
              0.6666666666666666,
              "#35b779"
             ],
             [
              0.7777777777777778,
              "#6ece58"
             ],
             [
              0.8888888888888888,
              "#b5de2b"
             ],
             [
              1,
              "#fde725"
             ]
            ],
            "type": "contour"
           }
          ],
          "contourcarpet": [
           {
            "colorbar": {
             "outlinewidth": 1,
             "tickcolor": "rgb(36,36,36)",
             "ticks": "outside"
            },
            "type": "contourcarpet"
           }
          ],
          "heatmap": [
           {
            "colorbar": {
             "outlinewidth": 1,
             "tickcolor": "rgb(36,36,36)",
             "ticks": "outside"
            },
            "colorscale": [
             [
              0,
              "#440154"
             ],
             [
              0.1111111111111111,
              "#482878"
             ],
             [
              0.2222222222222222,
              "#3e4989"
             ],
             [
              0.3333333333333333,
              "#31688e"
             ],
             [
              0.4444444444444444,
              "#26828e"
             ],
             [
              0.5555555555555556,
              "#1f9e89"
             ],
             [
              0.6666666666666666,
              "#35b779"
             ],
             [
              0.7777777777777778,
              "#6ece58"
             ],
             [
              0.8888888888888888,
              "#b5de2b"
             ],
             [
              1,
              "#fde725"
             ]
            ],
            "type": "heatmap"
           }
          ],
          "heatmapgl": [
           {
            "colorbar": {
             "outlinewidth": 1,
             "tickcolor": "rgb(36,36,36)",
             "ticks": "outside"
            },
            "colorscale": [
             [
              0,
              "#440154"
             ],
             [
              0.1111111111111111,
              "#482878"
             ],
             [
              0.2222222222222222,
              "#3e4989"
             ],
             [
              0.3333333333333333,
              "#31688e"
             ],
             [
              0.4444444444444444,
              "#26828e"
             ],
             [
              0.5555555555555556,
              "#1f9e89"
             ],
             [
              0.6666666666666666,
              "#35b779"
             ],
             [
              0.7777777777777778,
              "#6ece58"
             ],
             [
              0.8888888888888888,
              "#b5de2b"
             ],
             [
              1,
              "#fde725"
             ]
            ],
            "type": "heatmapgl"
           }
          ],
          "histogram": [
           {
            "marker": {
             "line": {
              "color": "white",
              "width": 0.6
             }
            },
            "type": "histogram"
           }
          ],
          "histogram2d": [
           {
            "colorbar": {
             "outlinewidth": 1,
             "tickcolor": "rgb(36,36,36)",
             "ticks": "outside"
            },
            "colorscale": [
             [
              0,
              "#440154"
             ],
             [
              0.1111111111111111,
              "#482878"
             ],
             [
              0.2222222222222222,
              "#3e4989"
             ],
             [
              0.3333333333333333,
              "#31688e"
             ],
             [
              0.4444444444444444,
              "#26828e"
             ],
             [
              0.5555555555555556,
              "#1f9e89"
             ],
             [
              0.6666666666666666,
              "#35b779"
             ],
             [
              0.7777777777777778,
              "#6ece58"
             ],
             [
              0.8888888888888888,
              "#b5de2b"
             ],
             [
              1,
              "#fde725"
             ]
            ],
            "type": "histogram2d"
           }
          ],
          "histogram2dcontour": [
           {
            "colorbar": {
             "outlinewidth": 1,
             "tickcolor": "rgb(36,36,36)",
             "ticks": "outside"
            },
            "colorscale": [
             [
              0,
              "#440154"
             ],
             [
              0.1111111111111111,
              "#482878"
             ],
             [
              0.2222222222222222,
              "#3e4989"
             ],
             [
              0.3333333333333333,
              "#31688e"
             ],
             [
              0.4444444444444444,
              "#26828e"
             ],
             [
              0.5555555555555556,
              "#1f9e89"
             ],
             [
              0.6666666666666666,
              "#35b779"
             ],
             [
              0.7777777777777778,
              "#6ece58"
             ],
             [
              0.8888888888888888,
              "#b5de2b"
             ],
             [
              1,
              "#fde725"
             ]
            ],
            "type": "histogram2dcontour"
           }
          ],
          "mesh3d": [
           {
            "colorbar": {
             "outlinewidth": 1,
             "tickcolor": "rgb(36,36,36)",
             "ticks": "outside"
            },
            "type": "mesh3d"
           }
          ],
          "parcoords": [
           {
            "line": {
             "colorbar": {
              "outlinewidth": 1,
              "tickcolor": "rgb(36,36,36)",
              "ticks": "outside"
             }
            },
            "type": "parcoords"
           }
          ],
          "pie": [
           {
            "automargin": true,
            "type": "pie"
           }
          ],
          "scatter": [
           {
            "fillpattern": {
             "fillmode": "overlay",
             "size": 10,
             "solidity": 0.2
            },
            "type": "scatter"
           }
          ],
          "scatter3d": [
           {
            "line": {
             "colorbar": {
              "outlinewidth": 1,
              "tickcolor": "rgb(36,36,36)",
              "ticks": "outside"
             }
            },
            "marker": {
             "colorbar": {
              "outlinewidth": 1,
              "tickcolor": "rgb(36,36,36)",
              "ticks": "outside"
             }
            },
            "type": "scatter3d"
           }
          ],
          "scattercarpet": [
           {
            "marker": {
             "colorbar": {
              "outlinewidth": 1,
              "tickcolor": "rgb(36,36,36)",
              "ticks": "outside"
             }
            },
            "type": "scattercarpet"
           }
          ],
          "scattergeo": [
           {
            "marker": {
             "colorbar": {
              "outlinewidth": 1,
              "tickcolor": "rgb(36,36,36)",
              "ticks": "outside"
             }
            },
            "type": "scattergeo"
           }
          ],
          "scattergl": [
           {
            "marker": {
             "colorbar": {
              "outlinewidth": 1,
              "tickcolor": "rgb(36,36,36)",
              "ticks": "outside"
             }
            },
            "type": "scattergl"
           }
          ],
          "scattermapbox": [
           {
            "marker": {
             "colorbar": {
              "outlinewidth": 1,
              "tickcolor": "rgb(36,36,36)",
              "ticks": "outside"
             }
            },
            "type": "scattermapbox"
           }
          ],
          "scatterpolar": [
           {
            "marker": {
             "colorbar": {
              "outlinewidth": 1,
              "tickcolor": "rgb(36,36,36)",
              "ticks": "outside"
             }
            },
            "type": "scatterpolar"
           }
          ],
          "scatterpolargl": [
           {
            "marker": {
             "colorbar": {
              "outlinewidth": 1,
              "tickcolor": "rgb(36,36,36)",
              "ticks": "outside"
             }
            },
            "type": "scatterpolargl"
           }
          ],
          "scatterternary": [
           {
            "marker": {
             "colorbar": {
              "outlinewidth": 1,
              "tickcolor": "rgb(36,36,36)",
              "ticks": "outside"
             }
            },
            "type": "scatterternary"
           }
          ],
          "surface": [
           {
            "colorbar": {
             "outlinewidth": 1,
             "tickcolor": "rgb(36,36,36)",
             "ticks": "outside"
            },
            "colorscale": [
             [
              0,
              "#440154"
             ],
             [
              0.1111111111111111,
              "#482878"
             ],
             [
              0.2222222222222222,
              "#3e4989"
             ],
             [
              0.3333333333333333,
              "#31688e"
             ],
             [
              0.4444444444444444,
              "#26828e"
             ],
             [
              0.5555555555555556,
              "#1f9e89"
             ],
             [
              0.6666666666666666,
              "#35b779"
             ],
             [
              0.7777777777777778,
              "#6ece58"
             ],
             [
              0.8888888888888888,
              "#b5de2b"
             ],
             [
              1,
              "#fde725"
             ]
            ],
            "type": "surface"
           }
          ],
          "table": [
           {
            "cells": {
             "fill": {
              "color": "rgb(237,237,237)"
             },
             "line": {
              "color": "white"
             }
            },
            "header": {
             "fill": {
              "color": "rgb(217,217,217)"
             },
             "line": {
              "color": "white"
             }
            },
            "type": "table"
           }
          ]
         },
         "layout": {
          "annotationdefaults": {
           "arrowhead": 0,
           "arrowwidth": 1
          },
          "autotypenumbers": "strict",
          "coloraxis": {
           "colorbar": {
            "outlinewidth": 1,
            "tickcolor": "rgb(36,36,36)",
            "ticks": "outside"
           }
          },
          "colorscale": {
           "diverging": [
            [
             0,
             "rgb(103,0,31)"
            ],
            [
             0.1,
             "rgb(178,24,43)"
            ],
            [
             0.2,
             "rgb(214,96,77)"
            ],
            [
             0.3,
             "rgb(244,165,130)"
            ],
            [
             0.4,
             "rgb(253,219,199)"
            ],
            [
             0.5,
             "rgb(247,247,247)"
            ],
            [
             0.6,
             "rgb(209,229,240)"
            ],
            [
             0.7,
             "rgb(146,197,222)"
            ],
            [
             0.8,
             "rgb(67,147,195)"
            ],
            [
             0.9,
             "rgb(33,102,172)"
            ],
            [
             1,
             "rgb(5,48,97)"
            ]
           ],
           "sequential": [
            [
             0,
             "#440154"
            ],
            [
             0.1111111111111111,
             "#482878"
            ],
            [
             0.2222222222222222,
             "#3e4989"
            ],
            [
             0.3333333333333333,
             "#31688e"
            ],
            [
             0.4444444444444444,
             "#26828e"
            ],
            [
             0.5555555555555556,
             "#1f9e89"
            ],
            [
             0.6666666666666666,
             "#35b779"
            ],
            [
             0.7777777777777778,
             "#6ece58"
            ],
            [
             0.8888888888888888,
             "#b5de2b"
            ],
            [
             1,
             "#fde725"
            ]
           ],
           "sequentialminus": [
            [
             0,
             "#440154"
            ],
            [
             0.1111111111111111,
             "#482878"
            ],
            [
             0.2222222222222222,
             "#3e4989"
            ],
            [
             0.3333333333333333,
             "#31688e"
            ],
            [
             0.4444444444444444,
             "#26828e"
            ],
            [
             0.5555555555555556,
             "#1f9e89"
            ],
            [
             0.6666666666666666,
             "#35b779"
            ],
            [
             0.7777777777777778,
             "#6ece58"
            ],
            [
             0.8888888888888888,
             "#b5de2b"
            ],
            [
             1,
             "#fde725"
            ]
           ]
          },
          "colorway": [
           "#1F77B4",
           "#FF7F0E",
           "#2CA02C",
           "#D62728",
           "#9467BD",
           "#8C564B",
           "#E377C2",
           "#7F7F7F",
           "#BCBD22",
           "#17BECF"
          ],
          "font": {
           "color": "rgb(36,36,36)"
          },
          "geo": {
           "bgcolor": "white",
           "lakecolor": "white",
           "landcolor": "white",
           "showlakes": true,
           "showland": true,
           "subunitcolor": "white"
          },
          "hoverlabel": {
           "align": "left"
          },
          "hovermode": "closest",
          "mapbox": {
           "style": "light"
          },
          "paper_bgcolor": "white",
          "plot_bgcolor": "white",
          "polar": {
           "angularaxis": {
            "gridcolor": "rgb(232,232,232)",
            "linecolor": "rgb(36,36,36)",
            "showgrid": false,
            "showline": true,
            "ticks": "outside"
           },
           "bgcolor": "white",
           "radialaxis": {
            "gridcolor": "rgb(232,232,232)",
            "linecolor": "rgb(36,36,36)",
            "showgrid": false,
            "showline": true,
            "ticks": "outside"
           }
          },
          "scene": {
           "xaxis": {
            "backgroundcolor": "white",
            "gridcolor": "rgb(232,232,232)",
            "gridwidth": 2,
            "linecolor": "rgb(36,36,36)",
            "showbackground": true,
            "showgrid": false,
            "showline": true,
            "ticks": "outside",
            "zeroline": false,
            "zerolinecolor": "rgb(36,36,36)"
           },
           "yaxis": {
            "backgroundcolor": "white",
            "gridcolor": "rgb(232,232,232)",
            "gridwidth": 2,
            "linecolor": "rgb(36,36,36)",
            "showbackground": true,
            "showgrid": false,
            "showline": true,
            "ticks": "outside",
            "zeroline": false,
            "zerolinecolor": "rgb(36,36,36)"
           },
           "zaxis": {
            "backgroundcolor": "white",
            "gridcolor": "rgb(232,232,232)",
            "gridwidth": 2,
            "linecolor": "rgb(36,36,36)",
            "showbackground": true,
            "showgrid": false,
            "showline": true,
            "ticks": "outside",
            "zeroline": false,
            "zerolinecolor": "rgb(36,36,36)"
           }
          },
          "shapedefaults": {
           "fillcolor": "black",
           "line": {
            "width": 0
           },
           "opacity": 0.3
          },
          "ternary": {
           "aaxis": {
            "gridcolor": "rgb(232,232,232)",
            "linecolor": "rgb(36,36,36)",
            "showgrid": false,
            "showline": true,
            "ticks": "outside"
           },
           "baxis": {
            "gridcolor": "rgb(232,232,232)",
            "linecolor": "rgb(36,36,36)",
            "showgrid": false,
            "showline": true,
            "ticks": "outside"
           },
           "bgcolor": "white",
           "caxis": {
            "gridcolor": "rgb(232,232,232)",
            "linecolor": "rgb(36,36,36)",
            "showgrid": false,
            "showline": true,
            "ticks": "outside"
           }
          },
          "title": {
           "x": 0.05
          },
          "xaxis": {
           "automargin": true,
           "gridcolor": "rgb(232,232,232)",
           "linecolor": "rgb(36,36,36)",
           "showgrid": false,
           "showline": true,
           "ticks": "outside",
           "title": {
            "standoff": 15
           },
           "zeroline": false,
           "zerolinecolor": "rgb(36,36,36)"
          },
          "yaxis": {
           "automargin": true,
           "gridcolor": "rgb(232,232,232)",
           "linecolor": "rgb(36,36,36)",
           "showgrid": false,
           "showline": true,
           "ticks": "outside",
           "title": {
            "standoff": 15
           },
           "zeroline": false,
           "zerolinecolor": "rgb(36,36,36)"
          }
         }
        },
        "title": {
         "font": {
          "color": "Black",
          "size": 22
         },
         "text": "<b>Intertopic Distance Map</b>",
         "x": 0.5,
         "xanchor": "center",
         "y": 0.95,
         "yanchor": "top"
        },
        "width": 650,
        "xaxis": {
         "anchor": "y",
         "domain": [
          0,
          1
         ],
         "range": [
          -7.121562123298645,
          30.50417070388794
         ],
         "title": {
          "text": ""
         },
         "visible": false
        },
        "yaxis": {
         "anchor": "x",
         "domain": [
          0,
          1
         ],
         "range": [
          -13.527074384689332,
          18.274909687042236
         ],
         "title": {
          "text": ""
         },
         "visible": false
        }
       }
      }
     },
     "metadata": {},
     "output_type": "display_data"
    }
   ],
   "source": [
    "topic_model.visualize_topics()"
   ]
  }
 ],
 "metadata": {
  "kernelspec": {
   "display_name": "Python 3",
   "language": "python",
   "name": "python3"
  },
  "language_info": {
   "codemirror_mode": {
    "name": "ipython",
    "version": 3
   },
   "file_extension": ".py",
   "mimetype": "text/x-python",
   "name": "python",
   "nbconvert_exporter": "python",
   "pygments_lexer": "ipython3",
   "version": "3.11.1"
  }
 },
 "nbformat": 4,
 "nbformat_minor": 2
}
