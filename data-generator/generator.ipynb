{
 "cells": [
  {
   "cell_type": "code",
   "execution_count": 6,
   "metadata": {},
   "outputs": [],
   "source": [
    "import pandas as pd\n",
    "import numpy as np\n",
    "from datetime import timedelta"
   ]
  },
  {
   "cell_type": "code",
   "execution_count": 7,
   "metadata": {},
   "outputs": [],
   "source": [
    "def generate_fake_data(real_data: pd.DataFrame, num_days: int) -> pd.DataFrame:\n",
    "    # Fixed values for traffic_rate\n",
    "    TRAFFIC_RATE_VALUES = np.array([0.0, 0.1, 0.25, 0.5, 0.75, 1.0])\n",
    "    \n",
    "    # Ensure the 'date' column is in datetime format\n",
    "    real_data[\"date\"] = pd.to_datetime(real_data[\"date\"])\n",
    "\n",
    "    # Create a date range for the synthetic data\n",
    "    start_date = real_data[\"date\"].max() + timedelta(days=1)\n",
    "    end_date = start_date + timedelta(days=num_days - 1)\n",
    "    date_range = pd.date_range(start=start_date, end=end_date)\n",
    "\n",
    "    # Initialize lists to hold synthetic data\n",
    "    synthetic_data = {\n",
    "        \"date\": [],\n",
    "        \"general_label\": [],\n",
    "        \"traffic_rate\": [],\n",
    "        \"total_traffic\": [],\n",
    "    }\n",
    "\n",
    "    # Get the general label from the real data\n",
    "    general_label = real_data[\"general_label\"].iloc[0]\n",
    "\n",
    "    # Calculate mean and standard deviation for traffic_rate and total_traffic\n",
    "    mean_traffic_rate = real_data[\"traffic_rate\"].mean()\n",
    "    std_traffic_rate = real_data[\"traffic_rate\"].std()\n",
    "    mean_total_traffic = real_data[\"total_traffic\"].mean()\n",
    "    std_total_traffic = real_data[\"total_traffic\"].std()\n",
    "\n",
    "    # Generate synthetic data\n",
    "    for date in date_range:\n",
    "        # Generate traffic rate with some seasonal variation\n",
    "        seasonal_variation = np.sin(2 * np.pi * (date.dayofyear / 365))\n",
    "        \n",
    "        # Generate continuous traffic rate\n",
    "        continuous_rate = np.clip(\n",
    "            np.random.normal(mean_traffic_rate + seasonal_variation * 0.1, std_traffic_rate * 0.5),\n",
    "            0,\n",
    "            1\n",
    "        )\n",
    "        \n",
    "        # Round to nearest fixed value\n",
    "        traffic_rate = TRAFFIC_RATE_VALUES[np.abs(TRAFFIC_RATE_VALUES - continuous_rate).argmin()]\n",
    "\n",
    "        # Generate total traffic based on traffic rate\n",
    "        if traffic_rate == 0.0:\n",
    "            total_traffic = 0.0\n",
    "        else:\n",
    "            # Generate base traffic value\n",
    "            base_traffic = np.clip(\n",
    "                np.random.normal(mean_total_traffic * traffic_rate, std_total_traffic * 0.5),\n",
    "                1000,  # Minimum value when traffic rate is not 0\n",
    "                None\n",
    "            )\n",
    "            # Round to nearest 10000\n",
    "            total_traffic = round(base_traffic / 10000) * 10000\n",
    "\n",
    "        # Append the generated data\n",
    "        synthetic_data[\"date\"].append(date)\n",
    "        synthetic_data[\"general_label\"].append(general_label)\n",
    "        synthetic_data[\"traffic_rate\"].append(traffic_rate)\n",
    "        synthetic_data[\"total_traffic\"].append(total_traffic)\n",
    "\n",
    "    # Create a DataFrame from the synthetic data\n",
    "    synthetic_df = pd.DataFrame(synthetic_data)\n",
    "\n",
    "    return synthetic_df"
   ]
  },
  {
   "cell_type": "code",
   "execution_count": 8,
   "metadata": {},
   "outputs": [
    {
     "name": "stdout",
     "output_type": "stream",
     "text": [
      "testing generate_fake_data:          date  general_label  traffic_rate  total_traffic\n",
      "0 2017-05-05  Entertainment          0.25              0\n",
      "1 2017-05-06  Entertainment          0.10              0\n",
      "2 2017-05-07  Entertainment          0.10              0\n",
      "3 2017-05-08  Entertainment          0.25          10000\n",
      "4 2017-05-09  Entertainment          0.10              0\n",
      "5 2017-05-10  Entertainment          0.25              0\n",
      "6 2017-05-11  Entertainment          0.10          10000\n",
      "7 2017-05-12  Entertainment          0.10              0\n",
      "8 2017-05-13  Entertainment          0.10          10000\n",
      "9 2017-05-14  Entertainment          0.10              0\n"
     ]
    }
   ],
   "source": [
    "path = f\"../Classification/output/regions/africa/genral_labeled_data_with_relative_traffic_rates/Entertainment/real_data/Kenya_with_relative_traffic_rates.csv\"\n",
    "df = pd.read_csv(path)\n",
    "\n",
    "fake_data = generate_fake_data(df, 10)\n",
    "\n",
    "print(\"testing generate_fake_data: \", fake_data)"
   ]
  }
 ],
 "metadata": {
  "kernelspec": {
   "display_name": "Python 3",
   "language": "python",
   "name": "python3"
  },
  "language_info": {
   "codemirror_mode": {
    "name": "ipython",
    "version": 3
   },
   "file_extension": ".py",
   "mimetype": "text/x-python",
   "name": "python",
   "nbconvert_exporter": "python",
   "pygments_lexer": "ipython3",
   "version": "3.11.1"
  }
 },
 "nbformat": 4,
 "nbformat_minor": 2
}
